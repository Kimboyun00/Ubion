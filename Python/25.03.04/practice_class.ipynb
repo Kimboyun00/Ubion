{
 "cells": [
  {
   "cell_type": "markdown",
   "metadata": {},
   "source": [
    "### class 선언\n",
    "- class의 이름은 User\n",
    "    - 해당하는 클래스는 생성자 함수 생성\n",
    "        - 유저의 기본정보를 변수에 등록하는 함수\n",
    "        - 매개변수는 3개\n",
    "            - _name : 유저의 이름\n",
    "            - _loc : 유저가 거주하는 지역\n",
    "            - _birth : 유저의 생년월일\n",
    "    - user_info 함수를 생성\n",
    "        - 등록된 객체 변수를 출력하는 함수\n",
    "\n",
    "- class의 이름은 Wallet 클래스를 선언\n",
    "    - 생성자 함수\n",
    "        - 매개변수 4개\n",
    "            - _name : 지갑의 소유자의 이름\n",
    "            - _loc : 유저가 거주하는 지역\n",
    "            - _birth : 유저의 생년월일\n",
    "            - _balance : 지갑의 잔액\n",
    "    - work() 함수\n",
    "        - 매개변수 1개\n",
    "            - _cost : 금액\n",
    "        - 지갑의 잔액을 _cost만큼 증가\n",
    "    - buy() 함수\n",
    "        - 매개변수 1개\n",
    "            - _cost : 금액\n",
    "        - 지갑의 잔액을 _cost만큼 감소\n",
    "            - 조건 : 지갑의 잔액이 _cost보다 크거나 같은 경우에만"
   ]
  },
  {
   "cell_type": "code",
   "execution_count": 513,
   "metadata": {},
   "outputs": [],
   "source": [
    "# User class 선언\n",
    "class User:\n",
    "\n",
    "    # 생성자 함수\n",
    "    def __init__(self, _name, _loc, _birth):\n",
    "        print(\"User class\")\n",
    "        self.name = _name\n",
    "        self.loc = _loc\n",
    "        self.birth = _birth\n",
    "\n",
    "    # 유저의 정보를 출력하는 함수\n",
    "    def user_info(self):\n",
    "        print(\n",
    "            f\"\"\"\n",
    "            유저의 이름 : {self.name} \\n\n",
    "            유저의 지역 : {self.loc} \\n\n",
    "            유저의 생년월일 : {self.birth} \"\"\"\n",
    "        )\n"
   ]
  },
  {
   "cell_type": "code",
   "execution_count": 514,
   "metadata": {},
   "outputs": [
    {
     "name": "stdout",
     "output_type": "stream",
     "text": [
      "User class\n",
      "User class\n"
     ]
    }
   ],
   "source": [
    "user1 = User('kim', 'busan', \"900101\")\n",
    "user2 = User('park', 'seoul', \"951010\")"
   ]
  },
  {
   "cell_type": "code",
   "execution_count": 515,
   "metadata": {},
   "outputs": [
    {
     "name": "stdout",
     "output_type": "stream",
     "text": [
      "\n",
      "            유저의 이름 : kim \n",
      "\n",
      "            유저의 지역 : busan \n",
      "\n",
      "            유저의 생년월일 : 900101 \n"
     ]
    }
   ],
   "source": [
    "user1.user_info()"
   ]
  },
  {
   "cell_type": "code",
   "execution_count": 516,
   "metadata": {},
   "outputs": [
    {
     "name": "stdout",
     "output_type": "stream",
     "text": [
      "\n",
      "            유저의 이름 : park \n",
      "\n",
      "            유저의 지역 : seoul \n",
      "\n",
      "            유저의 생년월일 : 951010 \n"
     ]
    }
   ],
   "source": [
    "user2.user_info()"
   ]
  },
  {
   "cell_type": "code",
   "execution_count": 517,
   "metadata": {},
   "outputs": [],
   "source": [
    "class Wallet(User):\n",
    "\n",
    "    def __init__(self, _name, _loc, _birth, _balance):\n",
    "        print(\"Wallet class\")\n",
    "        # self.name = _name\n",
    "        # self.loc = _loc\n",
    "        # self.birth = _birth\n",
    "        # 부모클래스(User)의 생성자 함수를 호출\n",
    "        super().__init__(_name, _loc, _birth)\n",
    "        self.balance = _balance\n",
    "\n",
    "    # # 유저의 정보를 출력하는 함수\n",
    "    # def user_info(self):\n",
    "    #     print(\n",
    "    #         f\"\"\"\n",
    "    #         유저의 이름 : {self.name} \\n\n",
    "    #         유저의 지역 : {self.loc} \\n\n",
    "    #         유저의 생년월일 : {self.birth} \"\"\"\n",
    "    #     )\n",
    "\n",
    "    def work(self, _cost):\n",
    "        # 지갑의 잔액을 증가\n",
    "        self.balance += _cost\n",
    "        print(f\"현재 지갑의 잔액은 {self.balance}원 입니다.\")\n",
    "\n",
    "    def buy(self, _cost):\n",
    "        # 지갑의 잔액이 감소\n",
    "        # 조건식 : 현재 지갑의 잔액이 _cost보다 크거나 같은 경우에만\n",
    "        if self.balance >= _cost:\n",
    "            self.balance -= _cost\n",
    "            print(f\"현재 지갑의 잔액은 {self.balance}원 입니다.\")\n",
    "        else:\n",
    "            print(f\"지갑에 잔액이 부족합니다.\")"
   ]
  },
  {
   "cell_type": "code",
   "execution_count": 518,
   "metadata": {},
   "outputs": [
    {
     "name": "stdout",
     "output_type": "stream",
     "text": [
      "Wallet class\n",
      "User class\n",
      "Wallet class\n",
      "User class\n"
     ]
    }
   ],
   "source": [
    "wallet1 = Wallet('kim', 'busan', \"900101\", 0)\n",
    "wallet2 = Wallet('park', 'seoul', \"951010\", 0)"
   ]
  },
  {
   "cell_type": "code",
   "execution_count": 519,
   "metadata": {},
   "outputs": [
    {
     "name": "stdout",
     "output_type": "stream",
     "text": [
      "현재 지갑의 잔액은 1000000원 입니다.\n"
     ]
    }
   ],
   "source": [
    "wallet1.work(1000000)"
   ]
  },
  {
   "cell_type": "code",
   "execution_count": 520,
   "metadata": {},
   "outputs": [
    {
     "name": "stdout",
     "output_type": "stream",
     "text": [
      "1000000\n",
      "0\n"
     ]
    }
   ],
   "source": [
    "print(wallet1.balance)\n",
    "print(wallet2.balance)"
   ]
  },
  {
   "cell_type": "code",
   "execution_count": 521,
   "metadata": {},
   "outputs": [
    {
     "name": "stdout",
     "output_type": "stream",
     "text": [
      "현재 지갑의 잔액은 500000원 입니다.\n"
     ]
    }
   ],
   "source": [
    "wallet1.buy(500000)"
   ]
  },
  {
   "cell_type": "code",
   "execution_count": 522,
   "metadata": {},
   "outputs": [
    {
     "name": "stdout",
     "output_type": "stream",
     "text": [
      "지갑에 잔액이 부족합니다.\n"
     ]
    }
   ],
   "source": [
    "wallet2.buy(100000)"
   ]
  },
  {
   "cell_type": "code",
   "execution_count": null,
   "metadata": {},
   "outputs": [],
   "source": [
    "# 내가 구매한 물건의 목록을 생성해주는 class 선언\n",
    "# Wallet class와 User class의 기능을 상속받아서 선언\n",
    "class Shopping(Wallet):\n",
    "    # 구매를 성공한 물품들의 목록을 저장해두는 class\n",
    "\n",
    "    def __init__(self, _name, _loc, _birth, _balance):\n",
    "        print(\"Shopping class\")\n",
    "        # Wallet class의 생성자 함수를 호출\n",
    "        super().__init__(_name, _loc, _birth, _balance)\n",
    "        # 구매한 물품의 목록을 추가하기 위한 비어있는 리스트가 저장될 변수를 생성\n",
    "        self.item_list = []\n",
    "\n",
    "    # 물건을 구매 시도 후 성공하면 물건의 이름을 item_list에 추가하는 함수\n",
    "        # 물건을 선택 -> 물건의 이름을 입력\n",
    "        # 비용을 지불 -> 지갑의 잔액이 차감 -> Wallet의 buy()\n",
    "        # 성공한다면 -> item_list에 물건의 이름을 추가\n",
    "        # 실패한다면 -> 아무행동도 하지 않는다. \n",
    "    def buy_item(self, item_name, item_cost):\n",
    "        # 현재 지갑의 잔액을 젼수에 저장\n",
    "        balance1 = self.balance\n",
    "        # Wallet class에 buy() 호출\n",
    "        super().buy(item_cost)\n",
    "        # buy() 함수가 실행되고 난 뒤 지갑의 잔액을 변수에 저장 \n",
    "        balance2 = self.balance\n",
    "        # buy() 함수 실행전 잔액과 실행 후 잔액이 같지 않다면 -> 구매 성공\n",
    "        # -> item_list에 item_list를 추가\n",
    "        if balance1 != balance2:\n",
    "            self.item_list.append(item_name)\n",
    "            print(f\"{item_name} 물건을 구매 성공\")\n",
    "            print(f\"구매한 물품의 목록은 {self.item_list}\")\n",
    "        else:\n",
    "            print(f\"{item_name}의 구매를 실패\")"
   ]
  },
  {
   "cell_type": "code",
   "execution_count": 524,
   "metadata": {},
   "outputs": [
    {
     "name": "stdout",
     "output_type": "stream",
     "text": [
      "Shopping class\n",
      "Wallet class\n",
      "User class\n",
      "Shopping class\n",
      "Wallet class\n",
      "User class\n"
     ]
    }
   ],
   "source": [
    "shoper1 = Shopping('kim', 'busan', '900101', 0)\n",
    "shoper2 = Shopping('park', 'seoul', '951010', 0)"
   ]
  },
  {
   "cell_type": "code",
   "execution_count": 525,
   "metadata": {},
   "outputs": [
    {
     "name": "stdout",
     "output_type": "stream",
     "text": [
      "현재 지갑의 잔액은 1000000원 입니다.\n",
      "현재 지갑의 잔액은 5000000원 입니다.\n"
     ]
    }
   ],
   "source": [
    "# 지갑의 잔액을 증가시키는 work() 호출\n",
    "shoper1.work(1000000)\n",
    "shoper2.work(5000000)"
   ]
  },
  {
   "cell_type": "code",
   "execution_count": 526,
   "metadata": {},
   "outputs": [
    {
     "name": "stdout",
     "output_type": "stream",
     "text": [
      "현재 지갑의 잔액은 4950000원 입니다.\n"
     ]
    }
   ],
   "source": [
    "# buy() 호출\n",
    "shoper2.buy(50000)"
   ]
  },
  {
   "cell_type": "code",
   "execution_count": 527,
   "metadata": {},
   "outputs": [
    {
     "name": "stdout",
     "output_type": "stream",
     "text": [
      "\n",
      "            유저의 이름 : kim \n",
      "\n",
      "            유저의 지역 : busan \n",
      "\n",
      "            유저의 생년월일 : 900101 \n"
     ]
    }
   ],
   "source": [
    "shoper1.user_info()"
   ]
  },
  {
   "cell_type": "code",
   "execution_count": null,
   "metadata": {},
   "outputs": [
    {
     "name": "stdout",
     "output_type": "stream",
     "text": [
      "현재 지갑의 잔액은 990000원 입니다.\n",
      "점심값 물건을 구매 성공\n",
      "구매한 물품의 목록은 ['점심값']\n"
     ]
    }
   ],
   "source": [
    "# buy_item() 호출\n",
    "shoper1.buy_item('점심값', 10000)"
   ]
  },
  {
   "cell_type": "code",
   "execution_count": 533,
   "metadata": {},
   "outputs": [
    {
     "name": "stdout",
     "output_type": "stream",
     "text": [
      "현재 지갑의 잔액은 88500000원 입니다.\n",
      "맥스튜디오 물건을 구매 성공\n",
      "구매한 물품의 목록은 ['맥스튜디오']\n"
     ]
    }
   ],
   "source": [
    "shoper2.buy_item('맥스튜디오', 11500000)"
   ]
  },
  {
   "cell_type": "code",
   "execution_count": 532,
   "metadata": {},
   "outputs": [],
   "source": [
    "shoper2.balance = 100000000"
   ]
  },
  {
   "cell_type": "code",
   "execution_count": null,
   "metadata": {},
   "outputs": [],
   "source": []
  }
 ],
 "metadata": {
  "kernelspec": {
   "display_name": "Python 3",
   "language": "python",
   "name": "python3"
  },
  "language_info": {
   "codemirror_mode": {
    "name": "ipython",
    "version": 3
   },
   "file_extension": ".py",
   "mimetype": "text/x-python",
   "name": "python",
   "nbconvert_exporter": "python",
   "pygments_lexer": "ipython3",
   "version": "3.11.0"
  }
 },
 "nbformat": 4,
 "nbformat_minor": 2
}
