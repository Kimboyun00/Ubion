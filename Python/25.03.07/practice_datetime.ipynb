{
 "cells": [
  {
   "cell_type": "markdown",
   "metadata": {},
   "source": [
    "#### 시계열데이터 \n",
    "- type\n",
    "    - 년도 표시(4자리수) : %Y\n",
    "    - 년도 표시(2자리수) : %y\n",
    "    - 월을 숫자로 표시 : %m\n",
    "    - 월의 이름을 표시 : %B\n",
    "    - 월의 이름을 축약해서 표시 : %b\n",
    "    - 일을 숫자로 표시 : %d\n",
    "    - 시를 24시 기준으로 표시 : %H\n",
    "    - 시를 12시 기준으로 표시 : %I\n",
    "    - AM/PM을 표시 : %p\n",
    "    - 분을 숫자로 표시 : %M\n",
    "    - 초를 숫자로 표시 : %S\n",
    "    - 요일을 이름으로 표시 : %A\n",
    "    - 요일을 축약해서 이름으로 표시 : %a\n",
    "    - 요일을 숫자로 표시 : %w ( 0 : 일, ... , 6 : 토 )"
   ]
  },
  {
   "cell_type": "code",
   "execution_count": 1,
   "metadata": {},
   "outputs": [],
   "source": [
    "from datetime import datetime"
   ]
  },
  {
   "cell_type": "code",
   "execution_count": 2,
   "metadata": {},
   "outputs": [],
   "source": [
    "time_text = '2025-03-07'"
   ]
  },
  {
   "cell_type": "code",
   "execution_count": 3,
   "metadata": {},
   "outputs": [
    {
     "data": {
      "text/plain": [
       "str"
      ]
     },
     "execution_count": 3,
     "metadata": {},
     "output_type": "execute_result"
    }
   ],
   "source": [
    "type(time_text)"
   ]
  },
  {
   "cell_type": "code",
   "execution_count": 4,
   "metadata": {},
   "outputs": [
    {
     "name": "stdout",
     "output_type": "stream",
     "text": [
      "2025-03-07 00:00:00\n",
      "2025-03-07\n"
     ]
    }
   ],
   "source": [
    "# 문자열데이터를 시계열 데이터로 변경\n",
    "time_data = datetime.strptime(time_text, '%Y-%m-%d')\n",
    "print(time_data)\n",
    "print(time_text)"
   ]
  },
  {
   "cell_type": "code",
   "execution_count": 5,
   "metadata": {},
   "outputs": [
    {
     "name": "stdout",
     "output_type": "stream",
     "text": [
      "<class 'datetime.datetime'>\n"
     ]
    }
   ],
   "source": [
    "print(type(time_data))"
   ]
  },
  {
   "cell_type": "code",
   "execution_count": 6,
   "metadata": {},
   "outputs": [
    {
     "data": {
      "text/plain": [
       "'25/03/07'"
      ]
     },
     "execution_count": 6,
     "metadata": {},
     "output_type": "execute_result"
    }
   ],
   "source": [
    "# 시계열 데이터를 문자열 데이터로 변경\n",
    "time_data.strftime('%y/%m/%d')"
   ]
  },
  {
   "cell_type": "code",
   "execution_count": 7,
   "metadata": {},
   "outputs": [
    {
     "data": {
      "text/plain": [
       "'03월'"
      ]
     },
     "execution_count": 7,
     "metadata": {},
     "output_type": "execute_result"
    }
   ],
   "source": [
    "time_data.strftime('%m월')"
   ]
  },
  {
   "cell_type": "code",
   "execution_count": 8,
   "metadata": {},
   "outputs": [
    {
     "data": {
      "text/plain": [
       "'5'"
      ]
     },
     "execution_count": 8,
     "metadata": {},
     "output_type": "execute_result"
    }
   ],
   "source": [
    "time_data.strftime('%w')"
   ]
  },
  {
   "cell_type": "code",
   "execution_count": 9,
   "metadata": {},
   "outputs": [
    {
     "data": {
      "text/plain": [
       "'Fri'"
      ]
     },
     "execution_count": 9,
     "metadata": {},
     "output_type": "execute_result"
    }
   ],
   "source": [
    "time_data.strftime('%a')"
   ]
  },
  {
   "cell_type": "code",
   "execution_count": 10,
   "metadata": {},
   "outputs": [],
   "source": [
    "import pandas as pd"
   ]
  },
  {
   "cell_type": "code",
   "execution_count": 11,
   "metadata": {},
   "outputs": [
    {
     "data": {
      "text/plain": [
       "Timestamp('1970-01-01 00:00:00.000100')"
      ]
     },
     "execution_count": 11,
     "metadata": {},
     "output_type": "execute_result"
    }
   ],
   "source": [
    "# pandas에서 제공하는 시계열 데이터\n",
    "pd.Timestamp(100000) # 나노초 단위로 시간을 구한다."
   ]
  },
  {
   "cell_type": "code",
   "execution_count": 12,
   "metadata": {},
   "outputs": [
    {
     "data": {
      "text/plain": [
       "Timestamp('1970-04-11 00:00:00')"
      ]
     },
     "execution_count": 12,
     "metadata": {},
     "output_type": "execute_result"
    }
   ],
   "source": [
    "pd.Timestamp(100, unit='D')"
   ]
  },
  {
   "cell_type": "code",
   "execution_count": 13,
   "metadata": {},
   "outputs": [
    {
     "data": {
      "text/plain": [
       "Timestamp('1998-03-07 00:00:00')"
      ]
     },
     "execution_count": 13,
     "metadata": {},
     "output_type": "execute_result"
    }
   ],
   "source": [
    "pd.Timestamp('98-03-07')"
   ]
  },
  {
   "cell_type": "code",
   "execution_count": 14,
   "metadata": {},
   "outputs": [
    {
     "data": {
      "text/plain": [
       "Timestamp('2016-01-01 00:00:00')"
      ]
     },
     "execution_count": 14,
     "metadata": {},
     "output_type": "execute_result"
    }
   ],
   "source": [
    "pd.Timestamp('2016-01')"
   ]
  },
  {
   "cell_type": "code",
   "execution_count": 15,
   "metadata": {},
   "outputs": [],
   "source": [
    "time_data2 = pd.to_datetime('2025년03월07일', format='%Y년%m월%d일')"
   ]
  },
  {
   "cell_type": "code",
   "execution_count": 16,
   "metadata": {},
   "outputs": [],
   "source": [
    "time_data3 = pd.Timestamp(1, unit='D')"
   ]
  },
  {
   "cell_type": "code",
   "execution_count": 17,
   "metadata": {},
   "outputs": [
    {
     "data": {
      "text/plain": [
       "Timedelta('20153 days 00:00:00')"
      ]
     },
     "execution_count": 17,
     "metadata": {},
     "output_type": "execute_result"
    }
   ],
   "source": [
    "time_data2 - time_data3"
   ]
  },
  {
   "cell_type": "code",
   "execution_count": 18,
   "metadata": {},
   "outputs": [
    {
     "data": {
      "text/plain": [
       "Timedelta('3 days 00:00:00')"
      ]
     },
     "execution_count": 18,
     "metadata": {},
     "output_type": "execute_result"
    }
   ],
   "source": [
    "pd.Timedelta(\"3 days\")"
   ]
  },
  {
   "cell_type": "code",
   "execution_count": 19,
   "metadata": {},
   "outputs": [
    {
     "data": {
      "text/plain": [
       "Timestamp('2025-03-04 00:00:00')"
      ]
     },
     "execution_count": 19,
     "metadata": {},
     "output_type": "execute_result"
    }
   ],
   "source": [
    "time_data2 - pd.Timedelta('3 days')"
   ]
  },
  {
   "cell_type": "code",
   "execution_count": 20,
   "metadata": {},
   "outputs": [
    {
     "data": {
      "text/plain": [
       "Timestamp('2025-02-05 00:00:00')"
      ]
     },
     "execution_count": 20,
     "metadata": {},
     "output_type": "execute_result"
    }
   ],
   "source": [
    "time_data2 - pd.Timedelta(days=30)"
   ]
  },
  {
   "cell_type": "code",
   "execution_count": 21,
   "metadata": {},
   "outputs": [],
   "source": [
    "corona = pd.read_csv(\"../../csv/corona.csv\")"
   ]
  },
  {
   "cell_type": "code",
   "execution_count": 22,
   "metadata": {},
   "outputs": [
    {
     "data": {
      "text/html": [
       "<div>\n",
       "<style scoped>\n",
       "    .dataframe tbody tr th:only-of-type {\n",
       "        vertical-align: middle;\n",
       "    }\n",
       "\n",
       "    .dataframe tbody tr th {\n",
       "        vertical-align: top;\n",
       "    }\n",
       "\n",
       "    .dataframe thead th {\n",
       "        text-align: right;\n",
       "    }\n",
       "</style>\n",
       "<table border=\"1\" class=\"dataframe\">\n",
       "  <thead>\n",
       "    <tr style=\"text-align: right;\">\n",
       "      <th></th>\n",
       "      <th>Unnamed: 0</th>\n",
       "      <th>createDt</th>\n",
       "      <th>deathCnt</th>\n",
       "      <th>decideCnt</th>\n",
       "      <th>seq</th>\n",
       "      <th>stateDt</th>\n",
       "      <th>stateTime</th>\n",
       "      <th>updateDt</th>\n",
       "      <th>accExamCnt</th>\n",
       "      <th>accDefRate</th>\n",
       "    </tr>\n",
       "  </thead>\n",
       "  <tbody>\n",
       "    <tr>\n",
       "      <th>0</th>\n",
       "      <td>0</td>\n",
       "      <td>2022-06-08 09:09:05.982</td>\n",
       "      <td>24305</td>\n",
       "      <td>18188200</td>\n",
       "      <td>904</td>\n",
       "      <td>20220608</td>\n",
       "      <td>00:00</td>\n",
       "      <td>NaN</td>\n",
       "      <td>NaN</td>\n",
       "      <td>NaN</td>\n",
       "    </tr>\n",
       "    <tr>\n",
       "      <th>1</th>\n",
       "      <td>1</td>\n",
       "      <td>2022-06-07 09:09:00.897</td>\n",
       "      <td>24299</td>\n",
       "      <td>18174842</td>\n",
       "      <td>903</td>\n",
       "      <td>20220607</td>\n",
       "      <td>00:00</td>\n",
       "      <td>2022-06-08 09:10:36.846</td>\n",
       "      <td>NaN</td>\n",
       "      <td>NaN</td>\n",
       "    </tr>\n",
       "    <tr>\n",
       "      <th>2</th>\n",
       "      <td>2</td>\n",
       "      <td>2022-06-06 09:00:06.734</td>\n",
       "      <td>24279</td>\n",
       "      <td>18168670</td>\n",
       "      <td>902</td>\n",
       "      <td>20220606</td>\n",
       "      <td>00:00</td>\n",
       "      <td>2022-06-08 09:10:50.441</td>\n",
       "      <td>NaN</td>\n",
       "      <td>NaN</td>\n",
       "    </tr>\n",
       "    <tr>\n",
       "      <th>3</th>\n",
       "      <td>3</td>\n",
       "      <td>2022-06-05 08:53:19.426</td>\n",
       "      <td>24258</td>\n",
       "      <td>18163648</td>\n",
       "      <td>901</td>\n",
       "      <td>20220605</td>\n",
       "      <td>00:00</td>\n",
       "      <td>2022-06-08 09:11:04.758</td>\n",
       "      <td>NaN</td>\n",
       "      <td>NaN</td>\n",
       "    </tr>\n",
       "    <tr>\n",
       "      <th>4</th>\n",
       "      <td>4</td>\n",
       "      <td>2022-06-04 08:56:49.219</td>\n",
       "      <td>24238</td>\n",
       "      <td>18153814</td>\n",
       "      <td>900</td>\n",
       "      <td>20220604</td>\n",
       "      <td>00:00</td>\n",
       "      <td>2022-06-08 09:11:26.303</td>\n",
       "      <td>NaN</td>\n",
       "      <td>NaN</td>\n",
       "    </tr>\n",
       "  </tbody>\n",
       "</table>\n",
       "</div>"
      ],
      "text/plain": [
       "   Unnamed: 0                 createDt  deathCnt  decideCnt  seq   stateDt  \\\n",
       "0           0  2022-06-08 09:09:05.982     24305   18188200  904  20220608   \n",
       "1           1  2022-06-07 09:09:00.897     24299   18174842  903  20220607   \n",
       "2           2  2022-06-06 09:00:06.734     24279   18168670  902  20220606   \n",
       "3           3  2022-06-05 08:53:19.426     24258   18163648  901  20220605   \n",
       "4           4  2022-06-04 08:56:49.219     24238   18153814  900  20220604   \n",
       "\n",
       "  stateTime                 updateDt  accExamCnt  accDefRate  \n",
       "0     00:00                      NaN         NaN         NaN  \n",
       "1     00:00  2022-06-08 09:10:36.846         NaN         NaN  \n",
       "2     00:00  2022-06-08 09:10:50.441         NaN         NaN  \n",
       "3     00:00  2022-06-08 09:11:04.758         NaN         NaN  \n",
       "4     00:00  2022-06-08 09:11:26.303         NaN         NaN  "
      ]
     },
     "execution_count": 22,
     "metadata": {},
     "output_type": "execute_result"
    }
   ],
   "source": [
    "corona.head()"
   ]
  },
  {
   "cell_type": "code",
   "execution_count": 23,
   "metadata": {},
   "outputs": [],
   "source": [
    "# 요일별 평균 일일 확진자의 수가 가장 큰 요일은 언제인가?\n",
    "# 사용할 컬럼들만 추출하여 변수에 저장\n",
    "df = corona[[\"stateDt\",\"decideCnt\"]]"
   ]
  },
  {
   "cell_type": "code",
   "execution_count": 24,
   "metadata": {},
   "outputs": [
    {
     "data": {
      "text/html": [
       "<div>\n",
       "<style scoped>\n",
       "    .dataframe tbody tr th:only-of-type {\n",
       "        vertical-align: middle;\n",
       "    }\n",
       "\n",
       "    .dataframe tbody tr th {\n",
       "        vertical-align: top;\n",
       "    }\n",
       "\n",
       "    .dataframe thead th {\n",
       "        text-align: right;\n",
       "    }\n",
       "</style>\n",
       "<table border=\"1\" class=\"dataframe\">\n",
       "  <thead>\n",
       "    <tr style=\"text-align: right;\">\n",
       "      <th></th>\n",
       "      <th>stateDt</th>\n",
       "      <th>decideCnt</th>\n",
       "    </tr>\n",
       "  </thead>\n",
       "  <tbody>\n",
       "    <tr>\n",
       "      <th>0</th>\n",
       "      <td>20220608</td>\n",
       "      <td>18188200</td>\n",
       "    </tr>\n",
       "    <tr>\n",
       "      <th>1</th>\n",
       "      <td>20220607</td>\n",
       "      <td>18174842</td>\n",
       "    </tr>\n",
       "    <tr>\n",
       "      <th>2</th>\n",
       "      <td>20220606</td>\n",
       "      <td>18168670</td>\n",
       "    </tr>\n",
       "    <tr>\n",
       "      <th>3</th>\n",
       "      <td>20220605</td>\n",
       "      <td>18163648</td>\n",
       "    </tr>\n",
       "    <tr>\n",
       "      <th>4</th>\n",
       "      <td>20220604</td>\n",
       "      <td>18153814</td>\n",
       "    </tr>\n",
       "  </tbody>\n",
       "</table>\n",
       "</div>"
      ],
      "text/plain": [
       "    stateDt  decideCnt\n",
       "0  20220608   18188200\n",
       "1  20220607   18174842\n",
       "2  20220606   18168670\n",
       "3  20220605   18163648\n",
       "4  20220604   18153814"
      ]
     },
     "execution_count": 24,
     "metadata": {},
     "output_type": "execute_result"
    }
   ],
   "source": [
    "df.head()"
   ]
  },
  {
   "cell_type": "code",
   "execution_count": 25,
   "metadata": {},
   "outputs": [],
   "source": [
    "# 일일확진자 컬럼을 생성\n",
    "df2 = df.copy()"
   ]
  },
  {
   "cell_type": "code",
   "execution_count": 26,
   "metadata": {},
   "outputs": [],
   "source": [
    "df2.sort_values(['stateDt'],inplace=True)"
   ]
  },
  {
   "cell_type": "code",
   "execution_count": 27,
   "metadata": {},
   "outputs": [],
   "source": [
    "df2.reset_index(drop=True, inplace=True)"
   ]
  },
  {
   "cell_type": "code",
   "execution_count": 28,
   "metadata": {},
   "outputs": [],
   "source": [
    "df2['일일확진자'] = (df2['decideCnt'] - df2['decideCnt'].shift()).fillna(0)"
   ]
  },
  {
   "cell_type": "code",
   "execution_count": 29,
   "metadata": {},
   "outputs": [
    {
     "data": {
      "text/html": [
       "<div>\n",
       "<style scoped>\n",
       "    .dataframe tbody tr th:only-of-type {\n",
       "        vertical-align: middle;\n",
       "    }\n",
       "\n",
       "    .dataframe tbody tr th {\n",
       "        vertical-align: top;\n",
       "    }\n",
       "\n",
       "    .dataframe thead th {\n",
       "        text-align: right;\n",
       "    }\n",
       "</style>\n",
       "<table border=\"1\" class=\"dataframe\">\n",
       "  <thead>\n",
       "    <tr style=\"text-align: right;\">\n",
       "      <th></th>\n",
       "      <th>stateDt</th>\n",
       "      <th>decideCnt</th>\n",
       "      <th>일일확진자</th>\n",
       "    </tr>\n",
       "  </thead>\n",
       "  <tbody>\n",
       "    <tr>\n",
       "      <th>count</th>\n",
       "      <td>8.200000e+02</td>\n",
       "      <td>8.200000e+02</td>\n",
       "      <td>820.000000</td>\n",
       "    </tr>\n",
       "    <tr>\n",
       "      <th>mean</th>\n",
       "      <td>2.020897e+07</td>\n",
       "      <td>1.913097e+06</td>\n",
       "      <td>22171.569512</td>\n",
       "    </tr>\n",
       "    <tr>\n",
       "      <th>std</th>\n",
       "      <td>7.118265e+03</td>\n",
       "      <td>4.857030e+06</td>\n",
       "      <td>71013.844067</td>\n",
       "    </tr>\n",
       "    <tr>\n",
       "      <th>min</th>\n",
       "      <td>2.020031e+07</td>\n",
       "      <td>7.513000e+03</td>\n",
       "      <td>0.000000</td>\n",
       "    </tr>\n",
       "    <tr>\n",
       "      <th>25%</th>\n",
       "      <td>2.020100e+07</td>\n",
       "      <td>2.393525e+04</td>\n",
       "      <td>125.000000</td>\n",
       "    </tr>\n",
       "    <tr>\n",
       "      <th>50%</th>\n",
       "      <td>2.021042e+07</td>\n",
       "      <td>1.185640e+05</td>\n",
       "      <td>634.000000</td>\n",
       "    </tr>\n",
       "    <tr>\n",
       "      <th>75%</th>\n",
       "      <td>2.021112e+07</td>\n",
       "      <td>3.979915e+05</td>\n",
       "      <td>2782.750000</td>\n",
       "    </tr>\n",
       "    <tr>\n",
       "      <th>max</th>\n",
       "      <td>2.022061e+07</td>\n",
       "      <td>1.818820e+07</td>\n",
       "      <td>621204.000000</td>\n",
       "    </tr>\n",
       "  </tbody>\n",
       "</table>\n",
       "</div>"
      ],
      "text/plain": [
       "            stateDt     decideCnt          일일확진자\n",
       "count  8.200000e+02  8.200000e+02     820.000000\n",
       "mean   2.020897e+07  1.913097e+06   22171.569512\n",
       "std    7.118265e+03  4.857030e+06   71013.844067\n",
       "min    2.020031e+07  7.513000e+03       0.000000\n",
       "25%    2.020100e+07  2.393525e+04     125.000000\n",
       "50%    2.021042e+07  1.185640e+05     634.000000\n",
       "75%    2.021112e+07  3.979915e+05    2782.750000\n",
       "max    2.022061e+07  1.818820e+07  621204.000000"
      ]
     },
     "execution_count": 29,
     "metadata": {},
     "output_type": "execute_result"
    }
   ],
   "source": [
    "df2.describe()"
   ]
  },
  {
   "cell_type": "code",
   "execution_count": 30,
   "metadata": {},
   "outputs": [
    {
     "data": {
      "text/html": [
       "<div>\n",
       "<style scoped>\n",
       "    .dataframe tbody tr th:only-of-type {\n",
       "        vertical-align: middle;\n",
       "    }\n",
       "\n",
       "    .dataframe tbody tr th {\n",
       "        vertical-align: top;\n",
       "    }\n",
       "\n",
       "    .dataframe thead th {\n",
       "        text-align: right;\n",
       "    }\n",
       "</style>\n",
       "<table border=\"1\" class=\"dataframe\">\n",
       "  <thead>\n",
       "    <tr style=\"text-align: right;\">\n",
       "      <th></th>\n",
       "      <th>stateDt</th>\n",
       "      <th>decideCnt</th>\n",
       "      <th>일일확진자</th>\n",
       "    </tr>\n",
       "  </thead>\n",
       "  <tbody>\n",
       "  </tbody>\n",
       "</table>\n",
       "</div>"
      ],
      "text/plain": [
       "Empty DataFrame\n",
       "Columns: [stateDt, decideCnt, 일일확진자]\n",
       "Index: []"
      ]
     },
     "execution_count": 30,
     "metadata": {},
     "output_type": "execute_result"
    }
   ],
   "source": [
    "df2.loc[df2['일일확진자'] < 0]"
   ]
  },
  {
   "cell_type": "code",
   "execution_count": 31,
   "metadata": {},
   "outputs": [
    {
     "name": "stderr",
     "output_type": "stream",
     "text": [
      "/var/folders/r7/wm80f9fd57g6h8jt36r8dgwh0000gn/T/ipykernel_43029/320184068.py:2: SettingWithCopyWarning: \n",
      "A value is trying to be set on a copy of a slice from a DataFrame.\n",
      "Try using .loc[row_indexer,col_indexer] = value instead\n",
      "\n",
      "See the caveats in the documentation: https://pandas.pydata.org/pandas-docs/stable/user_guide/indexing.html#returning-a-view-versus-a-copy\n",
      "  df['일일확진자'] = df['decideCnt'].diff(-1).fillna(0)\n"
     ]
    }
   ],
   "source": [
    "# 기준일 데이터가 내림차순일때\n",
    "df['일일확진자'] = df['decideCnt'].diff(-1).fillna(0)"
   ]
  },
  {
   "cell_type": "code",
   "execution_count": 32,
   "metadata": {},
   "outputs": [
    {
     "data": {
      "text/plain": [
       "count       820.000000\n",
       "mean      22171.569512\n",
       "std       71013.844067\n",
       "min           0.000000\n",
       "25%         125.000000\n",
       "50%         634.000000\n",
       "75%        2782.750000\n",
       "max      621204.000000\n",
       "Name: 일일확진자, dtype: float64"
      ]
     },
     "execution_count": 32,
     "metadata": {},
     "output_type": "execute_result"
    }
   ],
   "source": [
    "df2['일일확진자'].describe()"
   ]
  },
  {
   "cell_type": "code",
   "execution_count": 33,
   "metadata": {},
   "outputs": [
    {
     "data": {
      "text/plain": [
       "count       820.000000\n",
       "mean      22171.569512\n",
       "std       71013.844067\n",
       "min           0.000000\n",
       "25%         125.000000\n",
       "50%         634.000000\n",
       "75%        2782.750000\n",
       "max      621204.000000\n",
       "Name: 일일확진자, dtype: float64"
      ]
     },
     "execution_count": 33,
     "metadata": {},
     "output_type": "execute_result"
    }
   ],
   "source": [
    "df['일일확진자'].describe()"
   ]
  },
  {
   "cell_type": "code",
   "execution_count": 34,
   "metadata": {},
   "outputs": [
    {
     "name": "stderr",
     "output_type": "stream",
     "text": [
      "/var/folders/r7/wm80f9fd57g6h8jt36r8dgwh0000gn/T/ipykernel_43029/2870694849.py:3: SettingWithCopyWarning: \n",
      "A value is trying to be set on a copy of a slice from a DataFrame.\n",
      "Try using .loc[row_indexer,col_indexer] = value instead\n",
      "\n",
      "See the caveats in the documentation: https://pandas.pydata.org/pandas-docs/stable/user_guide/indexing.html#returning-a-view-versus-a-copy\n",
      "  df['stateDt'] = pd.to_datetime(df['stateDt'],format = '%Y%m%d')\n"
     ]
    }
   ],
   "source": [
    "# 기준일 데이터를 시계열 데이터로 변경\n",
    "# df.info()\n",
    "df['stateDt'] = pd.to_datetime(df['stateDt'],format = '%Y%m%d')"
   ]
  },
  {
   "cell_type": "code",
   "execution_count": 35,
   "metadata": {},
   "outputs": [
    {
     "name": "stdout",
     "output_type": "stream",
     "text": [
      "<class 'pandas.core.frame.DataFrame'>\n",
      "RangeIndex: 820 entries, 0 to 819\n",
      "Data columns (total 3 columns):\n",
      " #   Column     Non-Null Count  Dtype         \n",
      "---  ------     --------------  -----         \n",
      " 0   stateDt    820 non-null    datetime64[ns]\n",
      " 1   decideCnt  820 non-null    int64         \n",
      " 2   일일확진자      820 non-null    float64       \n",
      "dtypes: datetime64[ns](1), float64(1), int64(1)\n",
      "memory usage: 19.3 KB\n"
     ]
    }
   ],
   "source": [
    "df.info()"
   ]
  },
  {
   "cell_type": "code",
   "execution_count": 36,
   "metadata": {},
   "outputs": [
    {
     "name": "stdout",
     "output_type": "stream",
     "text": [
      "['3', '2', '1', '0', '6', '5', '4', '3', '2', '1', '0', '6', '5', '4', '3', '2', '1', '0', '6', '5', '4', '3', '2', '1', '0', '6', '5', '4', '3', '2', '1', '0', '6', '5', '4', '3', '2', '1', '0', '6', '5', '4', '3', '2', '1', '0', '6', '5', '4', '3', '2', '1', '0', '6', '5', '4', '3', '2', '1', '0', '6', '5', '4', '3', '2', '1', '0', '6', '5', '4', '3', '2', '1', '0', '6', '5', '4', '3', '2', '1', '0', '6', '5', '4', '3', '2', '1', '0', '6', '5', '4', '3', '2', '1', '0', '6', '5', '4', '3', '2', '1', '0', '6', '5', '4', '3', '2', '1', '0', '6', '5', '4', '3', '2', '1', '0', '6', '5', '4', '3', '2', '1', '0', '6', '5', '4', '3', '2', '1', '0', '6', '5', '4', '3', '2', '1', '0', '6', '5', '4', '3', '2', '1', '0', '6', '5', '4', '3', '2', '1', '0', '6', '5', '4', '3', '2', '1', '0', '6', '5', '4', '3', '2', '1', '0', '6', '5', '4', '3', '2', '1', '0', '6', '5', '4', '3', '2', '1', '0', '6', '5', '4', '3', '2', '1', '0', '6', '5', '4', '3', '2', '1', '0', '6', '5', '4', '3', '2', '1', '0', '6', '5', '4', '3', '2', '1', '0', '6', '5', '4', '3', '2', '1', '0', '6', '5', '4', '3', '2', '1', '0', '6', '5', '4', '3', '2', '1', '0', '6', '5', '4', '3', '2', '1', '0', '6', '5', '4', '3', '2', '1', '0', '6', '5', '4', '3', '2', '1', '0', '6', '5', '4', '3', '2', '1', '0', '6', '5', '4', '3', '2', '1', '0', '6', '5', '4', '3', '2', '1', '0', '6', '5', '4', '3', '2', '1', '0', '6', '5', '4', '3', '2', '1', '0', '6', '5', '4', '3', '2', '1', '0', '6', '5', '4', '3', '2', '1', '0', '6', '5', '4', '3', '2', '1', '0', '6', '5', '4', '3', '2', '1', '0', '6', '5', '4', '3', '2', '1', '0', '6', '5', '4', '3', '2', '1', '0', '6', '5', '4', '3', '2', '1', '0', '6', '5', '4', '3', '2', '1', '0', '6', '5', '4', '3', '2', '1', '0', '6', '5', '4', '3', '2', '1', '0', '6', '5', '4', '3', '2', '1', '0', '6', '5', '4', '3', '2', '1', '0', '6', '5', '4', '3', '2', '1', '0', '6', '5', '4', '3', '2', '1', '0', '6', '5', '4', '3', '2', '1', '0', '6', '5', '4', '3', '2', '1', '0', '6', '5', '4', '3', '2', '1', '0', '6', '5', '4', '3', '2', '1', '0', '6', '5', '4', '3', '2', '1', '0', '6', '5', '4', '3', '2', '1', '0', '6', '5', '4', '3', '2', '1', '0', '6', '5', '4', '3', '2', '1', '0', '6', '5', '4', '3', '2', '1', '0', '6', '5', '4', '3', '2', '1', '0', '6', '5', '4', '3', '2', '1', '0', '6', '5', '4', '3', '2', '1', '0', '6', '5', '4', '3', '2', '1', '0', '6', '5', '4', '3', '2', '1', '0', '6', '5', '4', '3', '2', '1', '0', '6', '5', '4', '3', '2', '1', '0', '6', '5', '4', '3', '2', '1', '0', '6', '5', '4', '3', '2', '1', '0', '6', '5', '4', '3', '2', '1', '0', '6', '5', '4', '3', '2', '1', '0', '6', '5', '4', '3', '2', '1', '0', '6', '5', '4', '3', '2', '1', '0', '6', '5', '4', '3', '2', '1', '0', '6', '5', '4', '3', '2', '1', '0', '6', '5', '4', '3', '2', '1', '0', '6', '5', '4', '3', '2', '1', '0', '6', '5', '4', '3', '2', '1', '0', '6', '5', '4', '3', '2', '1', '0', '6', '5', '4', '3', '2', '1', '0', '6', '5', '4', '3', '2', '1', '0', '6', '5', '4', '3', '2', '1', '0', '6', '5', '4', '3', '2', '1', '0', '6', '5', '4', '3', '2', '1', '0', '6', '5', '4', '3', '2', '1', '0', '6', '5', '4', '3', '2', '1', '0', '6', '5', '4', '3', '2', '1', '0', '6', '5', '4', '3', '2', '1', '0', '6', '5', '4', '3', '2', '1', '0', '6', '5', '4', '3', '2', '1', '0', '6', '5', '4', '3', '2', '1', '0', '6', '5', '4', '3', '2', '1', '0', '6', '5', '4', '3', '2', '1', '0', '6', '5', '4', '3', '2', '1', '0', '6', '5', '4', '3', '2', '1', '0', '6', '5', '4', '3', '2', '1', '0', '6', '5', '4', '3', '2', '1', '0', '6', '5', '4', '3', '2', '1', '0', '6', '5', '4', '3', '2', '1', '0', '6', '5', '4', '3', '2', '1', '0', '6', '5', '4', '3', '2', '1', '0', '6', '5', '4', '3', '2', '1', '0', '6', '5', '4', '3', '2', '1', '0', '6', '5', '4', '3', '2', '1', '0', '6', '5', '3', '2', '1', '0', '6', '5', '4', '3', '2', '1', '0', '6', '5', '4', '3', '2', '1', '0', '6', '5', '4', '3', '2', '1', '0', '6', '5', '4', '3', '2', '1', '0', '6', '5', '4', '3', '2', '1', '0', '6', '5', '4', '3', '2', '1', '0', '6', '5', '4', '3', '2', '1', '0', '6', '5', '4', '3', '2', '1', '0', '6', '5', '4', '3', '2']\n"
     ]
    }
   ],
   "source": [
    "# 반복문을 이용해서 시계열 데이터의 요일을 출력하는 방법\n",
    "week_list = []\n",
    "# for i in range( len(df) ):\n",
    "for i in df.index:\n",
    "    week_data = datetime.strftime(df.loc[i, 'stateDt'], format = '%w')\n",
    "    week_list.append(week_data)\n",
    "print(week_list)"
   ]
  },
  {
   "cell_type": "code",
   "execution_count": 37,
   "metadata": {},
   "outputs": [
    {
     "data": {
      "text/plain": [
       "[100, 400, 900, 1600]"
      ]
     },
     "execution_count": 37,
     "metadata": {},
     "output_type": "execute_result"
    }
   ],
   "source": [
    "# map()\n",
    "list1 = [10, 20, 30, 40]\n",
    "\n",
    "# for i in list1:\n",
    "#     print(i)\n",
    "list(map(\n",
    "    lambda x : x ** 2,\n",
    "    list1\n",
    "))"
   ]
  },
  {
   "cell_type": "code",
   "execution_count": 38,
   "metadata": {},
   "outputs": [
    {
     "data": {
      "text/plain": [
       "['a', 'a', 'b', 'b']"
      ]
     },
     "execution_count": 38,
     "metadata": {},
     "output_type": "execute_result"
    }
   ],
   "source": [
    "# list1 데이터에서 값이 25 미만이면 'a' 25이상이면 'b' 변경하는 방법\n",
    "res = []\n",
    "for i in list1:\n",
    "    # i : list1의 각 원소들 대입\n",
    "    if i < 25 :\n",
    "        res.append('a')\n",
    "    else:\n",
    "        res.append('b')\n",
    "res"
   ]
  },
  {
   "cell_type": "code",
   "execution_count": 39,
   "metadata": {},
   "outputs": [
    {
     "data": {
      "text/plain": [
       "['a', 'a', 'b', 'b']"
      ]
     },
     "execution_count": 39,
     "metadata": {},
     "output_type": "execute_result"
    }
   ],
   "source": [
    "# 일반함수 + map\n",
    "def func_1(x):\n",
    "    if x < 25:\n",
    "        return 'a'\n",
    "    else:\n",
    "        return 'b'\n",
    "    \n",
    "\n",
    "list(\n",
    "    map(\n",
    "        func_1,\n",
    "        list1\n",
    "    )\n",
    ")"
   ]
  },
  {
   "cell_type": "code",
   "execution_count": 40,
   "metadata": {},
   "outputs": [
    {
     "data": {
      "text/plain": [
       "['a', 'a', 'b', 'b']"
      ]
     },
     "execution_count": 40,
     "metadata": {},
     "output_type": "execute_result"
    }
   ],
   "source": [
    "# 참인 경우 값 if 조건식 else 거짓일경우 값\n",
    "list(\n",
    "    map(\n",
    "        lambda x : 'a' if x < 25 else 'b',\n",
    "        list1\n",
    "    )\n",
    ")"
   ]
  },
  {
   "cell_type": "code",
   "execution_count": 41,
   "metadata": {},
   "outputs": [
    {
     "name": "stderr",
     "output_type": "stream",
     "text": [
      "/var/folders/r7/wm80f9fd57g6h8jt36r8dgwh0000gn/T/ipykernel_43029/2933155251.py:1: SettingWithCopyWarning: \n",
      "A value is trying to be set on a copy of a slice from a DataFrame.\n",
      "Try using .loc[row_indexer,col_indexer] = value instead\n",
      "\n",
      "See the caveats in the documentation: https://pandas.pydata.org/pandas-docs/stable/user_guide/indexing.html#returning-a-view-versus-a-copy\n",
      "  df['요일'] = df['stateDt'].map(\n"
     ]
    }
   ],
   "source": [
    "df['요일'] = df['stateDt'].map(\n",
    "    lambda x : x.strftime('%w')\n",
    ")"
   ]
  },
  {
   "cell_type": "code",
   "execution_count": 42,
   "metadata": {},
   "outputs": [
    {
     "data": {
      "text/html": [
       "<div>\n",
       "<style scoped>\n",
       "    .dataframe tbody tr th:only-of-type {\n",
       "        vertical-align: middle;\n",
       "    }\n",
       "\n",
       "    .dataframe tbody tr th {\n",
       "        vertical-align: top;\n",
       "    }\n",
       "\n",
       "    .dataframe thead th {\n",
       "        text-align: right;\n",
       "    }\n",
       "</style>\n",
       "<table border=\"1\" class=\"dataframe\">\n",
       "  <thead>\n",
       "    <tr style=\"text-align: right;\">\n",
       "      <th></th>\n",
       "      <th>stateDt</th>\n",
       "      <th>decideCnt</th>\n",
       "      <th>일일확진자</th>\n",
       "      <th>요일</th>\n",
       "    </tr>\n",
       "  </thead>\n",
       "  <tbody>\n",
       "    <tr>\n",
       "      <th>0</th>\n",
       "      <td>2022-06-08</td>\n",
       "      <td>18188200</td>\n",
       "      <td>13358.0</td>\n",
       "      <td>3</td>\n",
       "    </tr>\n",
       "    <tr>\n",
       "      <th>1</th>\n",
       "      <td>2022-06-07</td>\n",
       "      <td>18174842</td>\n",
       "      <td>6172.0</td>\n",
       "      <td>2</td>\n",
       "    </tr>\n",
       "    <tr>\n",
       "      <th>2</th>\n",
       "      <td>2022-06-06</td>\n",
       "      <td>18168670</td>\n",
       "      <td>5022.0</td>\n",
       "      <td>1</td>\n",
       "    </tr>\n",
       "    <tr>\n",
       "      <th>3</th>\n",
       "      <td>2022-06-05</td>\n",
       "      <td>18163648</td>\n",
       "      <td>9834.0</td>\n",
       "      <td>0</td>\n",
       "    </tr>\n",
       "    <tr>\n",
       "      <th>4</th>\n",
       "      <td>2022-06-04</td>\n",
       "      <td>18153814</td>\n",
       "      <td>12039.0</td>\n",
       "      <td>6</td>\n",
       "    </tr>\n",
       "  </tbody>\n",
       "</table>\n",
       "</div>"
      ],
      "text/plain": [
       "     stateDt  decideCnt    일일확진자 요일\n",
       "0 2022-06-08   18188200  13358.0  3\n",
       "1 2022-06-07   18174842   6172.0  2\n",
       "2 2022-06-06   18168670   5022.0  1\n",
       "3 2022-06-05   18163648   9834.0  0\n",
       "4 2022-06-04   18153814  12039.0  6"
      ]
     },
     "execution_count": 42,
     "metadata": {},
     "output_type": "execute_result"
    }
   ],
   "source": [
    "df.head()"
   ]
  },
  {
   "cell_type": "code",
   "execution_count": 43,
   "metadata": {},
   "outputs": [
    {
     "name": "stdout",
     "output_type": "stream",
     "text": [
      "['수', '화', '월', '일', '토', '금', '목', '수', '화', '월', '일', '토', '금', '목', '수', '화', '월', '일', '토', '금', '목', '수', '화', '월', '일', '토', '금', '목', '수', '화', '월', '일', '토', '금', '목', '수', '화', '월', '일', '토', '금', '목', '수', '화', '월', '일', '토', '금', '목', '수', '화', '월', '일', '토', '금', '목', '수', '화', '월', '일', '토', '금', '목', '수', '화', '월', '일', '토', '금', '목', '수', '화', '월', '일', '토', '금', '목', '수', '화', '월', '일', '토', '금', '목', '수', '화', '월', '일', '토', '금', '목', '수', '화', '월', '일', '토', '금', '목', '수', '화', '월', '일', '토', '금', '목', '수', '화', '월', '일', '토', '금', '목', '수', '화', '월', '일', '토', '금', '목', '수', '화', '월', '일', '토', '금', '목', '수', '화', '월', '일', '토', '금', '목', '수', '화', '월', '일', '토', '금', '목', '수', '화', '월', '일', '토', '금', '목', '수', '화', '월', '일', '토', '금', '목', '수', '화', '월', '일', '토', '금', '목', '수', '화', '월', '일', '토', '금', '목', '수', '화', '월', '일', '토', '금', '목', '수', '화', '월', '일', '토', '금', '목', '수', '화', '월', '일', '토', '금', '목', '수', '화', '월', '일', '토', '금', '목', '수', '화', '월', '일', '토', '금', '목', '수', '화', '월', '일', '토', '금', '목', '수', '화', '월', '일', '토', '금', '목', '수', '화', '월', '일', '토', '금', '목', '수', '화', '월', '일', '토', '금', '목', '수', '화', '월', '일', '토', '금', '목', '수', '화', '월', '일', '토', '금', '목', '수', '화', '월', '일', '토', '금', '목', '수', '화', '월', '일', '토', '금', '목', '수', '화', '월', '일', '토', '금', '목', '수', '화', '월', '일', '토', '금', '목', '수', '화', '월', '일', '토', '금', '목', '수', '화', '월', '일', '토', '금', '목', '수', '화', '월', '일', '토', '금', '목', '수', '화', '월', '일', '토', '금', '목', '수', '화', '월', '일', '토', '금', '목', '수', '화', '월', '일', '토', '금', '목', '수', '화', '월', '일', '토', '금', '목', '수', '화', '월', '일', '토', '금', '목', '수', '화', '월', '일', '토', '금', '목', '수', '화', '월', '일', '토', '금', '목', '수', '화', '월', '일', '토', '금', '목', '수', '화', '월', '일', '토', '금', '목', '수', '화', '월', '일', '토', '금', '목', '수', '화', '월', '일', '토', '금', '목', '수', '화', '월', '일', '토', '금', '목', '수', '화', '월', '일', '토', '금', '목', '수', '화', '월', '일', '토', '금', '목', '수', '화', '월', '일', '토', '금', '목', '수', '화', '월', '일', '토', '금', '목', '수', '화', '월', '일', '토', '금', '목', '수', '화', '월', '일', '토', '금', '목', '수', '화', '월', '일', '토', '금', '목', '수', '화', '월', '일', '토', '금', '목', '수', '화', '월', '일', '토', '금', '목', '수', '화', '월', '일', '토', '금', '목', '수', '화', '월', '일', '토', '금', '목', '수', '화', '월', '일', '토', '금', '목', '수', '화', '월', '일', '토', '금', '목', '수', '화', '월', '일', '토', '금', '목', '수', '화', '월', '일', '토', '금', '목', '수', '화', '월', '일', '토', '금', '목', '수', '화', '월', '일', '토', '금', '목', '수', '화', '월', '일', '토', '금', '목', '수', '화', '월', '일', '토', '금', '목', '수', '화', '월', '일', '토', '금', '목', '수', '화', '월', '일', '토', '금', '목', '수', '화', '월', '일', '토', '금', '목', '수', '화', '월', '일', '토', '금', '목', '수', '화', '월', '일', '토', '금', '목', '수', '화', '월', '일', '토', '금', '목', '수', '화', '월', '일', '토', '금', '목', '수', '화', '월', '일', '토', '금', '목', '수', '화', '월', '일', '토', '금', '목', '수', '화', '월', '일', '토', '금', '목', '수', '화', '월', '일', '토', '금', '목', '수', '화', '월', '일', '토', '금', '목', '수', '화', '월', '일', '토', '금', '목', '수', '화', '월', '일', '토', '금', '목', '수', '화', '월', '일', '토', '금', '목', '수', '화', '월', '일', '토', '금', '목', '수', '화', '월', '일', '토', '금', '목', '수', '화', '월', '일', '토', '금', '목', '수', '화', '월', '일', '토', '금', '목', '수', '화', '월', '일', '토', '금', '목', '수', '화', '월', '일', '토', '금', '목', '수', '화', '월', '일', '토', '금', '목', '수', '화', '월', '일', '토', '금', '목', '수', '화', '월', '일', '토', '금', '목', '수', '화', '월', '일', '토', '금', '목', '수', '화', '월', '일', '토', '금', '목', '수', '화', '월', '일', '토', '금', '목', '수', '화', '월', '일', '토', '금', '목', '수', '화', '월', '일', '토', '금', '목', '수', '화', '월', '일', '토', '금', '목', '수', '화', '월', '일', '토', '금', '목', '수', '화', '월', '일', '토', '금', '목', '수', '화', '월', '일', '토', '금', '목', '수', '화', '월', '일', '토', '금', '목', '수', '화', '월', '일', '토', '금', '수', '화', '월', '일', '토', '금', '목', '수', '화', '월', '일', '토', '금', '목', '수', '화', '월', '일', '토', '금', '목', '수', '화', '월', '일', '토', '금', '목', '수', '화', '월', '일', '토', '금', '목', '수', '화', '월', '일', '토', '금', '목', '수', '화', '월', '일', '토', '금', '목', '수', '화', '월', '일', '토', '금', '목', '수', '화', '월', '일', '토', '금', '목', '수', '화']\n",
      "['수', '화', '월', '일', '토', '금', '목', '수', '화', '월', '일', '토', '금', '목', '수', '화', '월', '일', '토', '금', '목', '수', '화', '월', '일', '토', '금', '목', '수', '화', '월', '일', '토', '금', '목', '수', '화', '월', '일', '토', '금', '목', '수', '화', '월', '일', '토', '금', '목', '수', '화', '월', '일', '토', '금', '목', '수', '화', '월', '일', '토', '금', '목', '수', '화', '월', '일', '토', '금', '목', '수', '화', '월', '일', '토', '금', '목', '수', '화', '월', '일', '토', '금', '목', '수', '화', '월', '일', '토', '금', '목', '수', '화', '월', '일', '토', '금', '목', '수', '화', '월', '일', '토', '금', '목', '수', '화', '월', '일', '토', '금', '목', '수', '화', '월', '일', '토', '금', '목', '수', '화', '월', '일', '토', '금', '목', '수', '화', '월', '일', '토', '금', '목', '수', '화', '월', '일', '토', '금', '목', '수', '화', '월', '일', '토', '금', '목', '수', '화', '월', '일', '토', '금', '목', '수', '화', '월', '일', '토', '금', '목', '수', '화', '월', '일', '토', '금', '목', '수', '화', '월', '일', '토', '금', '목', '수', '화', '월', '일', '토', '금', '목', '수', '화', '월', '일', '토', '금', '목', '수', '화', '월', '일', '토', '금', '목', '수', '화', '월', '일', '토', '금', '목', '수', '화', '월', '일', '토', '금', '목', '수', '화', '월', '일', '토', '금', '목', '수', '화', '월', '일', '토', '금', '목', '수', '화', '월', '일', '토', '금', '목', '수', '화', '월', '일', '토', '금', '목', '수', '화', '월', '일', '토', '금', '목', '수', '화', '월', '일', '토', '금', '목', '수', '화', '월', '일', '토', '금', '목', '수', '화', '월', '일', '토', '금', '목', '수', '화', '월', '일', '토', '금', '목', '수', '화', '월', '일', '토', '금', '목', '수', '화', '월', '일', '토', '금', '목', '수', '화', '월', '일', '토', '금', '목', '수', '화', '월', '일', '토', '금', '목', '수', '화', '월', '일', '토', '금', '목', '수', '화', '월', '일', '토', '금', '목', '수', '화', '월', '일', '토', '금', '목', '수', '화', '월', '일', '토', '금', '목', '수', '화', '월', '일', '토', '금', '목', '수', '화', '월', '일', '토', '금', '목', '수', '화', '월', '일', '토', '금', '목', '수', '화', '월', '일', '토', '금', '목', '수', '화', '월', '일', '토', '금', '목', '수', '화', '월', '일', '토', '금', '목', '수', '화', '월', '일', '토', '금', '목', '수', '화', '월', '일', '토', '금', '목', '수', '화', '월', '일', '토', '금', '목', '수', '화', '월', '일', '토', '금', '목', '수', '화', '월', '일', '토', '금', '목', '수', '화', '월', '일', '토', '금', '목', '수', '화', '월', '일', '토', '금', '목', '수', '화', '월', '일', '토', '금', '목', '수', '화', '월', '일', '토', '금', '목', '수', '화', '월', '일', '토', '금', '목', '수', '화', '월', '일', '토', '금', '목', '수', '화', '월', '일', '토', '금', '목', '수', '화', '월', '일', '토', '금', '목', '수', '화', '월', '일', '토', '금', '목', '수', '화', '월', '일', '토', '금', '목', '수', '화', '월', '일', '토', '금', '목', '수', '화', '월', '일', '토', '금', '목', '수', '화', '월', '일', '토', '금', '목', '수', '화', '월', '일', '토', '금', '목', '수', '화', '월', '일', '토', '금', '목', '수', '화', '월', '일', '토', '금', '목', '수', '화', '월', '일', '토', '금', '목', '수', '화', '월', '일', '토', '금', '목', '수', '화', '월', '일', '토', '금', '목', '수', '화', '월', '일', '토', '금', '목', '수', '화', '월', '일', '토', '금', '목', '수', '화', '월', '일', '토', '금', '목', '수', '화', '월', '일', '토', '금', '목', '수', '화', '월', '일', '토', '금', '목', '수', '화', '월', '일', '토', '금', '목', '수', '화', '월', '일', '토', '금', '목', '수', '화', '월', '일', '토', '금', '목', '수', '화', '월', '일', '토', '금', '목', '수', '화', '월', '일', '토', '금', '목', '수', '화', '월', '일', '토', '금', '목', '수', '화', '월', '일', '토', '금', '목', '수', '화', '월', '일', '토', '금', '목', '수', '화', '월', '일', '토', '금', '목', '수', '화', '월', '일', '토', '금', '목', '수', '화', '월', '일', '토', '금', '목', '수', '화', '월', '일', '토', '금', '목', '수', '화', '월', '일', '토', '금', '목', '수', '화', '월', '일', '토', '금', '목', '수', '화', '월', '일', '토', '금', '목', '수', '화', '월', '일', '토', '금', '목', '수', '화', '월', '일', '토', '금', '목', '수', '화', '월', '일', '토', '금', '목', '수', '화', '월', '일', '토', '금', '목', '수', '화', '월', '일', '토', '금', '목', '수', '화', '월', '일', '토', '금', '목', '수', '화', '월', '일', '토', '금', '목', '수', '화', '월', '일', '토', '금', '목', '수', '화', '월', '일', '토', '금', '목', '수', '화', '월', '일', '토', '금', '목', '수', '화', '월', '일', '토', '금', '수', '화', '월', '일', '토', '금', '목', '수', '화', '월', '일', '토', '금', '목', '수', '화', '월', '일', '토', '금', '목', '수', '화', '월', '일', '토', '금', '목', '수', '화', '월', '일', '토', '금', '목', '수', '화', '월', '일', '토', '금', '목', '수', '화', '월', '일', '토', '금', '목', '수', '화', '월', '일', '토', '금', '목', '수', '화', '월', '일', '토', '금', '목', '수', '화']\n",
      "0      수\n",
      "1      화\n",
      "2      월\n",
      "3      일\n",
      "4      토\n",
      "      ..\n",
      "815    토\n",
      "816    금\n",
      "817    목\n",
      "818    수\n",
      "819    화\n",
      "Name: 요일, Length: 820, dtype: object\n"
     ]
    },
    {
     "data": {
      "text/plain": [
       "0      수\n",
       "1      화\n",
       "2      월\n",
       "3      일\n",
       "4      토\n",
       "      ..\n",
       "815    토\n",
       "816    금\n",
       "817    목\n",
       "818    수\n",
       "819    화\n",
       "Name: 요일, Length: 820, dtype: object"
      ]
     },
     "execution_count": 43,
     "metadata": {},
     "output_type": "execute_result"
    }
   ],
   "source": [
    "# 요일컬럼의 데이터를 숫자형태에서 문자형태(월,...,일) 변경\n",
    "# for\n",
    "week_list = []\n",
    "# for i in range(df):\n",
    "for i in df.index:\n",
    "    # 요일 컬럼의 데이터가 0이라면 일 1이라면 월, .... , 6이라면 토\n",
    "    if df.loc[i, '요일'] == '0':\n",
    "        week_list.append('일')\n",
    "    elif df.loc[i, '요일'] == '1':\n",
    "        week_list.append('월')\n",
    "    elif df.loc[i, '요일'] == '2':\n",
    "        week_list.append('화')\n",
    "    elif df.loc[i, '요일'] == '3':\n",
    "        week_list.append('수')\n",
    "    elif df.loc[i, '요일'] == '4':\n",
    "        week_list.append('목')\n",
    "    elif df.loc[i, '요일'] == '5':\n",
    "        week_list.append('금')\n",
    "    else:\n",
    "        week_list.append('토')\n",
    "print(week_list)\n",
    "\n",
    "# while\n",
    "# 딕셔너리 생성\n",
    "dict_week = {\n",
    "    '1' : '월',\n",
    "    '2' : '화',\n",
    "    '3' : '수',\n",
    "    '4' : '목',\n",
    "    '5' : '금',\n",
    "    '6' : '토',\n",
    "    '0' : '일'\n",
    "}\n",
    "# 초기값 생성\n",
    "i = 0\n",
    "week_list2 = []\n",
    "while i < len(df):\n",
    "    # dict_week 데이터에서 필요한 키값을 df의 요일 컬럼에서 추출\n",
    "    dict_key = df.iloc[i, -1]\n",
    "    week_list2.append(dict_week[dict_key])\n",
    "    i += 1\n",
    "print(week_list2)\n",
    "\n",
    "# print(week_list == week_list2)\n",
    "# map + 일반함수\n",
    "def change_week(x):\n",
    "    # x에 들어오는 데이터는? -> df의 요일 컬럼의 데이터 하나씩 대입\n",
    "    return dict_week[x]\n",
    "\n",
    "print(df['요일'].map(\n",
    "    change_week\n",
    "))\n",
    "\n",
    "# map + lambda\n",
    "week_list = ['일', '월', '화', '수', '목', '금', '토']\n",
    "df['요일'].map(\n",
    "    lambda x : week_list[int(x)]\n",
    ")"
   ]
  },
  {
   "cell_type": "code",
   "execution_count": 44,
   "metadata": {},
   "outputs": [
    {
     "name": "stderr",
     "output_type": "stream",
     "text": [
      "/var/folders/r7/wm80f9fd57g6h8jt36r8dgwh0000gn/T/ipykernel_43029/450491931.py:1: SettingWithCopyWarning: \n",
      "A value is trying to be set on a copy of a slice from a DataFrame.\n",
      "Try using .loc[row_indexer,col_indexer] = value instead\n",
      "\n",
      "See the caveats in the documentation: https://pandas.pydata.org/pandas-docs/stable/user_guide/indexing.html#returning-a-view-versus-a-copy\n",
      "  df['요일'] = df['요일'].map(\n"
     ]
    }
   ],
   "source": [
    "df['요일'] = df['요일'].map(\n",
    "    lambda x : week_list[int(x)]\n",
    ")"
   ]
  },
  {
   "cell_type": "code",
   "execution_count": 45,
   "metadata": {},
   "outputs": [
    {
     "name": "stderr",
     "output_type": "stream",
     "text": [
      "/var/folders/r7/wm80f9fd57g6h8jt36r8dgwh0000gn/T/ipykernel_43029/3123935264.py:2: SettingWithCopyWarning: \n",
      "A value is trying to be set on a copy of a slice from a DataFrame\n",
      "\n",
      "See the caveats in the documentation: https://pandas.pydata.org/pandas-docs/stable/user_guide/indexing.html#returning-a-view-versus-a-copy\n",
      "  df.drop(819, axis=0, inplace = True)\n"
     ]
    }
   ],
   "source": [
    "# 특정 인덱스를 제거\n",
    "df.drop(819, axis=0, inplace = True)"
   ]
  },
  {
   "cell_type": "code",
   "execution_count": 52,
   "metadata": {},
   "outputs": [],
   "source": [
    "group_data = df.groupby('요일')[['일일확진자']].mean()"
   ]
  },
  {
   "cell_type": "code",
   "execution_count": 53,
   "metadata": {},
   "outputs": [],
   "source": [
    "group_data.sort_values('일일확진자', ascending=False, inplace=True)"
   ]
  },
  {
   "cell_type": "code",
   "execution_count": 54,
   "metadata": {},
   "outputs": [],
   "source": [
    "import matplotlib.pyplot as plt"
   ]
  },
  {
   "cell_type": "code",
   "execution_count": 57,
   "metadata": {},
   "outputs": [],
   "source": [
    "# 폰트 설정\n",
    "import platform"
   ]
  },
  {
   "cell_type": "code",
   "execution_count": 58,
   "metadata": {},
   "outputs": [
    {
     "data": {
      "text/plain": [
       "'Darwin'"
      ]
     },
     "execution_count": 58,
     "metadata": {},
     "output_type": "execute_result"
    }
   ],
   "source": [
    "platform.system()"
   ]
  },
  {
   "cell_type": "code",
   "execution_count": 66,
   "metadata": {},
   "outputs": [],
   "source": [
    "# 만약에 os가 mac이라면\n",
    "if platform.system() == 'Darwin':\n",
    "    plt.rc('font', family= 'AppleGothic')\n",
    "else:\n",
    "    plt.rc('font', family= 'Malgun Gothic')"
   ]
  },
  {
   "cell_type": "code",
   "execution_count": 67,
   "metadata": {},
   "outputs": [
    {
     "data": {
      "text/plain": [
       "<Axes: xlabel='요일'>"
      ]
     },
     "execution_count": 67,
     "metadata": {},
     "output_type": "execute_result"
    },
    {
     "data": {
      "image/png": "[encoded data removed]",
      "text/plain": [
       "<Figure size 640x480 with 1 Axes>"
      ]
     },
     "metadata": {},
     "output_type": "display_data"
    }
   ],
   "source": [
    "# 그래프 시각화 과정에서 한글이 출력에서 문제 발생\n",
    "group_data.plot(kind = 'bar')"
   ]
  }
 ],
 "metadata": {
  "kernelspec": {
   "display_name": "Python 3",
   "language": "python",
   "name": "python3"
  },
  "language_info": {
   "codemirror_mode": {
    "name": "ipython",
    "version": 3
   },
   "file_extension": ".py",
   "mimetype": "text/x-python",
   "name": "python",
   "nbconvert_exporter": "python",
   "pygments_lexer": "ipython3",
   "version": "3.11.0"
  }
 },
 "nbformat": 4,
 "nbformat_minor": 2
}
