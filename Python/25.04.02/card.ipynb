{
 "cells": [
  {
   "cell_type": "markdown",
   "metadata": {},
   "source": [
    "## 예제\n",
    "1. csv폴더 안 test_csv 폴더에서 '오프라인.csv' 파일을 로드\n",
    "2. 컬럼의 이름을 변경 -> ['기준년월', '업종', '성별', '연령대', '총이용건수',\n",
    "'총이용금액']\n",
    "3. 결측치가 존재하는가? 확인\n",
    "4. 기준년월 데이터를 시계열 데이터로 변경\n",
    "5. 성별을 기준으로 연도별 건당 이용금액의 평균이 어떻게 되는가?\n",
    "    - 기준년 데이터가 존재하지 않기 때문에 기준년 컬럼을 생성 -> 기준년월 데이터에서 추출\n",
    "    - 건당이용금액 데이터는 총이용금액 / 총이용건수를 계산하여 대입\n",
    "    - 기준년 데이터를 이용하여 데이터를 그룹화 / 재구조화를 하고 건당이용금액의 평균을 구한다."
   ]
  },
  {
   "cell_type": "code",
   "execution_count": 64,
   "metadata": {},
   "outputs": [],
   "source": [
    "import pandas as pd"
   ]
  },
  {
   "cell_type": "code",
   "execution_count": 65,
   "metadata": {},
   "outputs": [],
   "source": [
    "# 데이터 로드\n",
    "offline = pd.read_csv(\"../../csv/test_csv/오프라인.csv\", encoding='cp949')"
   ]
  },
  {
   "cell_type": "code",
   "execution_count": 66,
   "metadata": {},
   "outputs": [
    {
     "data": {
      "text/html": [
       "<div>\n",
       "<style scoped>\n",
       "    .dataframe tbody tr th:only-of-type {\n",
       "        vertical-align: middle;\n",
       "    }\n",
       "\n",
       "    .dataframe tbody tr th {\n",
       "        vertical-align: top;\n",
       "    }\n",
       "\n",
       "    .dataframe thead th {\n",
       "        text-align: right;\n",
       "    }\n",
       "</style>\n",
       "<table border=\"1\" class=\"dataframe\">\n",
       "  <thead>\n",
       "    <tr style=\"text-align: right;\">\n",
       "      <th></th>\n",
       "      <th>crym</th>\n",
       "      <th>tco_btc_nm</th>\n",
       "      <th>ma_fem_dc</th>\n",
       "      <th>agegrp_dc</th>\n",
       "      <th>tco_btc_u_ct</th>\n",
       "      <th>tco_btc_u_am</th>\n",
       "    </tr>\n",
       "  </thead>\n",
       "  <tbody>\n",
       "    <tr>\n",
       "      <th>0</th>\n",
       "      <td>201901</td>\n",
       "      <td>백화점</td>\n",
       "      <td>1</td>\n",
       "      <td>1</td>\n",
       "      <td>1</td>\n",
       "      <td>7.600000e+03</td>\n",
       "    </tr>\n",
       "    <tr>\n",
       "      <th>1</th>\n",
       "      <td>201901</td>\n",
       "      <td>백화점</td>\n",
       "      <td>1</td>\n",
       "      <td>10</td>\n",
       "      <td>379</td>\n",
       "      <td>1.945872e+07</td>\n",
       "    </tr>\n",
       "    <tr>\n",
       "      <th>2</th>\n",
       "      <td>201901</td>\n",
       "      <td>백화점</td>\n",
       "      <td>1</td>\n",
       "      <td>20</td>\n",
       "      <td>45173</td>\n",
       "      <td>4.747711e+09</td>\n",
       "    </tr>\n",
       "    <tr>\n",
       "      <th>3</th>\n",
       "      <td>201901</td>\n",
       "      <td>백화점</td>\n",
       "      <td>1</td>\n",
       "      <td>30</td>\n",
       "      <td>271858</td>\n",
       "      <td>2.791826e+10</td>\n",
       "    </tr>\n",
       "    <tr>\n",
       "      <th>4</th>\n",
       "      <td>201901</td>\n",
       "      <td>백화점</td>\n",
       "      <td>1</td>\n",
       "      <td>40</td>\n",
       "      <td>391109</td>\n",
       "      <td>3.791149e+10</td>\n",
       "    </tr>\n",
       "  </tbody>\n",
       "</table>\n",
       "</div>"
      ],
      "text/plain": [
       "     crym tco_btc_nm  ma_fem_dc  agegrp_dc  tco_btc_u_ct  tco_btc_u_am\n",
       "0  201901        백화점          1          1             1  7.600000e+03\n",
       "1  201901        백화점          1         10           379  1.945872e+07\n",
       "2  201901        백화점          1         20         45173  4.747711e+09\n",
       "3  201901        백화점          1         30        271858  2.791826e+10\n",
       "4  201901        백화점          1         40        391109  3.791149e+10"
      ]
     },
     "execution_count": 66,
     "metadata": {},
     "output_type": "execute_result"
    }
   ],
   "source": [
    "offline.head()"
   ]
  },
  {
   "cell_type": "code",
   "execution_count": 67,
   "metadata": {},
   "outputs": [
    {
     "data": {
      "text/html": [
       "<div>\n",
       "<style scoped>\n",
       "    .dataframe tbody tr th:only-of-type {\n",
       "        vertical-align: middle;\n",
       "    }\n",
       "\n",
       "    .dataframe tbody tr th {\n",
       "        vertical-align: top;\n",
       "    }\n",
       "\n",
       "    .dataframe thead th {\n",
       "        text-align: right;\n",
       "    }\n",
       "</style>\n",
       "<table border=\"1\" class=\"dataframe\">\n",
       "  <thead>\n",
       "    <tr style=\"text-align: right;\">\n",
       "      <th></th>\n",
       "      <th>기준년월</th>\n",
       "      <th>tco_btc_nm</th>\n",
       "      <th>ma_fem_dc</th>\n",
       "      <th>agegrp_dc</th>\n",
       "      <th>tco_btc_u_ct</th>\n",
       "      <th>tco_btc_u_am</th>\n",
       "    </tr>\n",
       "  </thead>\n",
       "  <tbody>\n",
       "    <tr>\n",
       "      <th>0</th>\n",
       "      <td>201901</td>\n",
       "      <td>백화점</td>\n",
       "      <td>1</td>\n",
       "      <td>1</td>\n",
       "      <td>1</td>\n",
       "      <td>7.600000e+03</td>\n",
       "    </tr>\n",
       "    <tr>\n",
       "      <th>1</th>\n",
       "      <td>201901</td>\n",
       "      <td>백화점</td>\n",
       "      <td>1</td>\n",
       "      <td>10</td>\n",
       "      <td>379</td>\n",
       "      <td>1.945872e+07</td>\n",
       "    </tr>\n",
       "    <tr>\n",
       "      <th>2</th>\n",
       "      <td>201901</td>\n",
       "      <td>백화점</td>\n",
       "      <td>1</td>\n",
       "      <td>20</td>\n",
       "      <td>45173</td>\n",
       "      <td>4.747711e+09</td>\n",
       "    </tr>\n",
       "    <tr>\n",
       "      <th>3</th>\n",
       "      <td>201901</td>\n",
       "      <td>백화점</td>\n",
       "      <td>1</td>\n",
       "      <td>30</td>\n",
       "      <td>271858</td>\n",
       "      <td>2.791826e+10</td>\n",
       "    </tr>\n",
       "    <tr>\n",
       "      <th>4</th>\n",
       "      <td>201901</td>\n",
       "      <td>백화점</td>\n",
       "      <td>1</td>\n",
       "      <td>40</td>\n",
       "      <td>391109</td>\n",
       "      <td>3.791149e+10</td>\n",
       "    </tr>\n",
       "    <tr>\n",
       "      <th>...</th>\n",
       "      <td>...</td>\n",
       "      <td>...</td>\n",
       "      <td>...</td>\n",
       "      <td>...</td>\n",
       "      <td>...</td>\n",
       "      <td>...</td>\n",
       "    </tr>\n",
       "    <tr>\n",
       "      <th>2643</th>\n",
       "      <td>202109</td>\n",
       "      <td>편의점</td>\n",
       "      <td>2</td>\n",
       "      <td>50</td>\n",
       "      <td>844081</td>\n",
       "      <td>6.283353e+09</td>\n",
       "    </tr>\n",
       "    <tr>\n",
       "      <th>2644</th>\n",
       "      <td>202109</td>\n",
       "      <td>편의점</td>\n",
       "      <td>2</td>\n",
       "      <td>60</td>\n",
       "      <td>243768</td>\n",
       "      <td>1.997442e+09</td>\n",
       "    </tr>\n",
       "    <tr>\n",
       "      <th>2645</th>\n",
       "      <td>202109</td>\n",
       "      <td>편의점</td>\n",
       "      <td>2</td>\n",
       "      <td>70</td>\n",
       "      <td>40523</td>\n",
       "      <td>3.524203e+08</td>\n",
       "    </tr>\n",
       "    <tr>\n",
       "      <th>2646</th>\n",
       "      <td>202109</td>\n",
       "      <td>편의점</td>\n",
       "      <td>2</td>\n",
       "      <td>80</td>\n",
       "      <td>6349</td>\n",
       "      <td>5.333488e+07</td>\n",
       "    </tr>\n",
       "    <tr>\n",
       "      <th>2647</th>\n",
       "      <td>202109</td>\n",
       "      <td>편의점</td>\n",
       "      <td>2</td>\n",
       "      <td>90</td>\n",
       "      <td>273</td>\n",
       "      <td>2.619730e+06</td>\n",
       "    </tr>\n",
       "  </tbody>\n",
       "</table>\n",
       "<p>2648 rows × 6 columns</p>\n",
       "</div>"
      ],
      "text/plain": [
       "        기준년월 tco_btc_nm  ma_fem_dc  agegrp_dc  tco_btc_u_ct  tco_btc_u_am\n",
       "0     201901        백화점          1          1             1  7.600000e+03\n",
       "1     201901        백화점          1         10           379  1.945872e+07\n",
       "2     201901        백화점          1         20         45173  4.747711e+09\n",
       "3     201901        백화점          1         30        271858  2.791826e+10\n",
       "4     201901        백화점          1         40        391109  3.791149e+10\n",
       "...      ...        ...        ...        ...           ...           ...\n",
       "2643  202109        편의점          2         50        844081  6.283353e+09\n",
       "2644  202109        편의점          2         60        243768  1.997442e+09\n",
       "2645  202109        편의점          2         70         40523  3.524203e+08\n",
       "2646  202109        편의점          2         80          6349  5.333488e+07\n",
       "2647  202109        편의점          2         90           273  2.619730e+06\n",
       "\n",
       "[2648 rows x 6 columns]"
      ]
     },
     "execution_count": 67,
     "metadata": {},
     "output_type": "execute_result"
    }
   ],
   "source": [
    "# 컬럼의 이름을 변경\n",
    "# case1 rename()함수\n",
    "offline.rename(\n",
    "    columns={\n",
    "        'crym' : '기준년월'\n",
    "    }\n",
    ")"
   ]
  },
  {
   "cell_type": "code",
   "execution_count": 68,
   "metadata": {},
   "outputs": [],
   "source": [
    "# Dateframe 안에 columns 변수의 데이터를 변경\n",
    "offline.columns = ['기준년월', '업종', '성별', '연령대', '총이용건수', '총이용금액']"
   ]
  },
  {
   "cell_type": "code",
   "execution_count": 69,
   "metadata": {},
   "outputs": [
    {
     "data": {
      "text/html": [
       "<div>\n",
       "<style scoped>\n",
       "    .dataframe tbody tr th:only-of-type {\n",
       "        vertical-align: middle;\n",
       "    }\n",
       "\n",
       "    .dataframe tbody tr th {\n",
       "        vertical-align: top;\n",
       "    }\n",
       "\n",
       "    .dataframe thead th {\n",
       "        text-align: right;\n",
       "    }\n",
       "</style>\n",
       "<table border=\"1\" class=\"dataframe\">\n",
       "  <thead>\n",
       "    <tr style=\"text-align: right;\">\n",
       "      <th></th>\n",
       "      <th>기준년월</th>\n",
       "      <th>업종</th>\n",
       "      <th>성별</th>\n",
       "      <th>연령대</th>\n",
       "      <th>총이용건수</th>\n",
       "      <th>총이용금액</th>\n",
       "    </tr>\n",
       "  </thead>\n",
       "  <tbody>\n",
       "    <tr>\n",
       "      <th>0</th>\n",
       "      <td>201901</td>\n",
       "      <td>백화점</td>\n",
       "      <td>1</td>\n",
       "      <td>1</td>\n",
       "      <td>1</td>\n",
       "      <td>7.600000e+03</td>\n",
       "    </tr>\n",
       "    <tr>\n",
       "      <th>1</th>\n",
       "      <td>201901</td>\n",
       "      <td>백화점</td>\n",
       "      <td>1</td>\n",
       "      <td>10</td>\n",
       "      <td>379</td>\n",
       "      <td>1.945872e+07</td>\n",
       "    </tr>\n",
       "    <tr>\n",
       "      <th>2</th>\n",
       "      <td>201901</td>\n",
       "      <td>백화점</td>\n",
       "      <td>1</td>\n",
       "      <td>20</td>\n",
       "      <td>45173</td>\n",
       "      <td>4.747711e+09</td>\n",
       "    </tr>\n",
       "    <tr>\n",
       "      <th>3</th>\n",
       "      <td>201901</td>\n",
       "      <td>백화점</td>\n",
       "      <td>1</td>\n",
       "      <td>30</td>\n",
       "      <td>271858</td>\n",
       "      <td>2.791826e+10</td>\n",
       "    </tr>\n",
       "    <tr>\n",
       "      <th>4</th>\n",
       "      <td>201901</td>\n",
       "      <td>백화점</td>\n",
       "      <td>1</td>\n",
       "      <td>40</td>\n",
       "      <td>391109</td>\n",
       "      <td>3.791149e+10</td>\n",
       "    </tr>\n",
       "  </tbody>\n",
       "</table>\n",
       "</div>"
      ],
      "text/plain": [
       "     기준년월   업종  성별  연령대   총이용건수         총이용금액\n",
       "0  201901  백화점   1    1       1  7.600000e+03\n",
       "1  201901  백화점   1   10     379  1.945872e+07\n",
       "2  201901  백화점   1   20   45173  4.747711e+09\n",
       "3  201901  백화점   1   30  271858  2.791826e+10\n",
       "4  201901  백화점   1   40  391109  3.791149e+10"
      ]
     },
     "execution_count": 69,
     "metadata": {},
     "output_type": "execute_result"
    }
   ],
   "source": [
    "offline.head()"
   ]
  },
  {
   "cell_type": "code",
   "execution_count": 70,
   "metadata": {},
   "outputs": [
    {
     "name": "stdout",
     "output_type": "stream",
     "text": [
      "<class 'pandas.core.frame.DataFrame'>\n",
      "RangeIndex: 2648 entries, 0 to 2647\n",
      "Data columns (total 6 columns):\n",
      " #   Column  Non-Null Count  Dtype  \n",
      "---  ------  --------------  -----  \n",
      " 0   기준년월    2648 non-null   int64  \n",
      " 1   업종      2648 non-null   object \n",
      " 2   성별      2648 non-null   int64  \n",
      " 3   연령대     2648 non-null   int64  \n",
      " 4   총이용건수   2648 non-null   int64  \n",
      " 5   총이용금액   2648 non-null   float64\n",
      "dtypes: float64(1), int64(4), object(1)\n",
      "memory usage: 124.2+ KB\n"
     ]
    }
   ],
   "source": [
    "# 결측치를 확인하는 방법\n",
    "# 데이터프레임의 정보 출력\n",
    "offline.info()"
   ]
  },
  {
   "cell_type": "code",
   "execution_count": 71,
   "metadata": {},
   "outputs": [
    {
     "data": {
      "text/plain": [
       "기준년월     0\n",
       "업종       0\n",
       "성별       0\n",
       "연령대      0\n",
       "총이용건수    0\n",
       "총이용금액    0\n",
       "dtype: int64"
      ]
     },
     "execution_count": 71,
     "metadata": {},
     "output_type": "execute_result"
    }
   ],
   "source": [
    "# isna() : 결측치의 유무를 판단하는 함수\n",
    "# sum() : 합계를 구하는 함수 (True는 1, False는 0)\n",
    "offline.isna().sum()"
   ]
  },
  {
   "cell_type": "code",
   "execution_count": 72,
   "metadata": {},
   "outputs": [
    {
     "data": {
      "text/plain": [
       "np.int64(0)"
      ]
     },
     "execution_count": 72,
     "metadata": {},
     "output_type": "execute_result"
    }
   ],
   "source": [
    "# 성별 컬럼의 데이터중 '-'는 결측치라고 항목 정의서에 명시\n",
    "# '-' 데이터의 개수를 확인\n",
    "# 1 : 남자, 2 : 여자, 9: 남녀무관, - : 결측치\n",
    "# isin() 함수 이용\n",
    "offline['성별'].isin(['-']).sum()"
   ]
  },
  {
   "cell_type": "code",
   "execution_count": 73,
   "metadata": {},
   "outputs": [
    {
     "data": {
      "text/plain": [
       "성별\n",
       "2    1336\n",
       "1    1312\n",
       "Name: count, dtype: int64"
      ]
     },
     "execution_count": 73,
     "metadata": {},
     "output_type": "execute_result"
    }
   ],
   "source": [
    "offline['성별'].value_counts()"
   ]
  },
  {
   "cell_type": "code",
   "execution_count": 74,
   "metadata": {},
   "outputs": [],
   "source": [
    "from datetime import datetime"
   ]
  },
  {
   "cell_type": "code",
   "execution_count": 75,
   "metadata": {},
   "outputs": [
    {
     "data": {
      "text/plain": [
       "0      2019-01-01\n",
       "1      2019-01-01\n",
       "2      2019-01-01\n",
       "3      2019-01-01\n",
       "4      2019-01-01\n",
       "          ...    \n",
       "2643   2021-09-01\n",
       "2644   2021-09-01\n",
       "2645   2021-09-01\n",
       "2646   2021-09-01\n",
       "2647   2021-09-01\n",
       "Name: 기준년월, Length: 2648, dtype: datetime64[ns]"
      ]
     },
     "execution_count": 75,
     "metadata": {},
     "output_type": "execute_result"
    }
   ],
   "source": [
    "# 기준년월 데이터를 시계열 데이터로 변경\n",
    "# datetime 라이브러리 사용\n",
    "offline['기준년월']\n",
    "datetime.strptime( str(offline['기준년월'][0]), '%Y%m')\n",
    "# python에서 제공하는 기본 map( 함수, 1차원 데이터 ) -> map 타입\n",
    "\n",
    "# series에서 제공하는 series.map( 함수 ) -> series 타입\n",
    "offline['기준년월'].map(\n",
    "    lambda x : datetime.strptime(str(x), '%Y%m')\n",
    ")"
   ]
  },
  {
   "cell_type": "code",
   "execution_count": 76,
   "metadata": {},
   "outputs": [],
   "source": [
    "# pandas에서 제공하는 to_datetime()\n",
    "offline['기준년월'] = pd.to_datetime(offline['기준년월'], format = '%Y%m')"
   ]
  },
  {
   "cell_type": "code",
   "execution_count": 77,
   "metadata": {},
   "outputs": [
    {
     "data": {
      "text/plain": [
       "0       2019\n",
       "1       2019\n",
       "2       2019\n",
       "3       2019\n",
       "4       2019\n",
       "        ... \n",
       "2643    2021\n",
       "2644    2021\n",
       "2645    2021\n",
       "2646    2021\n",
       "2647    2021\n",
       "Name: 기준년월, Length: 2648, dtype: object"
      ]
     },
     "execution_count": 77,
     "metadata": {},
     "output_type": "execute_result"
    }
   ],
   "source": [
    "# 기준년 컬럼을 생성하여 기준년월에서 연도만 추출\n",
    "# datetime\n",
    "offline['기준년월'].map(\n",
    "    lambda x: x.strftime('%Y')\n",
    ")"
   ]
  },
  {
   "cell_type": "code",
   "execution_count": 78,
   "metadata": {},
   "outputs": [
    {
     "data": {
      "text/plain": [
       "0       2019\n",
       "1       2019\n",
       "2       2019\n",
       "3       2019\n",
       "4       2019\n",
       "        ... \n",
       "2643    2021\n",
       "2644    2021\n",
       "2645    2021\n",
       "2646    2021\n",
       "2647    2021\n",
       "Name: 기준년월, Length: 2648, dtype: object"
      ]
     },
     "execution_count": 78,
     "metadata": {},
     "output_type": "execute_result"
    }
   ],
   "source": [
    "# series dt 사용\n",
    "offline['기준년월'].dt.strftime('%Y')"
   ]
  },
  {
   "cell_type": "code",
   "execution_count": 79,
   "metadata": {},
   "outputs": [],
   "source": [
    "offline['기준년'] = offline['기준년월'].dt.year"
   ]
  },
  {
   "cell_type": "code",
   "execution_count": 80,
   "metadata": {},
   "outputs": [],
   "source": [
    "# 건당이용금액 = 총이용금액(series) / 총이용건수(series)\n",
    "offline['건당이용금액'] = offline['총이용금액'] / offline['총이용건수']"
   ]
  },
  {
   "cell_type": "code",
   "execution_count": 81,
   "metadata": {},
   "outputs": [
    {
     "data": {
      "text/html": [
       "<div>\n",
       "<style scoped>\n",
       "    .dataframe tbody tr th:only-of-type {\n",
       "        vertical-align: middle;\n",
       "    }\n",
       "\n",
       "    .dataframe tbody tr th {\n",
       "        vertical-align: top;\n",
       "    }\n",
       "\n",
       "    .dataframe thead th {\n",
       "        text-align: right;\n",
       "    }\n",
       "</style>\n",
       "<table border=\"1\" class=\"dataframe\">\n",
       "  <thead>\n",
       "    <tr style=\"text-align: right;\">\n",
       "      <th></th>\n",
       "      <th>기준년월</th>\n",
       "      <th>업종</th>\n",
       "      <th>성별</th>\n",
       "      <th>연령대</th>\n",
       "      <th>총이용건수</th>\n",
       "      <th>총이용금액</th>\n",
       "      <th>기준년</th>\n",
       "      <th>건당이용금액</th>\n",
       "    </tr>\n",
       "  </thead>\n",
       "  <tbody>\n",
       "    <tr>\n",
       "      <th>0</th>\n",
       "      <td>2019-01-01</td>\n",
       "      <td>백화점</td>\n",
       "      <td>1</td>\n",
       "      <td>1</td>\n",
       "      <td>1</td>\n",
       "      <td>7.600000e+03</td>\n",
       "      <td>2019</td>\n",
       "      <td>7600.000000</td>\n",
       "    </tr>\n",
       "    <tr>\n",
       "      <th>1</th>\n",
       "      <td>2019-01-01</td>\n",
       "      <td>백화점</td>\n",
       "      <td>1</td>\n",
       "      <td>10</td>\n",
       "      <td>379</td>\n",
       "      <td>1.945872e+07</td>\n",
       "      <td>2019</td>\n",
       "      <td>51342.269129</td>\n",
       "    </tr>\n",
       "    <tr>\n",
       "      <th>2</th>\n",
       "      <td>2019-01-01</td>\n",
       "      <td>백화점</td>\n",
       "      <td>1</td>\n",
       "      <td>20</td>\n",
       "      <td>45173</td>\n",
       "      <td>4.747711e+09</td>\n",
       "      <td>2019</td>\n",
       "      <td>105100.635357</td>\n",
       "    </tr>\n",
       "    <tr>\n",
       "      <th>3</th>\n",
       "      <td>2019-01-01</td>\n",
       "      <td>백화점</td>\n",
       "      <td>1</td>\n",
       "      <td>30</td>\n",
       "      <td>271858</td>\n",
       "      <td>2.791826e+10</td>\n",
       "      <td>2019</td>\n",
       "      <td>102694.279892</td>\n",
       "    </tr>\n",
       "    <tr>\n",
       "      <th>4</th>\n",
       "      <td>2019-01-01</td>\n",
       "      <td>백화점</td>\n",
       "      <td>1</td>\n",
       "      <td>40</td>\n",
       "      <td>391109</td>\n",
       "      <td>3.791149e+10</td>\n",
       "      <td>2019</td>\n",
       "      <td>96933.301601</td>\n",
       "    </tr>\n",
       "  </tbody>\n",
       "</table>\n",
       "</div>"
      ],
      "text/plain": [
       "        기준년월   업종  성별  연령대   총이용건수         총이용금액   기준년         건당이용금액\n",
       "0 2019-01-01  백화점   1    1       1  7.600000e+03  2019    7600.000000\n",
       "1 2019-01-01  백화점   1   10     379  1.945872e+07  2019   51342.269129\n",
       "2 2019-01-01  백화점   1   20   45173  4.747711e+09  2019  105100.635357\n",
       "3 2019-01-01  백화점   1   30  271858  2.791826e+10  2019  102694.279892\n",
       "4 2019-01-01  백화점   1   40  391109  3.791149e+10  2019   96933.301601"
      ]
     },
     "execution_count": 81,
     "metadata": {},
     "output_type": "execute_result"
    }
   ],
   "source": [
    "offline.head()"
   ]
  },
  {
   "cell_type": "code",
   "execution_count": 82,
   "metadata": {},
   "outputs": [],
   "source": [
    "# groupby()를 이용한 그룹화 연산\n",
    "# 성별, 년도별 데이터를 이용하여 그룹화를하고 건당 이용금액의 평균\n",
    "group_data = offline[['성별', '기준년', '건당이용금액']].groupby(['성별', '기준년']).mean()"
   ]
  },
  {
   "cell_type": "code",
   "execution_count": 83,
   "metadata": {},
   "outputs": [
    {
     "data": {
      "text/html": [
       "<div>\n",
       "<style scoped>\n",
       "    .dataframe tbody tr th:only-of-type {\n",
       "        vertical-align: middle;\n",
       "    }\n",
       "\n",
       "    .dataframe tbody tr th {\n",
       "        vertical-align: top;\n",
       "    }\n",
       "\n",
       "    .dataframe thead tr th {\n",
       "        text-align: left;\n",
       "    }\n",
       "\n",
       "    .dataframe thead tr:last-of-type th {\n",
       "        text-align: right;\n",
       "    }\n",
       "</style>\n",
       "<table border=\"1\" class=\"dataframe\">\n",
       "  <thead>\n",
       "    <tr>\n",
       "      <th></th>\n",
       "      <th colspan=\"3\" halign=\"left\">건당이용금액</th>\n",
       "    </tr>\n",
       "    <tr>\n",
       "      <th>기준년</th>\n",
       "      <th>2019</th>\n",
       "      <th>2020</th>\n",
       "      <th>2021</th>\n",
       "    </tr>\n",
       "    <tr>\n",
       "      <th>성별</th>\n",
       "      <th></th>\n",
       "      <th></th>\n",
       "      <th></th>\n",
       "    </tr>\n",
       "  </thead>\n",
       "  <tbody>\n",
       "    <tr>\n",
       "      <th>1</th>\n",
       "      <td>39184.349662</td>\n",
       "      <td>44009.589591</td>\n",
       "      <td>46948.320084</td>\n",
       "    </tr>\n",
       "    <tr>\n",
       "      <th>2</th>\n",
       "      <td>38107.838544</td>\n",
       "      <td>41389.763130</td>\n",
       "      <td>43306.318972</td>\n",
       "    </tr>\n",
       "  </tbody>\n",
       "</table>\n",
       "</div>"
      ],
      "text/plain": [
       "           건당이용금액                            \n",
       "기준년          2019          2020          2021\n",
       "성별                                           \n",
       "1    39184.349662  44009.589591  46948.320084\n",
       "2    38107.838544  41389.763130  43306.318972"
      ]
     },
     "execution_count": 83,
     "metadata": {},
     "output_type": "execute_result"
    }
   ],
   "source": [
    "# unstack() -> 인덱스의 기준을 컬럼의 기준으로 변경\n",
    "# stack() -> 컬럼의 기준을 인덱스의 기준으로 변경\n",
    "group_data.unstack()"
   ]
  },
  {
   "cell_type": "code",
   "execution_count": 84,
   "metadata": {},
   "outputs": [
    {
     "data": {
      "text/html": [
       "<div>\n",
       "<style scoped>\n",
       "    .dataframe tbody tr th:only-of-type {\n",
       "        vertical-align: middle;\n",
       "    }\n",
       "\n",
       "    .dataframe tbody tr th {\n",
       "        vertical-align: top;\n",
       "    }\n",
       "\n",
       "    .dataframe thead th {\n",
       "        text-align: right;\n",
       "    }\n",
       "</style>\n",
       "<table border=\"1\" class=\"dataframe\">\n",
       "  <thead>\n",
       "    <tr style=\"text-align: right;\">\n",
       "      <th>기준년</th>\n",
       "      <th>2019</th>\n",
       "      <th>2020</th>\n",
       "      <th>2021</th>\n",
       "    </tr>\n",
       "    <tr>\n",
       "      <th>성별</th>\n",
       "      <th></th>\n",
       "      <th></th>\n",
       "      <th></th>\n",
       "    </tr>\n",
       "  </thead>\n",
       "  <tbody>\n",
       "    <tr>\n",
       "      <th>1</th>\n",
       "      <td>3.542740e+12</td>\n",
       "      <td>3.476297e+12</td>\n",
       "      <td>2.643688e+12</td>\n",
       "    </tr>\n",
       "    <tr>\n",
       "      <th>2</th>\n",
       "      <td>7.210066e+12</td>\n",
       "      <td>6.485446e+12</td>\n",
       "      <td>4.840621e+12</td>\n",
       "    </tr>\n",
       "  </tbody>\n",
       "</table>\n",
       "</div>"
      ],
      "text/plain": [
       "기준년          2019          2020          2021\n",
       "성별                                           \n",
       "1    3.542740e+12  3.476297e+12  2.643688e+12\n",
       "2    7.210066e+12  6.485446e+12  4.840621e+12"
      ]
     },
     "execution_count": 84,
     "metadata": {},
     "output_type": "execute_result"
    }
   ],
   "source": [
    "# pivot_table()\n",
    "# 성별, 년도별 총이용금액의 합계를 확인\n",
    "offline.pivot_table(\n",
    "    index = '성별',\n",
    "    columns = '기준년',\n",
    "    values = '총이용금액',\n",
    "    aggfunc = 'sum'\n",
    ")"
   ]
  },
  {
   "cell_type": "code",
   "execution_count": 85,
   "metadata": {},
   "outputs": [],
   "source": [
    "import matplotlib.pyplot as plt\n",
    "import platform"
   ]
  },
  {
   "cell_type": "code",
   "execution_count": 86,
   "metadata": {},
   "outputs": [],
   "source": [
    "# 그래프 시각화 한글 깨짐 방지 -> 폰트 변경\n",
    "if platform.system() == 'Darwin':\n",
    "    plt.rc('font', family = 'AppleGothic')\n",
    "else:\n",
    "    plt.rc('font', family = 'Malgun Gothic')"
   ]
  },
  {
   "cell_type": "code",
   "execution_count": 87,
   "metadata": {},
   "outputs": [
    {
     "data": {
      "text/plain": [
       "<Axes: xlabel='기준년월'>"
      ]
     },
     "execution_count": 87,
     "metadata": {},
     "output_type": "execute_result"
    },
    {
     "data": {
      "image/png": "[encoded data removed]",
      "text/plain": [
       "<Figure size 640x480 with 1 Axes>"
      ]
     },
     "metadata": {},
     "output_type": "display_data"
    }
   ],
   "source": [
    "# 기준년월, 업종 별 총 이용금액의 합계 -> 그래프 시각화(라인그래프)\n",
    "group_data2 = offline.groupby(['기준년월', '업종'])['총이용금액'].sum()\n",
    "group_data2.unstack().plot()"
   ]
  },
  {
   "cell_type": "markdown",
   "metadata": {},
   "source": [
    "1. 온라인.csv 파일을 로드\n",
    "2. 두개의 데이터프레임을 단순한 행 결합 (유니언 결합)\n",
    "    - 오프라인 데이터와 온라인 데이터의 컬럼의 이름이 다른 문제\n",
    "        - 온라인 데이터의 컬럼의 이름을 변경\n",
    "    - 오프라인 데이터에서 기준년월 컬럼은 지금 시계열, 온라인의 기준년월 숫자\n",
    "        - 온라인의 기준년월을 시계열로 변경\n",
    "    - 오프라인 데이터에서 기준년, 건당이용금액 제거 \n",
    "    - 온라인 데이터에서 결측치가 존재하는가?\n",
    "    - 단순 행 결합\n",
    "3. 온라인 데이터에서는 업종 컬럼이 존재하지 않기 때문에 결측치 생성\n",
    "    - 결측치를 '온라인' 대체"
   ]
  },
  {
   "cell_type": "code",
   "execution_count": 88,
   "metadata": {},
   "outputs": [],
   "source": [
    "online = pd.read_csv('../../csv/test_csv/온라인.csv')"
   ]
  },
  {
   "cell_type": "code",
   "execution_count": 89,
   "metadata": {},
   "outputs": [
    {
     "data": {
      "text/html": [
       "<div>\n",
       "<style scoped>\n",
       "    .dataframe tbody tr th:only-of-type {\n",
       "        vertical-align: middle;\n",
       "    }\n",
       "\n",
       "    .dataframe tbody tr th {\n",
       "        vertical-align: top;\n",
       "    }\n",
       "\n",
       "    .dataframe thead th {\n",
       "        text-align: right;\n",
       "    }\n",
       "</style>\n",
       "<table border=\"1\" class=\"dataframe\">\n",
       "  <thead>\n",
       "    <tr style=\"text-align: right;\">\n",
       "      <th></th>\n",
       "      <th>crym</th>\n",
       "      <th>ma_fem_dc</th>\n",
       "      <th>agegrp_dc</th>\n",
       "      <th>tco_btc_u_ct</th>\n",
       "      <th>tco_btc_u_am</th>\n",
       "    </tr>\n",
       "  </thead>\n",
       "  <tbody>\n",
       "    <tr>\n",
       "      <th>0</th>\n",
       "      <td>201901</td>\n",
       "      <td>1</td>\n",
       "      <td>1</td>\n",
       "      <td>1</td>\n",
       "      <td>110685</td>\n",
       "    </tr>\n",
       "    <tr>\n",
       "      <th>1</th>\n",
       "      <td>201901</td>\n",
       "      <td>1</td>\n",
       "      <td>10</td>\n",
       "      <td>2333</td>\n",
       "      <td>98108225</td>\n",
       "    </tr>\n",
       "    <tr>\n",
       "      <th>2</th>\n",
       "      <td>201901</td>\n",
       "      <td>1</td>\n",
       "      <td>20</td>\n",
       "      <td>272915</td>\n",
       "      <td>13854081656</td>\n",
       "    </tr>\n",
       "    <tr>\n",
       "      <th>3</th>\n",
       "      <td>201901</td>\n",
       "      <td>1</td>\n",
       "      <td>30</td>\n",
       "      <td>1320227</td>\n",
       "      <td>82946127640</td>\n",
       "    </tr>\n",
       "    <tr>\n",
       "      <th>4</th>\n",
       "      <td>201901</td>\n",
       "      <td>1</td>\n",
       "      <td>40</td>\n",
       "      <td>1372052</td>\n",
       "      <td>95550848337</td>\n",
       "    </tr>\n",
       "  </tbody>\n",
       "</table>\n",
       "</div>"
      ],
      "text/plain": [
       "     crym  ma_fem_dc  agegrp_dc  tco_btc_u_ct  tco_btc_u_am\n",
       "0  201901          1          1             1        110685\n",
       "1  201901          1         10          2333      98108225\n",
       "2  201901          1         20        272915   13854081656\n",
       "3  201901          1         30       1320227   82946127640\n",
       "4  201901          1         40       1372052   95550848337"
      ]
     },
     "execution_count": 89,
     "metadata": {},
     "output_type": "execute_result"
    }
   ],
   "source": [
    "online.head()"
   ]
  },
  {
   "cell_type": "code",
   "execution_count": 90,
   "metadata": {},
   "outputs": [],
   "source": [
    "online.columns = ['기준년월', '성별', '연령대', '총이용건수', '총이용금액']"
   ]
  },
  {
   "cell_type": "code",
   "execution_count": 91,
   "metadata": {},
   "outputs": [
    {
     "data": {
      "text/html": [
       "<div>\n",
       "<style scoped>\n",
       "    .dataframe tbody tr th:only-of-type {\n",
       "        vertical-align: middle;\n",
       "    }\n",
       "\n",
       "    .dataframe tbody tr th {\n",
       "        vertical-align: top;\n",
       "    }\n",
       "\n",
       "    .dataframe thead th {\n",
       "        text-align: right;\n",
       "    }\n",
       "</style>\n",
       "<table border=\"1\" class=\"dataframe\">\n",
       "  <thead>\n",
       "    <tr style=\"text-align: right;\">\n",
       "      <th></th>\n",
       "      <th>기준년월</th>\n",
       "      <th>성별</th>\n",
       "      <th>연령대</th>\n",
       "      <th>총이용건수</th>\n",
       "      <th>총이용금액</th>\n",
       "    </tr>\n",
       "  </thead>\n",
       "  <tbody>\n",
       "    <tr>\n",
       "      <th>0</th>\n",
       "      <td>201901</td>\n",
       "      <td>1</td>\n",
       "      <td>1</td>\n",
       "      <td>1</td>\n",
       "      <td>110685</td>\n",
       "    </tr>\n",
       "    <tr>\n",
       "      <th>1</th>\n",
       "      <td>201901</td>\n",
       "      <td>1</td>\n",
       "      <td>10</td>\n",
       "      <td>2333</td>\n",
       "      <td>98108225</td>\n",
       "    </tr>\n",
       "    <tr>\n",
       "      <th>2</th>\n",
       "      <td>201901</td>\n",
       "      <td>1</td>\n",
       "      <td>20</td>\n",
       "      <td>272915</td>\n",
       "      <td>13854081656</td>\n",
       "    </tr>\n",
       "    <tr>\n",
       "      <th>3</th>\n",
       "      <td>201901</td>\n",
       "      <td>1</td>\n",
       "      <td>30</td>\n",
       "      <td>1320227</td>\n",
       "      <td>82946127640</td>\n",
       "    </tr>\n",
       "    <tr>\n",
       "      <th>4</th>\n",
       "      <td>201901</td>\n",
       "      <td>1</td>\n",
       "      <td>40</td>\n",
       "      <td>1372052</td>\n",
       "      <td>95550848337</td>\n",
       "    </tr>\n",
       "  </tbody>\n",
       "</table>\n",
       "</div>"
      ],
      "text/plain": [
       "     기준년월  성별  연령대    총이용건수        총이용금액\n",
       "0  201901   1    1        1       110685\n",
       "1  201901   1   10     2333     98108225\n",
       "2  201901   1   20   272915  13854081656\n",
       "3  201901   1   30  1320227  82946127640\n",
       "4  201901   1   40  1372052  95550848337"
      ]
     },
     "execution_count": 91,
     "metadata": {},
     "output_type": "execute_result"
    }
   ],
   "source": [
    "online.head()"
   ]
  },
  {
   "cell_type": "code",
   "execution_count": 92,
   "metadata": {},
   "outputs": [
    {
     "data": {
      "text/html": [
       "<div>\n",
       "<style scoped>\n",
       "    .dataframe tbody tr th:only-of-type {\n",
       "        vertical-align: middle;\n",
       "    }\n",
       "\n",
       "    .dataframe tbody tr th {\n",
       "        vertical-align: top;\n",
       "    }\n",
       "\n",
       "    .dataframe thead th {\n",
       "        text-align: right;\n",
       "    }\n",
       "</style>\n",
       "<table border=\"1\" class=\"dataframe\">\n",
       "  <thead>\n",
       "    <tr style=\"text-align: right;\">\n",
       "      <th></th>\n",
       "      <th>기준년월</th>\n",
       "      <th>업종</th>\n",
       "      <th>성별</th>\n",
       "      <th>연령대</th>\n",
       "      <th>총이용건수</th>\n",
       "      <th>총이용금액</th>\n",
       "      <th>기준년</th>\n",
       "      <th>건당이용금액</th>\n",
       "    </tr>\n",
       "  </thead>\n",
       "  <tbody>\n",
       "    <tr>\n",
       "      <th>0</th>\n",
       "      <td>2019-01-01</td>\n",
       "      <td>백화점</td>\n",
       "      <td>1</td>\n",
       "      <td>1</td>\n",
       "      <td>1</td>\n",
       "      <td>7600.0</td>\n",
       "      <td>2019</td>\n",
       "      <td>7600.0</td>\n",
       "    </tr>\n",
       "  </tbody>\n",
       "</table>\n",
       "</div>"
      ],
      "text/plain": [
       "        기준년월   업종  성별  연령대  총이용건수   총이용금액   기준년  건당이용금액\n",
       "0 2019-01-01  백화점   1    1      1  7600.0  2019  7600.0"
      ]
     },
     "execution_count": 92,
     "metadata": {},
     "output_type": "execute_result"
    }
   ],
   "source": [
    "offline.head(1)"
   ]
  },
  {
   "cell_type": "code",
   "execution_count": 93,
   "metadata": {},
   "outputs": [],
   "source": [
    "online['기준년월'] = pd.to_datetime(online['기준년월'], format='%Y%m')"
   ]
  },
  {
   "cell_type": "code",
   "execution_count": 94,
   "metadata": {},
   "outputs": [
    {
     "data": {
      "text/html": [
       "<div>\n",
       "<style scoped>\n",
       "    .dataframe tbody tr th:only-of-type {\n",
       "        vertical-align: middle;\n",
       "    }\n",
       "\n",
       "    .dataframe tbody tr th {\n",
       "        vertical-align: top;\n",
       "    }\n",
       "\n",
       "    .dataframe thead th {\n",
       "        text-align: right;\n",
       "    }\n",
       "</style>\n",
       "<table border=\"1\" class=\"dataframe\">\n",
       "  <thead>\n",
       "    <tr style=\"text-align: right;\">\n",
       "      <th></th>\n",
       "      <th>기준년월</th>\n",
       "      <th>업종</th>\n",
       "      <th>성별</th>\n",
       "      <th>연령대</th>\n",
       "      <th>총이용건수</th>\n",
       "      <th>총이용금액</th>\n",
       "    </tr>\n",
       "  </thead>\n",
       "  <tbody>\n",
       "    <tr>\n",
       "      <th>0</th>\n",
       "      <td>2019-01-01</td>\n",
       "      <td>백화점</td>\n",
       "      <td>1</td>\n",
       "      <td>1</td>\n",
       "      <td>1</td>\n",
       "      <td>7.600000e+03</td>\n",
       "    </tr>\n",
       "    <tr>\n",
       "      <th>1</th>\n",
       "      <td>2019-01-01</td>\n",
       "      <td>백화점</td>\n",
       "      <td>1</td>\n",
       "      <td>10</td>\n",
       "      <td>379</td>\n",
       "      <td>1.945872e+07</td>\n",
       "    </tr>\n",
       "    <tr>\n",
       "      <th>2</th>\n",
       "      <td>2019-01-01</td>\n",
       "      <td>백화점</td>\n",
       "      <td>1</td>\n",
       "      <td>20</td>\n",
       "      <td>45173</td>\n",
       "      <td>4.747711e+09</td>\n",
       "    </tr>\n",
       "    <tr>\n",
       "      <th>3</th>\n",
       "      <td>2019-01-01</td>\n",
       "      <td>백화점</td>\n",
       "      <td>1</td>\n",
       "      <td>30</td>\n",
       "      <td>271858</td>\n",
       "      <td>2.791826e+10</td>\n",
       "    </tr>\n",
       "    <tr>\n",
       "      <th>4</th>\n",
       "      <td>2019-01-01</td>\n",
       "      <td>백화점</td>\n",
       "      <td>1</td>\n",
       "      <td>40</td>\n",
       "      <td>391109</td>\n",
       "      <td>3.791149e+10</td>\n",
       "    </tr>\n",
       "    <tr>\n",
       "      <th>...</th>\n",
       "      <td>...</td>\n",
       "      <td>...</td>\n",
       "      <td>...</td>\n",
       "      <td>...</td>\n",
       "      <td>...</td>\n",
       "      <td>...</td>\n",
       "    </tr>\n",
       "    <tr>\n",
       "      <th>2643</th>\n",
       "      <td>2021-09-01</td>\n",
       "      <td>편의점</td>\n",
       "      <td>2</td>\n",
       "      <td>50</td>\n",
       "      <td>844081</td>\n",
       "      <td>6.283353e+09</td>\n",
       "    </tr>\n",
       "    <tr>\n",
       "      <th>2644</th>\n",
       "      <td>2021-09-01</td>\n",
       "      <td>편의점</td>\n",
       "      <td>2</td>\n",
       "      <td>60</td>\n",
       "      <td>243768</td>\n",
       "      <td>1.997442e+09</td>\n",
       "    </tr>\n",
       "    <tr>\n",
       "      <th>2645</th>\n",
       "      <td>2021-09-01</td>\n",
       "      <td>편의점</td>\n",
       "      <td>2</td>\n",
       "      <td>70</td>\n",
       "      <td>40523</td>\n",
       "      <td>3.524203e+08</td>\n",
       "    </tr>\n",
       "    <tr>\n",
       "      <th>2646</th>\n",
       "      <td>2021-09-01</td>\n",
       "      <td>편의점</td>\n",
       "      <td>2</td>\n",
       "      <td>80</td>\n",
       "      <td>6349</td>\n",
       "      <td>5.333488e+07</td>\n",
       "    </tr>\n",
       "    <tr>\n",
       "      <th>2647</th>\n",
       "      <td>2021-09-01</td>\n",
       "      <td>편의점</td>\n",
       "      <td>2</td>\n",
       "      <td>90</td>\n",
       "      <td>273</td>\n",
       "      <td>2.619730e+06</td>\n",
       "    </tr>\n",
       "  </tbody>\n",
       "</table>\n",
       "<p>2648 rows × 6 columns</p>\n",
       "</div>"
      ],
      "text/plain": [
       "           기준년월   업종  성별  연령대   총이용건수         총이용금액\n",
       "0    2019-01-01  백화점   1    1       1  7.600000e+03\n",
       "1    2019-01-01  백화점   1   10     379  1.945872e+07\n",
       "2    2019-01-01  백화점   1   20   45173  4.747711e+09\n",
       "3    2019-01-01  백화점   1   30  271858  2.791826e+10\n",
       "4    2019-01-01  백화점   1   40  391109  3.791149e+10\n",
       "...         ...  ...  ..  ...     ...           ...\n",
       "2643 2021-09-01  편의점   2   50  844081  6.283353e+09\n",
       "2644 2021-09-01  편의점   2   60  243768  1.997442e+09\n",
       "2645 2021-09-01  편의점   2   70   40523  3.524203e+08\n",
       "2646 2021-09-01  편의점   2   80    6349  5.333488e+07\n",
       "2647 2021-09-01  편의점   2   90     273  2.619730e+06\n",
       "\n",
       "[2648 rows x 6 columns]"
      ]
     },
     "execution_count": 94,
     "metadata": {},
     "output_type": "execute_result"
    }
   ],
   "source": [
    "# 특정 컬럼을 제거\n",
    "# 특정 컬럼만 선택해서 필터\n",
    "offline.loc[:,'기준년월' : '총이용금액']"
   ]
  },
  {
   "cell_type": "code",
   "execution_count": 95,
   "metadata": {},
   "outputs": [],
   "source": [
    "offline.drop(['기준년', '건당이용금액'], axis=1, inplace=True)"
   ]
  },
  {
   "cell_type": "code",
   "execution_count": 96,
   "metadata": {},
   "outputs": [
    {
     "data": {
      "text/plain": [
       "기준년월     0\n",
       "성별       0\n",
       "연령대      0\n",
       "총이용건수    0\n",
       "총이용금액    0\n",
       "dtype: int64"
      ]
     },
     "execution_count": 96,
     "metadata": {},
     "output_type": "execute_result"
    }
   ],
   "source": [
    "# 온라인데이터에서 결측치가 존재하는가?\n",
    "online.isna().sum()"
   ]
  },
  {
   "cell_type": "code",
   "execution_count": 97,
   "metadata": {},
   "outputs": [
    {
     "data": {
      "text/plain": [
       "기준년월     0\n",
       "성별       0\n",
       "연령대      0\n",
       "총이용건수    0\n",
       "총이용금액    0\n",
       "dtype: int64"
      ]
     },
     "execution_count": 97,
     "metadata": {},
     "output_type": "execute_result"
    }
   ],
   "source": [
    "online.isin(['-']).sum()"
   ]
  },
  {
   "cell_type": "code",
   "execution_count": 98,
   "metadata": {},
   "outputs": [],
   "source": [
    "df = pd.concat([offline, online], axis=0)"
   ]
  },
  {
   "cell_type": "code",
   "execution_count": 99,
   "metadata": {},
   "outputs": [
    {
     "data": {
      "text/plain": [
       "0      백화점\n",
       "1      백화점\n",
       "2      백화점\n",
       "3      백화점\n",
       "4      백화점\n",
       "      ... \n",
       "646    온라인\n",
       "647    온라인\n",
       "648    온라인\n",
       "649    온라인\n",
       "650    온라인\n",
       "Name: 업종, Length: 3299, dtype: object"
      ]
     },
     "execution_count": 99,
     "metadata": {},
     "output_type": "execute_result"
    }
   ],
   "source": [
    "# df에서 업종에 존재하는 결측치는 '온라인' 대체\n",
    "df['업종'].fillna('온라인')"
   ]
  },
  {
   "cell_type": "code",
   "execution_count": 100,
   "metadata": {},
   "outputs": [
    {
     "data": {
      "text/plain": [
       "0      백화점\n",
       "1      백화점\n",
       "2      백화점\n",
       "3      백화점\n",
       "4      백화점\n",
       "      ... \n",
       "646    온라인\n",
       "647    온라인\n",
       "648    온라인\n",
       "649    온라인\n",
       "650    온라인\n",
       "Name: 업종, Length: 3299, dtype: object"
      ]
     },
     "execution_count": 100,
     "metadata": {},
     "output_type": "execute_result"
    }
   ],
   "source": [
    "# if문 한줄 -> '참인경우결과' if 조건식 else '거짓인경우결과'\n",
    "df['업종'].map(\n",
    "    lambda x : '온라인' if pd.isna(x) else x\n",
    "    )"
   ]
  },
  {
   "cell_type": "code",
   "execution_count": 101,
   "metadata": {},
   "outputs": [],
   "source": [
    "flag = df['업종'].isna()\n",
    "df.loc[flag, '업종'] = '온라인'"
   ]
  },
  {
   "cell_type": "code",
   "execution_count": 102,
   "metadata": {},
   "outputs": [
    {
     "data": {
      "text/plain": [
       "기준년월     0\n",
       "업종       0\n",
       "성별       0\n",
       "연령대      0\n",
       "총이용건수    0\n",
       "총이용금액    0\n",
       "dtype: int64"
      ]
     },
     "execution_count": 102,
     "metadata": {},
     "output_type": "execute_result"
    }
   ],
   "source": [
    "df.isna().sum()"
   ]
  },
  {
   "cell_type": "code",
   "execution_count": 103,
   "metadata": {},
   "outputs": [
    {
     "data": {
      "text/plain": [
       "연령대\n",
       "10    330\n",
       "20    330\n",
       "30    330\n",
       "40    330\n",
       "50    330\n",
       "60    330\n",
       "70    330\n",
       "80    330\n",
       "90    330\n",
       "0     284\n",
       "1      45\n",
       "Name: count, dtype: int64"
      ]
     },
     "execution_count": 103,
     "metadata": {},
     "output_type": "execute_result"
    }
   ],
   "source": [
    "df['연령대'].value_counts()"
   ]
  },
  {
   "cell_type": "code",
   "execution_count": 104,
   "metadata": {},
   "outputs": [],
   "source": [
    "df2 = df.loc[df['연령대'] != 0]"
   ]
  },
  {
   "cell_type": "code",
   "execution_count": 114,
   "metadata": {},
   "outputs": [],
   "source": [
    "group_data3 = df2.groupby(['기준년월', '업종'])['총이용금액'].sum()"
   ]
  },
  {
   "cell_type": "code",
   "execution_count": 49,
   "metadata": {},
   "outputs": [
    {
     "data": {
      "text/plain": [
       "<Axes: xlabel='기준년월'>"
      ]
     },
     "execution_count": 49,
     "metadata": {},
     "output_type": "execute_result"
    },
    {
     "data": {
      "image/png": "[encoded data removed]",
      "text/plain": [
       "<Figure size 640x480 with 1 Axes>"
      ]
     },
     "metadata": {},
     "output_type": "display_data"
    }
   ],
   "source": [
    "group_data3.unstack().plot()"
   ]
  },
  {
   "cell_type": "code",
   "execution_count": 110,
   "metadata": {},
   "outputs": [],
   "source": [
    "# df2에서 '업종' 컬럼의 데이터가 온라인이라면 0\n",
    "# 온라인이 아니면 1\n",
    "# 새로운 컬럼을 생성\n",
    "flag = df2['업종'] == '온라인'\n",
    "df2.loc[flag, '온/오프'] = 0\n",
    "df2.loc[~flag, '온/오프'] = 1"
   ]
  },
  {
   "cell_type": "code",
   "execution_count": 112,
   "metadata": {},
   "outputs": [
    {
     "data": {
      "text/plain": [
       "온/오프\n",
       "1.0    2415\n",
       "0.0     600\n",
       "Name: count, dtype: int64"
      ]
     },
     "execution_count": 112,
     "metadata": {},
     "output_type": "execute_result"
    }
   ],
   "source": [
    "df2['온/오프'].value_counts()"
   ]
  },
  {
   "cell_type": "code",
   "execution_count": 119,
   "metadata": {},
   "outputs": [
    {
     "name": "stderr",
     "output_type": "stream",
     "text": [
      "/var/folders/r7/wm80f9fd57g6h8jt36r8dgwh0000gn/T/ipykernel_1777/1639081860.py:1: SettingWithCopyWarning: \n",
      "A value is trying to be set on a copy of a slice from a DataFrame.\n",
      "Try using .loc[row_indexer,col_indexer] = value instead\n",
      "\n",
      "See the caveats in the documentation: https://pandas.pydata.org/pandas-docs/stable/user_guide/indexing.html#returning-a-view-versus-a-copy\n",
      "  df2['온/오프'] = df2['온/오프'].map(\n"
     ]
    }
   ],
   "source": [
    "df2['온/오프'] = df2['온/오프'].map(\n",
    "    {\n",
    "        0 : '온라인',\n",
    "        1 : '오프라인'\n",
    "    }\n",
    ")"
   ]
  },
  {
   "cell_type": "code",
   "execution_count": 120,
   "metadata": {},
   "outputs": [
    {
     "data": {
      "text/plain": [
       "온/오프\n",
       "오프라인    2415\n",
       "온라인      600\n",
       "Name: count, dtype: int64"
      ]
     },
     "execution_count": 120,
     "metadata": {},
     "output_type": "execute_result"
    }
   ],
   "source": [
    "df2['온/오프'].value_counts()"
   ]
  },
  {
   "cell_type": "code",
   "execution_count": 125,
   "metadata": {},
   "outputs": [
    {
     "data": {
      "text/plain": [
       "<Axes: xlabel='기준년월'>"
      ]
     },
     "execution_count": 125,
     "metadata": {},
     "output_type": "execute_result"
    },
    {
     "data": {
      "image/png": "[encoded data removed]",
      "text/plain": [
       "<Figure size 640x480 with 1 Axes>"
      ]
     },
     "metadata": {},
     "output_type": "display_data"
    }
   ],
   "source": [
    "df2.pivot_table(\n",
    "    index = '기준년월',\n",
    "    columns = '온/오프',\n",
    "    values = '총이용금액',\n",
    "    aggfunc = 'sum'\n",
    ").plot()"
   ]
  },
  {
   "cell_type": "code",
   "execution_count": 126,
   "metadata": {},
   "outputs": [
    {
     "data": {
      "text/plain": [
       "업종\n",
       "백화점     1.379302e+13\n",
       "슈퍼마켓    6.221981e+12\n",
       "편의점     1.931779e+12\n",
       "할인점     6.251934e+12\n",
       "dtype: float64"
      ]
     },
     "execution_count": 126,
     "metadata": {},
     "output_type": "execute_result"
    }
   ],
   "source": [
    "group_data3.unstack().drop('온라인', axis=1).sum()"
   ]
  }
 ],
 "metadata": {
  "kernelspec": {
   "display_name": "Python 3",
   "language": "python",
   "name": "python3"
  },
  "language_info": {
   "codemirror_mode": {
    "name": "ipython",
    "version": 3
   },
   "file_extension": ".py",
   "mimetype": "text/x-python",
   "name": "python",
   "nbconvert_exporter": "python",
   "pygments_lexer": "ipython3",
   "version": "3.11.0"
  }
 },
 "nbformat": 4,
 "nbformat_minor": 2
}
