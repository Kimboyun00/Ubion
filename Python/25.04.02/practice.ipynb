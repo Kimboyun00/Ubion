{
 "cells": [
  {
   "cell_type": "markdown",
   "metadata": {},
   "source": [
    "### 예제\n",
    "1. csv폴더 안 test_csv 폴더에서 '오프라인.csv' 파일을 로드\n",
    "2. 컬럼의 이름을 변경 -> ['기준년월', '업종', '성별', '연령대', '총이용건수',\n",
    "'총이용금액']\n",
    "3. 결측치가 존재하는가? 확인\n",
    "4. 기준년월 데이터를 시계열 데이터로 변경\n",
    "5. 성별을 기준으로 연도별 건당 이용금액의 평균이 어떻게 되는가?\n",
    "    - 기준년 데이터가 존재하지 않기 때문에 기준년 컬럼을 생성 -> 기준년월 데이터에서 추출\n",
    "    - 건당이용금액 데이터는 총이용금액 / 총이용건수를 계산하여 대입\n",
    "    - 기준년 데이터를 이용하여 데이터를 그룹화 / 재구조화를 하고 건당이용금액의 평균을 구한다."
   ]
  },
  {
   "cell_type": "code",
   "execution_count": 1,
   "metadata": {},
   "outputs": [],
   "source": [
    "import pandas as pd"
   ]
  },
  {
   "cell_type": "code",
   "execution_count": 4,
   "metadata": {},
   "outputs": [],
   "source": [
    "# 데이터 로드\n",
    "offline = pd.read_csv(\"../../csv/test_csv/오프라인.csv\", encoding='cp949')"
   ]
  },
  {
   "cell_type": "code",
   "execution_count": 5,
   "metadata": {},
   "outputs": [
    {
     "data": {
      "text/html": [
       "<div>\n",
       "<style scoped>\n",
       "    .dataframe tbody tr th:only-of-type {\n",
       "        vertical-align: middle;\n",
       "    }\n",
       "\n",
       "    .dataframe tbody tr th {\n",
       "        vertical-align: top;\n",
       "    }\n",
       "\n",
       "    .dataframe thead th {\n",
       "        text-align: right;\n",
       "    }\n",
       "</style>\n",
       "<table border=\"1\" class=\"dataframe\">\n",
       "  <thead>\n",
       "    <tr style=\"text-align: right;\">\n",
       "      <th></th>\n",
       "      <th>crym</th>\n",
       "      <th>tco_btc_nm</th>\n",
       "      <th>ma_fem_dc</th>\n",
       "      <th>agegrp_dc</th>\n",
       "      <th>tco_btc_u_ct</th>\n",
       "      <th>tco_btc_u_am</th>\n",
       "    </tr>\n",
       "  </thead>\n",
       "  <tbody>\n",
       "    <tr>\n",
       "      <th>0</th>\n",
       "      <td>201901</td>\n",
       "      <td>백화점</td>\n",
       "      <td>1</td>\n",
       "      <td>1</td>\n",
       "      <td>1</td>\n",
       "      <td>7.600000e+03</td>\n",
       "    </tr>\n",
       "    <tr>\n",
       "      <th>1</th>\n",
       "      <td>201901</td>\n",
       "      <td>백화점</td>\n",
       "      <td>1</td>\n",
       "      <td>10</td>\n",
       "      <td>379</td>\n",
       "      <td>1.945872e+07</td>\n",
       "    </tr>\n",
       "    <tr>\n",
       "      <th>2</th>\n",
       "      <td>201901</td>\n",
       "      <td>백화점</td>\n",
       "      <td>1</td>\n",
       "      <td>20</td>\n",
       "      <td>45173</td>\n",
       "      <td>4.747711e+09</td>\n",
       "    </tr>\n",
       "    <tr>\n",
       "      <th>3</th>\n",
       "      <td>201901</td>\n",
       "      <td>백화점</td>\n",
       "      <td>1</td>\n",
       "      <td>30</td>\n",
       "      <td>271858</td>\n",
       "      <td>2.791826e+10</td>\n",
       "    </tr>\n",
       "    <tr>\n",
       "      <th>4</th>\n",
       "      <td>201901</td>\n",
       "      <td>백화점</td>\n",
       "      <td>1</td>\n",
       "      <td>40</td>\n",
       "      <td>391109</td>\n",
       "      <td>3.791149e+10</td>\n",
       "    </tr>\n",
       "  </tbody>\n",
       "</table>\n",
       "</div>"
      ],
      "text/plain": [
       "     crym tco_btc_nm  ma_fem_dc  agegrp_dc  tco_btc_u_ct  tco_btc_u_am\n",
       "0  201901        백화점          1          1             1  7.600000e+03\n",
       "1  201901        백화점          1         10           379  1.945872e+07\n",
       "2  201901        백화점          1         20         45173  4.747711e+09\n",
       "3  201901        백화점          1         30        271858  2.791826e+10\n",
       "4  201901        백화점          1         40        391109  3.791149e+10"
      ]
     },
     "execution_count": 5,
     "metadata": {},
     "output_type": "execute_result"
    }
   ],
   "source": [
    "offline.head()"
   ]
  }
 ],
 "metadata": {
  "kernelspec": {
   "display_name": "Python 3",
   "language": "python",
   "name": "python3"
  },
  "language_info": {
   "codemirror_mode": {
    "name": "ipython",
    "version": 3
   },
   "file_extension": ".py",
   "mimetype": "text/x-python",
   "name": "python",
   "nbconvert_exporter": "python",
   "pygments_lexer": "ipython3",
   "version": "3.11.0"
  }
 },
 "nbformat": 4,
 "nbformat_minor": 2
}
