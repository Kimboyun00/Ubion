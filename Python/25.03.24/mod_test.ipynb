{
 "cells": [
  {
   "cell_type": "code",
   "execution_count": 9,
   "metadata": {},
   "outputs": [],
   "source": [
    "import boll"
   ]
  },
  {
   "cell_type": "code",
   "execution_count": 10,
   "metadata": {},
   "outputs": [
    {
     "data": {
      "text/plain": [
       "<module 'boll' from '/Users/kimboyun/Desktop/Code/Ubion/Python/25.03.24/boll.py'>"
      ]
     },
     "execution_count": 10,
     "metadata": {},
     "output_type": "execute_result"
    }
   ],
   "source": [
    "import importlib\n",
    "importlib.reload(boll)"
   ]
  },
  {
   "cell_type": "code",
   "execution_count": 11,
   "metadata": {},
   "outputs": [],
   "source": [
    "import yfinance as yf"
   ]
  },
  {
   "cell_type": "code",
   "execution_count": 12,
   "metadata": {},
   "outputs": [],
   "source": [
    "# 티커를 기준으로 데이터를 로드\n",
    "ticker_aapl = yf.Ticker('AAPL')"
   ]
  },
  {
   "cell_type": "code",
   "execution_count": 33,
   "metadata": {},
   "outputs": [],
   "source": [
    "df_aapl = ticker_aapl.history(\n",
    "    start = '2020-01-01'\n",
    ")"
   ]
  },
  {
   "cell_type": "code",
   "execution_count": 53,
   "metadata": {},
   "outputs": [
    {
     "data": {
      "text/plain": [
       "DatetimeIndex(['2020-01-02 00:00:00-05:00', '2020-01-03 00:00:00-05:00',\n",
       "               '2020-01-06 00:00:00-05:00', '2020-01-07 00:00:00-05:00',\n",
       "               '2020-01-08 00:00:00-05:00', '2020-01-09 00:00:00-05:00',\n",
       "               '2020-01-10 00:00:00-05:00', '2020-01-13 00:00:00-05:00',\n",
       "               '2020-01-14 00:00:00-05:00', '2020-01-15 00:00:00-05:00',\n",
       "               ...\n",
       "               '2025-03-11 00:00:00-04:00', '2025-03-12 00:00:00-04:00',\n",
       "               '2025-03-13 00:00:00-04:00', '2025-03-14 00:00:00-04:00',\n",
       "               '2025-03-17 00:00:00-04:00', '2025-03-18 00:00:00-04:00',\n",
       "               '2025-03-19 00:00:00-04:00', '2025-03-20 00:00:00-04:00',\n",
       "               '2025-03-21 00:00:00-04:00', '2025-03-24 00:00:00-04:00'],\n",
       "              dtype='datetime64[ns, America/New_York]', name='Date', length=1313, freq=None)"
      ]
     },
     "execution_count": 53,
     "metadata": {},
     "output_type": "execute_result"
    }
   ],
   "source": [
    "df_aapl.index"
   ]
  },
  {
   "cell_type": "code",
   "execution_count": 35,
   "metadata": {},
   "outputs": [],
   "source": [
    "band_aapl = boll.create_band(df_aapl, _col='Close', _start='2010-01-01')"
   ]
  },
  {
   "cell_type": "code",
   "execution_count": 36,
   "metadata": {},
   "outputs": [
    {
     "data": {
      "text/html": [
       "<div>\n",
       "<style scoped>\n",
       "    .dataframe tbody tr th:only-of-type {\n",
       "        vertical-align: middle;\n",
       "    }\n",
       "\n",
       "    .dataframe tbody tr th {\n",
       "        vertical-align: top;\n",
       "    }\n",
       "\n",
       "    .dataframe thead th {\n",
       "        text-align: right;\n",
       "    }\n",
       "</style>\n",
       "<table border=\"1\" class=\"dataframe\">\n",
       "  <thead>\n",
       "    <tr style=\"text-align: right;\">\n",
       "      <th></th>\n",
       "      <th>Close</th>\n",
       "      <th>center</th>\n",
       "      <th>up</th>\n",
       "      <th>down</th>\n",
       "    </tr>\n",
       "    <tr>\n",
       "      <th>Date</th>\n",
       "      <th></th>\n",
       "      <th></th>\n",
       "      <th></th>\n",
       "      <th></th>\n",
       "    </tr>\n",
       "  </thead>\n",
       "  <tbody>\n",
       "    <tr>\n",
       "      <th>2020-01-02</th>\n",
       "      <td>72.716064</td>\n",
       "      <td>NaN</td>\n",
       "      <td>NaN</td>\n",
       "      <td>NaN</td>\n",
       "    </tr>\n",
       "    <tr>\n",
       "      <th>2020-01-03</th>\n",
       "      <td>72.009094</td>\n",
       "      <td>NaN</td>\n",
       "      <td>NaN</td>\n",
       "      <td>NaN</td>\n",
       "    </tr>\n",
       "    <tr>\n",
       "      <th>2020-01-06</th>\n",
       "      <td>72.582901</td>\n",
       "      <td>NaN</td>\n",
       "      <td>NaN</td>\n",
       "      <td>NaN</td>\n",
       "    </tr>\n",
       "    <tr>\n",
       "      <th>2020-01-07</th>\n",
       "      <td>72.241547</td>\n",
       "      <td>NaN</td>\n",
       "      <td>NaN</td>\n",
       "      <td>NaN</td>\n",
       "    </tr>\n",
       "    <tr>\n",
       "      <th>2020-01-08</th>\n",
       "      <td>73.403656</td>\n",
       "      <td>NaN</td>\n",
       "      <td>NaN</td>\n",
       "      <td>NaN</td>\n",
       "    </tr>\n",
       "  </tbody>\n",
       "</table>\n",
       "</div>"
      ],
      "text/plain": [
       "                Close  center  up  down\n",
       "Date                                   \n",
       "2020-01-02  72.716064     NaN NaN   NaN\n",
       "2020-01-03  72.009094     NaN NaN   NaN\n",
       "2020-01-06  72.582901     NaN NaN   NaN\n",
       "2020-01-07  72.241547     NaN NaN   NaN\n",
       "2020-01-08  73.403656     NaN NaN   NaN"
      ]
     },
     "execution_count": 36,
     "metadata": {},
     "output_type": "execute_result"
    }
   ],
   "source": [
    "band_aapl.head()"
   ]
  },
  {
   "cell_type": "code",
   "execution_count": 39,
   "metadata": {},
   "outputs": [],
   "source": [
    "trade_aapl = boll.create_trade(band_aapl)"
   ]
  },
  {
   "cell_type": "code",
   "execution_count": 41,
   "metadata": {},
   "outputs": [
    {
     "data": {
      "text/plain": [
       "trade\n",
       "       789\n",
       "buy    524\n",
       "Name: count, dtype: int64"
      ]
     },
     "execution_count": 41,
     "metadata": {},
     "output_type": "execute_result"
    }
   ],
   "source": [
    "trade_aapl['trade'].value_counts()"
   ]
  },
  {
   "cell_type": "code",
   "execution_count": 42,
   "metadata": {},
   "outputs": [
    {
     "name": "stdout",
     "output_type": "stream",
     "text": [
      "매수일 : 2020-02-24 00:00:00, 매수가 : 72.36203002929688\n",
      "매도일 : 2020-04-14 00:00:00, 매도가 : 69.6610107421875\n",
      "수익률 : 0.9626735280088766\n",
      "매수일 : 2020-10-30 00:00:00, 매수가 : 106.14924621582031\n",
      "매도일 : 2020-12-02 00:00:00, 매도가 : 120.22221374511719\n",
      "수익률 : 1.1325771781806535\n",
      "매수일 : 2021-02-22 00:00:00, 매수가 : 123.25833892822266\n",
      "매도일 : 2021-04-07 00:00:00, 매도가 : 125.11699676513672\n",
      "수익률 : 1.0150793678794943\n",
      "매수일 : 2021-05-04 00:00:00, 매수가 : 125.06806182861328\n",
      "매도일 : 2021-06-14 00:00:00, 매도가 : 127.85762023925781\n",
      "수익률 : 1.022304322701244\n",
      "매수일 : 2021-09-20 00:00:00, 매수가 : 140.27706909179688\n",
      "매도일 : 2021-10-19 00:00:00, 매도가 : 145.9886474609375\n",
      "수익률 : 1.0407164079355193\n",
      "매수일 : 2022-01-19 00:00:00, 매수가 : 163.3712615966797\n",
      "매도일 : 2022-03-24 00:00:00, 매도가 : 171.29443359375\n",
      "수익률 : 1.0484979544115325\n",
      "매수일 : 2022-04-26 00:00:00, 매수가 : 154.29978942871094\n",
      "매도일 : 2022-07-21 00:00:00, 매도가 : 153.09754943847656\n",
      "수익률 : 0.99220841457603\n",
      "매수일 : 2022-08-30 00:00:00, 매수가 : 156.82345581054688\n",
      "매도일 : 2022-10-25 00:00:00, 매도가 : 150.3397216796875\n",
      "수익률 : 0.9586558394766396\n",
      "매수일 : 2022-12-15 00:00:00, 매수가 : 134.93118286132812\n",
      "매도일 : 2023-01-23 00:00:00, 매도가 : 139.48817443847656\n",
      "수익률 : 1.0337727090248054\n",
      "매수일 : 2023-08-04 00:00:00, 매수가 : 180.42221069335938\n",
      "매도일 : 2023-08-31 00:00:00, 매도가 : 186.50306701660156\n",
      "수익률 : 1.03370347974273\n",
      "매수일 : 2023-10-26 00:00:00, 매수가 : 165.67572021484375\n",
      "매도일 : 2023-11-10 00:00:00, 매도가 : 185.28753662109375\n",
      "수익률 : 1.1183747164691238\n",
      "매수일 : 2024-01-02 00:00:00, 매수가 : 184.53208923339844\n",
      "매도일 : 2024-05-03 00:00:00, 매도가 : 182.51817321777344\n",
      "수익률 : 0.9890863641982736\n",
      "매수일 : 2024-08-05 00:00:00, 매수가 : 208.5690155029297\n",
      "매도일 : 2024-09-30 00:00:00, 매도가 : 232.4883270263672\n",
      "수익률 : 1.1146829574170452\n",
      "매수일 : 2024-11-04 00:00:00, 매수가 : 221.52244567871094\n",
      "매도일 : 2024-11-26 00:00:00, 매도가 : 234.8018341064453\n",
      "수익률 : 1.059946017601279\n",
      "매수일 : 2025-01-10 00:00:00, 매수가 : 236.58987426757812\n"
     ]
    },
    {
     "name": "stderr",
     "output_type": "stream",
     "text": [
      "/Users/kimboyun/Desktop/Code/Ubion/Python/25.03.24/boll.py:97: FutureWarning: Setting an item of incompatible dtype is deprecated and will raise an error in a future version of pandas. Value '0.9626735280088766' has dtype incompatible with int64, please explicitly cast to a compatible dtype first.\n",
      "  result.loc[idx, 'rtn'] = rtn\n"
     ]
    }
   ],
   "source": [
    "rtn_aapl, acc_rtn_aapl = boll.create_rtn(trade_aapl)"
   ]
  },
  {
   "cell_type": "code",
   "execution_count": 43,
   "metadata": {},
   "outputs": [
    {
     "data": {
      "text/plain": [
       "np.float64(1.6401001002990836)"
      ]
     },
     "execution_count": 43,
     "metadata": {},
     "output_type": "execute_result"
    }
   ],
   "source": [
    "acc_rtn_aapl"
   ]
  },
  {
   "cell_type": "code",
   "execution_count": 49,
   "metadata": {},
   "outputs": [
    {
     "name": "stdout",
     "output_type": "stream",
     "text": [
      "매수일 : 2022-01-19 00:00:00, 매수가 : 163.3712615966797\n",
      "매도일 : 2022-03-24 00:00:00, 매도가 : 171.29443359375\n",
      "수익률 : 1.0484979544115325\n",
      "매수일 : 2022-04-26 00:00:00, 매수가 : 154.29978942871094\n",
      "매도일 : 2022-07-21 00:00:00, 매도가 : 153.09754943847656\n",
      "수익률 : 0.99220841457603\n",
      "매수일 : 2022-08-30 00:00:00, 매수가 : 156.82345581054688\n",
      "매도일 : 2022-10-25 00:00:00, 매도가 : 150.3397216796875\n",
      "수익률 : 0.9586558394766396\n",
      "매수일 : 2022-12-15 00:00:00, 매수가 : 134.93118286132812\n",
      "매도일 : 2023-01-23 00:00:00, 매도가 : 139.48817443847656\n",
      "수익률 : 1.0337727090248054\n",
      "매수일 : 2023-08-04 00:00:00, 매수가 : 180.42221069335938\n",
      "매도일 : 2023-08-31 00:00:00, 매도가 : 186.50306701660156\n",
      "수익률 : 1.03370347974273\n",
      "매수일 : 2023-10-26 00:00:00, 매수가 : 165.67572021484375\n",
      "매도일 : 2023-11-10 00:00:00, 매도가 : 185.28753662109375\n",
      "수익률 : 1.1183747164691238\n",
      "매수일 : 2024-01-02 00:00:00, 매수가 : 184.53208923339844\n",
      "매도일 : 2024-05-03 00:00:00, 매도가 : 182.51817321777344\n",
      "수익률 : 0.9890863641982736\n",
      "매수일 : 2024-08-05 00:00:00, 매수가 : 208.5690155029297\n",
      "매도일 : 2024-09-30 00:00:00, 매도가 : 232.4883270263672\n",
      "수익률 : 1.1146829574170452\n",
      "매수일 : 2024-11-04 00:00:00, 매수가 : 221.52244567871094\n",
      "매도일 : 2024-11-26 00:00:00, 매도가 : 234.8018341064453\n",
      "수익률 : 1.059946017601279\n",
      "매수일 : 2025-01-10 00:00:00, 매수가 : 236.58987426757812\n"
     ]
    },
    {
     "name": "stderr",
     "output_type": "stream",
     "text": [
      "/Users/kimboyun/Desktop/Code/Ubion/Python/25.03.24/boll.py:97: FutureWarning: Setting an item of incompatible dtype is deprecated and will raise an error in a future version of pandas. Value '1.0484979544115325' has dtype incompatible with int64, please explicitly cast to a compatible dtype first.\n",
      "  result.loc[idx, 'rtn'] = rtn\n"
     ]
    },
    {
     "data": {
      "text/plain": [
       "(                 Close      center          up        down trade  rtn  \\\n",
       " Date                                                                    \n",
       " 2022-01-03  178.879913  172.472044  180.676455  164.267632        1.0   \n",
       " 2022-01-04  176.609634  173.178677  180.091138  166.266216        1.0   \n",
       " 2022-01-05  171.911865  173.362463  179.907300  166.817627        1.0   \n",
       " 2022-01-06  169.042068  173.211113  180.016691  166.405534        1.0   \n",
       " 2022-01-07  169.209122  173.093666  180.097545  166.089788        1.0   \n",
       " ...                ...         ...         ...         ...   ...  ...   \n",
       " 2025-03-18  212.690002  232.457500  258.495777  206.419222   buy  1.0   \n",
       " 2025-03-19  215.240005  230.976000  257.409379  204.542621   buy  1.0   \n",
       " 2025-03-20  214.100006  229.389500  255.877849  202.901152   buy  1.0   \n",
       " 2025-03-21  218.270004  228.025500  253.810140  202.240861   buy  1.0   \n",
       " 2025-03-24  220.729996  226.707000  251.040841  202.373159   buy  1.0   \n",
       " \n",
       "              acc_rtn  \n",
       " Date                  \n",
       " 2022-01-03  1.000000  \n",
       " 2022-01-04  1.000000  \n",
       " 2022-01-05  1.000000  \n",
       " 2022-01-06  1.000000  \n",
       " 2022-01-07  1.000000  \n",
       " ...              ...  \n",
       " 2025-03-18  1.392871  \n",
       " 2025-03-19  1.392871  \n",
       " 2025-03-20  1.392871  \n",
       " 2025-03-21  1.392871  \n",
       " 2025-03-24  1.392871  \n",
       " \n",
       " [808 rows x 7 columns],\n",
       " np.float64(1.3928710758183687))"
      ]
     },
     "execution_count": 49,
     "metadata": {},
     "output_type": "execute_result"
    }
   ],
   "source": [
    "boll.create_rtn(\n",
    "    boll.create_trade(\n",
    "        boll.create_band(\n",
    "            df_aapl, _col = 'Close', _start = '2022-01-01',\n",
    "            _cnt = 20\n",
    "        )\n",
    "    )\n",
    ")"
   ]
  },
  {
   "cell_type": "code",
   "execution_count": 54,
   "metadata": {},
   "outputs": [],
   "source": [
    "trade_20 = boll.create_trade(\n",
    "    boll.create_band(df_aapl, _col = 'Close', _start = \"2022-01-01\",\n",
    "                     _cnt = 20))\n",
    "trade_30 = boll.create_trade(\n",
    "    boll.create_band(df_aapl, _col = 'Close', _start = \"2022-01-01\",\n",
    "                     _cnt = 30))"
   ]
  },
  {
   "cell_type": "code",
   "execution_count": 55,
   "metadata": {},
   "outputs": [],
   "source": [
    "trade_20 = trade_20[['Close', 'trade']]"
   ]
  },
  {
   "cell_type": "code",
   "execution_count": 56,
   "metadata": {},
   "outputs": [],
   "source": [
    "trade_30.drop(['center', 'up', 'down'], axis=1, inplace=True)"
   ]
  },
  {
   "cell_type": "code",
   "execution_count": 57,
   "metadata": {},
   "outputs": [],
   "source": [
    "import pandas as pd"
   ]
  },
  {
   "cell_type": "code",
   "execution_count": 59,
   "metadata": {},
   "outputs": [],
   "source": [
    "# trade_20, trade_30을 단순한 열 결합\n",
    "trade_df = pd.concat( [trade_20, trade_30], axis=1, ignore_index=True )"
   ]
  },
  {
   "cell_type": "code",
   "execution_count": 61,
   "metadata": {},
   "outputs": [],
   "source": [
    "# trade_df에 2라는 컬럼을 삭제\n",
    "trade_df.drop(2, axis=1, inplace=True)"
   ]
  },
  {
   "cell_type": "code",
   "execution_count": 62,
   "metadata": {},
   "outputs": [],
   "source": [
    "trade_df.columns = ['Close', 'trade_20', 'trade_30']"
   ]
  },
  {
   "cell_type": "code",
   "execution_count": null,
   "metadata": {},
   "outputs": [],
   "source": []
  },
  {
   "cell_type": "code",
   "execution_count": 65,
   "metadata": {},
   "outputs": [],
   "source": [
    "# trade_20, trade_30에 둘다 buy라는 값을 가진다면 trade 컬럼에 데이터가 buy\n",
    "trade_df['trade'] = ''\n",
    "for idx in trade_df.index:\n",
    "    if (trade_df.loc[idx, 'trade_20'] == 'buy') & (trade_df.loc[idx, 'trade_30'] == 'buy'):\n",
    "        trade_df.loc[idx, 'trade'] = 'buy'"
   ]
  },
  {
   "cell_type": "code",
   "execution_count": 66,
   "metadata": {},
   "outputs": [
    {
     "data": {
      "text/plain": [
       "trade\n",
       "       512\n",
       "buy    296\n",
       "Name: count, dtype: int64"
      ]
     },
     "execution_count": 66,
     "metadata": {},
     "output_type": "execute_result"
    }
   ],
   "source": [
    "trade_df['trade'].value_counts()"
   ]
  },
  {
   "cell_type": "code",
   "execution_count": 69,
   "metadata": {},
   "outputs": [],
   "source": [
    "# trade_20, trade_30에 buy가 포함되어있는가?\n",
    "flag = trade_df[['trade_20', 'trade_30']].isin(['buy']).all(axis=1)"
   ]
  },
  {
   "cell_type": "code",
   "execution_count": 70,
   "metadata": {},
   "outputs": [],
   "source": [
    "trade_df['trade_2'] = ''"
   ]
  },
  {
   "cell_type": "code",
   "execution_count": 73,
   "metadata": {},
   "outputs": [],
   "source": [
    "trade_df.loc[flag, 'trade_2'] = 'buy'"
   ]
  },
  {
   "cell_type": "code",
   "execution_count": 74,
   "metadata": {},
   "outputs": [
    {
     "data": {
      "text/plain": [
       "trade_2\n",
       "       512\n",
       "buy    296\n",
       "Name: count, dtype: int64"
      ]
     },
     "execution_count": 74,
     "metadata": {},
     "output_type": "execute_result"
    }
   ],
   "source": [
    "trade_df['trade_2'].value_counts()"
   ]
  },
  {
   "cell_type": "code",
   "execution_count": 75,
   "metadata": {},
   "outputs": [
    {
     "name": "stdout",
     "output_type": "stream",
     "text": [
      "매수일 : 2022-01-19 00:00:00, 매수가 : 163.3712615966797\n",
      "매도일 : 2022-03-24 00:00:00, 매도가 : 171.29443359375\n",
      "수익률 : 1.0484979544115325\n",
      "매수일 : 2022-05-11 00:00:00, 매수가 : 144.37586975097656\n",
      "매도일 : 2022-07-21 00:00:00, 매도가 : 153.09754943847656\n",
      "수익률 : 1.0604095386752883\n",
      "매수일 : 2022-09-29 00:00:00, 매수가 : 140.6091766357422\n",
      "매도일 : 2022-10-25 00:00:00, 매도가 : 150.3397216796875\n",
      "수익률 : 1.0692027737930148\n",
      "매수일 : 2022-12-15 00:00:00, 매수가 : 134.93118286132812\n",
      "매도일 : 2023-01-23 00:00:00, 매도가 : 139.48817443847656\n",
      "수익률 : 1.0337727090248054\n",
      "매수일 : 2023-08-04 00:00:00, 매수가 : 180.42221069335938\n",
      "매도일 : 2023-08-31 00:00:00, 매도가 : 186.50306701660156\n",
      "수익률 : 1.03370347974273\n",
      "매수일 : 2023-10-26 00:00:00, 매수가 : 165.67572021484375\n",
      "매도일 : 2023-11-10 00:00:00, 매도가 : 185.28753662109375\n",
      "수익률 : 1.1183747164691238\n",
      "매수일 : 2024-01-02 00:00:00, 매수가 : 184.53208923339844\n",
      "매도일 : 2024-05-03 00:00:00, 매도가 : 182.51817321777344\n",
      "수익률 : 0.9890863641982736\n",
      "매수일 : 2025-01-16 00:00:00, 매수가 : 228.00930786132812\n"
     ]
    },
    {
     "name": "stderr",
     "output_type": "stream",
     "text": [
      "/Users/kimboyun/Desktop/Code/Ubion/Python/25.03.24/boll.py:97: FutureWarning: Setting an item of incompatible dtype is deprecated and will raise an error in a future version of pandas. Value '1.0484979544115325' has dtype incompatible with int64, please explicitly cast to a compatible dtype first.\n",
      "  result.loc[idx, 'rtn'] = rtn\n"
     ]
    },
    {
     "data": {
      "text/plain": [
       "(                 Close trade_20 trade_30 trade trade_2  rtn   acc_rtn\n",
       " Date                                                                 \n",
       " 2022-01-03  178.879913                                  1.0  1.000000\n",
       " 2022-01-04  176.609634                                  1.0  1.000000\n",
       " 2022-01-05  171.911865                                  1.0  1.000000\n",
       " 2022-01-06  169.042068                                  1.0  1.000000\n",
       " 2022-01-07  169.209122                                  1.0  1.000000\n",
       " ...                ...      ...      ...   ...     ...  ...       ...\n",
       " 2025-03-18  212.690002      buy      buy   buy     buy  1.0  1.405219\n",
       " 2025-03-19  215.240005      buy      buy   buy     buy  1.0  1.405219\n",
       " 2025-03-20  214.100006      buy      buy   buy     buy  1.0  1.405219\n",
       " 2025-03-21  218.270004      buy      buy   buy     buy  1.0  1.405219\n",
       " 2025-03-24  220.729996      buy      buy   buy     buy  1.0  1.405219\n",
       " \n",
       " [808 rows x 7 columns],\n",
       " np.float64(1.4052185879117205))"
      ]
     },
     "execution_count": 75,
     "metadata": {},
     "output_type": "execute_result"
    }
   ],
   "source": [
    "boll.create_rtn(trade_df)"
   ]
  }
 ],
 "metadata": {
  "kernelspec": {
   "display_name": "Python 3",
   "language": "python",
   "name": "python3"
  },
  "language_info": {
   "codemirror_mode": {
    "name": "ipython",
    "version": 3
   },
   "file_extension": ".py",
   "mimetype": "text/x-python",
   "name": "python",
   "nbconvert_exporter": "python",
   "pygments_lexer": "ipython3",
   "version": "3.11.0"
  }
 },
 "nbformat": 4,
 "nbformat_minor": 2
}
