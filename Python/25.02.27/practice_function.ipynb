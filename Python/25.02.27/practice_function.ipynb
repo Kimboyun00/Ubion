{
 "cells": [
  {
   "cell_type": "code",
   "execution_count": 1,
   "metadata": {},
   "outputs": [],
   "source": [
    "# 함수\n",
    "# def 함수명(매개변수):\n",
    "def func_1():\n",
    "    # 함수가 호출되었을때 실행이 되는 코드 부분\n",
    "    return \"Hello\"\n",
    "def func_2():\n",
    "    print('Hello')"
   ]
  },
  {
   "cell_type": "code",
   "execution_count": 2,
   "metadata": {},
   "outputs": [
    {
     "data": {
      "text/plain": [
       "'Hello'"
      ]
     },
     "execution_count": 2,
     "metadata": {},
     "output_type": "execute_result"
    }
   ],
   "source": [
    "func_1()"
   ]
  },
  {
   "cell_type": "code",
   "execution_count": 5,
   "metadata": {},
   "outputs": [
    {
     "name": "stdout",
     "output_type": "stream",
     "text": [
      "Hello\n"
     ]
    }
   ],
   "source": [
    "func_2()"
   ]
  },
  {
   "cell_type": "code",
   "execution_count": 7,
   "metadata": {},
   "outputs": [
    {
     "name": "stdout",
     "output_type": "stream",
     "text": [
      "Hello\n"
     ]
    }
   ],
   "source": [
    "# resturn이 존재하는 함수와 존재하지 않는 함수의 차이\n",
    "# return이 존재하는 함수를 호출하여 결과를 a에 저장\n",
    "# func_1() 호출 -> \"Hello\" 문자를 되돌려준다. -> a에 저장\n",
    "a = func_1()\n",
    "# return이 존재하지 않는 함수를 호출하여 결과를 b에 저장\n",
    "# func_2() 호출 -> \"Hello\"를 출력한다. -> b에 저장\n",
    "b = func_2()"
   ]
  },
  {
   "cell_type": "code",
   "execution_count": 9,
   "metadata": {},
   "outputs": [
    {
     "name": "stdout",
     "output_type": "stream",
     "text": [
      "Hello\n",
      "None\n"
     ]
    }
   ],
   "source": [
    "print(a)\n",
    "print(b)"
   ]
  },
  {
   "cell_type": "code",
   "execution_count": 10,
   "metadata": {},
   "outputs": [
    {
     "name": "stdout",
     "output_type": "stream",
     "text": [
      "10\n",
      "10\n",
      "10\n"
     ]
    }
   ],
   "source": [
    "# 변수를 생성 -> 데이터를 언제나 할당\n",
    "# 변수명 = 데이터\n",
    "# 변수명1 = 변수명2 = 변수명3 = 데이터\n",
    "# 변수명1, 변수명2 = 데이터1, 데이터2\n",
    "x = y = z = 10\n",
    "print(x)\n",
    "print(y)\n",
    "print(z)"
   ]
  },
  {
   "cell_type": "code",
   "execution_count": 11,
   "metadata": {},
   "outputs": [
    {
     "name": "stdout",
     "output_type": "stream",
     "text": [
      "10\n",
      "10\n"
     ]
    }
   ],
   "source": [
    "x_1 = x\n",
    "print(x_1)\n",
    "x += 1\n",
    "print(x_1)"
   ]
  },
  {
   "cell_type": "code",
   "execution_count": 13,
   "metadata": {},
   "outputs": [
    {
     "name": "stdout",
     "output_type": "stream",
     "text": [
      "3\n",
      "hello\n"
     ]
    }
   ],
   "source": [
    "x, y = 3, 'hello'\n",
    "print(x)\n",
    "print(y)"
   ]
  },
  {
   "cell_type": "code",
   "execution_count": 15,
   "metadata": {},
   "outputs": [],
   "source": [
    "def func_3(x,y):\n",
    "    result = x + y\n",
    "    result2 = x - y\n",
    "    return result, result2"
   ]
  },
  {
   "cell_type": "code",
   "execution_count": 18,
   "metadata": {},
   "outputs": [
    {
     "name": "stdout",
     "output_type": "stream",
     "text": [
      "(13, 7)\n",
      "13\n",
      "7\n"
     ]
    }
   ],
   "source": [
    "a = func_3(10,3)\n",
    "print(a)\n",
    "print(a[0])\n",
    "print(a[1])"
   ]
  },
  {
   "cell_type": "code",
   "execution_count": 19,
   "metadata": {},
   "outputs": [
    {
     "name": "stdout",
     "output_type": "stream",
     "text": [
      "13\n",
      "7\n"
     ]
    }
   ],
   "source": [
    "a, b = func_3(10,3)\n",
    "print(a)\n",
    "print(b)"
   ]
  },
  {
   "cell_type": "code",
   "execution_count": 20,
   "metadata": {},
   "outputs": [],
   "source": [
    "# 함수를 생성 할때 매개변수의 개수와\n",
    "# 함수를 호출 할때 인자의 개수가 동일\n",
    "def func_4(x):\n",
    "    result = x * 2\n",
    "    return result"
   ]
  },
  {
   "cell_type": "code",
   "execution_count": 22,
   "metadata": {},
   "outputs": [
    {
     "name": "stdout",
     "output_type": "stream",
     "text": [
      "20\n",
      "abcdabcd\n",
      "2\n",
      "(1, 2, 3, 1, 2, 3)\n"
     ]
    }
   ],
   "source": [
    "print(func_4(10))\n",
    "print(func_4('abcd'))\n",
    "print(func_4(True))\n",
    "print(func_4((1, 2, 3)))"
   ]
  },
  {
   "cell_type": "code",
   "execution_count": 24,
   "metadata": {},
   "outputs": [
    {
     "ename": "TypeError",
     "evalue": "func_4() takes 1 positional argument but 2 were given",
     "output_type": "error",
     "traceback": [
      "\u001b[0;31m---------------------------------------------------------------------------\u001b[0m",
      "\u001b[0;31mTypeError\u001b[0m                                 Traceback (most recent call last)",
      "Cell \u001b[0;32mIn[24], line 2\u001b[0m\n\u001b[1;32m      1\u001b[0m \u001b[38;5;66;03m# 함수의 매개변수가 1개인데 인자를 2개를 넣으면? -> 에러발생\u001b[39;00m\n\u001b[0;32m----> 2\u001b[0m \u001b[43mfunc_4\u001b[49m\u001b[43m(\u001b[49m\u001b[38;5;241;43m1\u001b[39;49m\u001b[43m,\u001b[49m\u001b[43m \u001b[49m\u001b[38;5;241;43m2\u001b[39;49m\u001b[43m)\u001b[49m\n",
      "\u001b[0;31mTypeError\u001b[0m: func_4() takes 1 positional argument but 2 were given"
     ]
    }
   ],
   "source": [
    "# 함수의 매개변수가 1개인데 인자를 2개를 넣으면? -> 에러발생\n",
    "func_4(1, 2)"
   ]
  },
  {
   "cell_type": "code",
   "execution_count": 26,
   "metadata": {},
   "outputs": [
    {
     "ename": "TypeError",
     "evalue": "func_4() missing 1 required positional argument: 'x'",
     "output_type": "error",
     "traceback": [
      "\u001b[0;31m---------------------------------------------------------------------------\u001b[0m",
      "\u001b[0;31mTypeError\u001b[0m                                 Traceback (most recent call last)",
      "Cell \u001b[0;32mIn[26], line 2\u001b[0m\n\u001b[1;32m      1\u001b[0m \u001b[38;5;66;03m# 매개변수가 1개인데 인자를 0개 넣으면?\u001b[39;00m\n\u001b[0;32m----> 2\u001b[0m \u001b[43mfunc_4\u001b[49m\u001b[43m(\u001b[49m\u001b[43m)\u001b[49m\n",
      "\u001b[0;31mTypeError\u001b[0m: func_4() missing 1 required positional argument: 'x'"
     ]
    }
   ],
   "source": [
    "# 매개변수가 1개인데 인자를 0개 넣으면?\n",
    "func_4()"
   ]
  },
  {
   "cell_type": "code",
   "execution_count": 27,
   "metadata": {},
   "outputs": [
    {
     "name": "stdout",
     "output_type": "stream",
     "text": [
      "1\n",
      "2\n"
     ]
    }
   ],
   "source": [
    "print(1)\n",
    "print(2)"
   ]
  },
  {
   "cell_type": "code",
   "execution_count": 29,
   "metadata": {},
   "outputs": [
    {
     "name": "stdout",
     "output_type": "stream",
     "text": [
      "1  2\n"
     ]
    }
   ],
   "source": [
    "# print()함수는 end매개변수의 기본값은 줄바꿈(\\n)\n",
    "print(1, end='  ')\n",
    "print(2)"
   ]
  },
  {
   "cell_type": "code",
   "execution_count": null,
   "metadata": {},
   "outputs": [
    {
     "ename": "SyntaxError",
     "evalue": "invalid syntax (3361540671.py, line 4)",
     "output_type": "error",
     "traceback": [
      "\u001b[0;36m  Cell \u001b[0;32mIn[30], line 4\u001b[0;36m\u001b[0m\n\u001b[0;31m    reutrn result\u001b[0m\n\u001b[0m           ^\u001b[0m\n\u001b[0;31mSyntaxError\u001b[0m\u001b[0;31m:\u001b[0m invalid syntax\n"
     ]
    }
   ],
   "source": [
    "# 매개변수에 기본값이 존재하는 함수를 생성\n",
    "def fun_5(x, y = 2):\n",
    "    result = (x + y) ** y\n",
    "    reutrn result"
   ]
  },
  {
   "cell_type": "code",
   "execution_count": null,
   "metadata": {},
   "outputs": [
    {
     "ename": "SyntaxError",
     "evalue": "non-default argument follows default argument (3445569324.py, line 1)",
     "output_type": "error",
     "traceback": [
      "\u001b[0;36m  Cell \u001b[0;32mIn[32], line 1\u001b[0;36m\u001b[0m\n\u001b[0;31m    def func_6(x = 1, y):\u001b[0m\n\u001b[0m                      ^\u001b[0m\n\u001b[0;31mSyntaxError\u001b[0m\u001b[0;31m:\u001b[0m non-default argument follows default argument\n"
     ]
    }
   ],
   "source": [
    "# 매개변수 기본값은 뒤에서부터 채워서 생성\n",
    "def func_6(x = 1, y):\n",
    "    result = x + y\n",
    "    reutrn result"
   ]
  },
  {
   "cell_type": "code",
   "execution_count": 33,
   "metadata": {},
   "outputs": [],
   "source": [
    "# 인자의 개수가 가변인 경우의 함수를 생성\n",
    "def func_6(*args):\n",
    "    print(args)"
   ]
  },
  {
   "cell_type": "code",
   "execution_count": 34,
   "metadata": {},
   "outputs": [
    {
     "name": "stdout",
     "output_type": "stream",
     "text": [
      "()\n"
     ]
    }
   ],
   "source": [
    "func_6()"
   ]
  },
  {
   "cell_type": "code",
   "execution_count": 35,
   "metadata": {},
   "outputs": [
    {
     "name": "stdout",
     "output_type": "stream",
     "text": [
      "(1, 2, 3, 4, 5)\n"
     ]
    }
   ],
   "source": [
    "func_6(1,2,3,4,5)"
   ]
  },
  {
   "cell_type": "code",
   "execution_count": 36,
   "metadata": {},
   "outputs": [],
   "source": [
    "def func_7(x, *args):\n",
    "    # 필수로 입력해야 하는 인자의 개수는? 1개\n",
    "    print(x)\n",
    "    print(args)"
   ]
  },
  {
   "cell_type": "code",
   "execution_count": 37,
   "metadata": {},
   "outputs": [
    {
     "name": "stdout",
     "output_type": "stream",
     "text": [
      "1\n",
      "()\n"
     ]
    }
   ],
   "source": [
    "func_7(1)"
   ]
  },
  {
   "cell_type": "code",
   "execution_count": 38,
   "metadata": {},
   "outputs": [
    {
     "name": "stdout",
     "output_type": "stream",
     "text": [
      "1\n",
      "(2, 3, 4, 5)\n"
     ]
    }
   ],
   "source": [
    "func_7(1,2,3,4,5)"
   ]
  },
  {
   "cell_type": "code",
   "execution_count": null,
   "metadata": {},
   "outputs": [],
   "source": [
    "def func_8(*args, x):\n",
    "    # 입력의 값의 개수는 2개 이상 \n",
    "    print(args)\n",
    "    print(x)"
   ]
  },
  {
   "cell_type": "code",
   "execution_count": 40,
   "metadata": {},
   "outputs": [
    {
     "ename": "TypeError",
     "evalue": "func_8() missing 1 required keyword-only argument: 'x'",
     "output_type": "error",
     "traceback": [
      "\u001b[0;31m---------------------------------------------------------------------------\u001b[0m",
      "\u001b[0;31mTypeError\u001b[0m                                 Traceback (most recent call last)",
      "Cell \u001b[0;32mIn[40], line 1\u001b[0m\n\u001b[0;32m----> 1\u001b[0m \u001b[43mfunc_8\u001b[49m\u001b[43m(\u001b[49m\u001b[38;5;241;43m1\u001b[39;49m\u001b[43m)\u001b[49m\n",
      "\u001b[0;31mTypeError\u001b[0m: func_8() missing 1 required keyword-only argument: 'x'"
     ]
    }
   ],
   "source": [
    "func_8(1)"
   ]
  },
  {
   "cell_type": "code",
   "execution_count": 60,
   "metadata": {},
   "outputs": [],
   "source": [
    "# 함수를 하나 생성\n",
    "# 매개변수 2개 생성\n",
    "# 첫번째 매개변수는 인자의 개수가 가변인 경우\n",
    "# 두번째 매개변수는 기본값을 1\n",
    "# 두번째 매개변수가 1인 경우에는 첫번째 매개변수에 들어오는 데이터를\n",
    "# 모두 누적합을 하여 되돌려준다.\n",
    "# 2인 경우에는 누적차를 하여 되돌려준다.\n",
    "# 3인 경우에는 누적곱을 하여 되돌려준다.\n",
    "def func_9(*args, x = 1):\n",
    "    result = 0\n",
    "    # x의 값에 따라서 연산이 바뀐다. (누적합, 누적차, 누적곱)\n",
    "    # 합계 라는 초기 변수를 생성\n",
    "    # if x == 3: # 누적곱인 경우에는 0이면 무조건 0이 나오기 때문에\n",
    "    #     result = 1\n",
    "    # else:\n",
    "    #     result = 0\n",
    "    # # args 매개변수에 입력되는 인자 값의 개수만큼 반복 실행\n",
    "    # # for / while\n",
    "    # if x == 1:\n",
    "    #     for i in args:\n",
    "    #         result += i\n",
    "    # elif x == 2:\n",
    "    #     for i in args:\n",
    "    #         result -= i\n",
    "    # elif x == 3:\n",
    "    #     for i in args:\n",
    "    #         result *= i\n",
    "    # else :\n",
    "    #     print('x의 범위는 1부터 3까지입니다')\n",
    "    for i in args:\n",
    "        if x == 1:\n",
    "            result += i\n",
    "        elif x == 2:\n",
    "            result -= i\n",
    "        elif x == 3:\n",
    "            result *= i\n",
    "        else:\n",
    "            print('x의 범위는 1부터 3까지 입니다.')\n",
    "            break\n",
    "\n",
    "    return result"
   ]
  },
  {
   "cell_type": "code",
   "execution_count": 61,
   "metadata": {},
   "outputs": [
    {
     "data": {
      "text/plain": [
       "15"
      ]
     },
     "execution_count": 61,
     "metadata": {},
     "output_type": "execute_result"
    }
   ],
   "source": [
    "func_9(1,2,3,4,5)"
   ]
  },
  {
   "cell_type": "code",
   "execution_count": 62,
   "metadata": {},
   "outputs": [
    {
     "data": {
      "text/plain": [
       "-15"
      ]
     },
     "execution_count": 62,
     "metadata": {},
     "output_type": "execute_result"
    }
   ],
   "source": [
    "func_9(1,2,3,4,5, x = 2)"
   ]
  },
  {
   "cell_type": "code",
   "execution_count": 63,
   "metadata": {},
   "outputs": [
    {
     "data": {
      "text/plain": [
       "0"
      ]
     },
     "execution_count": 63,
     "metadata": {},
     "output_type": "execute_result"
    }
   ],
   "source": [
    "func_9(1,2,3,4,5, x = 3)"
   ]
  },
  {
   "cell_type": "code",
   "execution_count": 64,
   "metadata": {},
   "outputs": [
    {
     "name": "stdout",
     "output_type": "stream",
     "text": [
      "x의 범위는 1부터 3까지 입니다.\n"
     ]
    },
    {
     "data": {
      "text/plain": [
       "0"
      ]
     },
     "execution_count": 64,
     "metadata": {},
     "output_type": "execute_result"
    }
   ],
   "source": [
    "func_9(1,2,3, x=4)"
   ]
  },
  {
   "cell_type": "code",
   "execution_count": 69,
   "metadata": {},
   "outputs": [],
   "source": [
    "def func_10(*args, x=1):\n",
    "    result = 0\n",
    "    for i in args:\n",
    "        if x == 1:\n",
    "            result += i\n",
    "        elif x == 2:\n",
    "            result -= i\n",
    "        elif x == 3:\n",
    "            result *= i\n",
    "        else:\n",
    "            print('x의 범위는 1부터 3까지 입니다.')\n",
    "            break\n",
    "    return result"
   ]
  },
  {
   "cell_type": "code",
   "execution_count": 70,
   "metadata": {},
   "outputs": [
    {
     "ename": "TypeError",
     "evalue": "unsupported operand type(s) for +=: 'int' and 'list'",
     "output_type": "error",
     "traceback": [
      "\u001b[0;31m---------------------------------------------------------------------------\u001b[0m",
      "\u001b[0;31mTypeError\u001b[0m                                 Traceback (most recent call last)",
      "Cell \u001b[0;32mIn[70], line 1\u001b[0m\n\u001b[0;32m----> 1\u001b[0m \u001b[43mfunc_10\u001b[49m\u001b[43m(\u001b[49m\u001b[43m[\u001b[49m\u001b[38;5;241;43m1\u001b[39;49m\u001b[43m,\u001b[49m\u001b[38;5;241;43m2\u001b[39;49m\u001b[43m,\u001b[49m\u001b[38;5;241;43m3\u001b[39;49m\u001b[43m,\u001b[49m\u001b[38;5;241;43m4\u001b[39;49m\u001b[43m]\u001b[49m\u001b[43m)\u001b[49m\n",
      "Cell \u001b[0;32mIn[69], line 5\u001b[0m, in \u001b[0;36mfunc_10\u001b[0;34m(x, *args)\u001b[0m\n\u001b[1;32m      3\u001b[0m \u001b[38;5;28;01mfor\u001b[39;00m i \u001b[38;5;129;01min\u001b[39;00m args:\n\u001b[1;32m      4\u001b[0m     \u001b[38;5;28;01mif\u001b[39;00m x \u001b[38;5;241m==\u001b[39m \u001b[38;5;241m1\u001b[39m:\n\u001b[0;32m----> 5\u001b[0m         \u001b[43mresult\u001b[49m\u001b[43m \u001b[49m\u001b[38;5;241;43m+\u001b[39;49m\u001b[38;5;241;43m=\u001b[39;49m\u001b[43m \u001b[49m\u001b[43mi\u001b[49m\n\u001b[1;32m      6\u001b[0m     \u001b[38;5;28;01melif\u001b[39;00m x \u001b[38;5;241m==\u001b[39m \u001b[38;5;241m2\u001b[39m:\n\u001b[1;32m      7\u001b[0m         result \u001b[38;5;241m-\u001b[39m\u001b[38;5;241m=\u001b[39m i\n",
      "\u001b[0;31mTypeError\u001b[0m: unsupported operand type(s) for +=: 'int' and 'list'"
     ]
    }
   ],
   "source": [
    "func_10([1,2,3,4])"
   ]
  },
  {
   "cell_type": "code",
   "execution_count": 71,
   "metadata": {},
   "outputs": [],
   "source": [
    "# func_9를 while문으로 구성\n",
    "def func_11(*args, x = 1):\n",
    "    if x == 3:\n",
    "        result = 1\n",
    "    elif x == 1 or x == 2:\n",
    "        result = 0\n",
    "    else:\n",
    "        # 함수에서 return은? -> 결과 값을 되돌려준다.(함수를 종료)\n",
    "        return 'x의 범위는 1부터 3까지입니다.'\n",
    "    # while문\n",
    "    idx = 0\n",
    "\n",
    "    while idx < len(args):\n",
    "        if x == 1:\n",
    "            result += args[idx]\n",
    "        elif x == 2:\n",
    "            result -= args[idx]\n",
    "        else:\n",
    "            result *= args[idx]\n",
    "        idx += 1\n",
    "        # idx = idx + 1\n",
    "    return result"
   ]
  },
  {
   "cell_type": "code",
   "execution_count": 72,
   "metadata": {},
   "outputs": [
    {
     "data": {
      "text/plain": [
       "15"
      ]
     },
     "execution_count": 72,
     "metadata": {},
     "output_type": "execute_result"
    }
   ],
   "source": [
    "func_11(1,2,3,4,5)"
   ]
  },
  {
   "cell_type": "code",
   "execution_count": 73,
   "metadata": {},
   "outputs": [
    {
     "data": {
      "text/plain": [
       "-15"
      ]
     },
     "execution_count": 73,
     "metadata": {},
     "output_type": "execute_result"
    }
   ],
   "source": [
    "func_11(1,2,3,4,5, x = 2)"
   ]
  },
  {
   "cell_type": "code",
   "execution_count": 74,
   "metadata": {},
   "outputs": [
    {
     "data": {
      "text/plain": [
       "120"
      ]
     },
     "execution_count": 74,
     "metadata": {},
     "output_type": "execute_result"
    }
   ],
   "source": [
    "func_11(1,2,3,4,5, x = 3)"
   ]
  },
  {
   "cell_type": "code",
   "execution_count": 75,
   "metadata": {},
   "outputs": [
    {
     "data": {
      "text/plain": [
       "'x의 범위는 1부터 3까지입니다.'"
      ]
     },
     "execution_count": 75,
     "metadata": {},
     "output_type": "execute_result"
    }
   ],
   "source": [
    "func_11(1,2,3,4,5, x = 4)"
   ]
  },
  {
   "cell_type": "code",
   "execution_count": 80,
   "metadata": {},
   "outputs": [],
   "source": [
    "def func_12(*args, x = 1):\n",
    "    if x in (1, 2):\n",
    "        result = 0\n",
    "    elif x == 3:\n",
    "        result = 1\n",
    "    else:\n",
    "        return \"x의 범위는 1부터 3까지입니다.\"\n",
    "    \n",
    "    idx = 0\n",
    "    # while문을 무한루프 -> 거짓이 되는 경우가 존재하지 않는다.\n",
    "    while True:\n",
    "        try:\n",
    "            if x == 1:\n",
    "                result += args[idx]\n",
    "                print(result)\n",
    "            elif x == 2:\n",
    "                result -= args[idx]\n",
    "            else :\n",
    "                result *= args[idx]\n",
    "            idx += 1\n",
    "        except:\n",
    "            # try에서 코드가 실행될 때 에러가 발생한다면 break\n",
    "            break\n",
    "    return result"
   ]
  },
  {
   "cell_type": "code",
   "execution_count": 82,
   "metadata": {},
   "outputs": [
    {
     "name": "stdout",
     "output_type": "stream",
     "text": [
      "1\n",
      "3\n",
      "6\n",
      "10\n",
      "15\n"
     ]
    },
    {
     "data": {
      "text/plain": [
       "15"
      ]
     },
     "execution_count": 82,
     "metadata": {},
     "output_type": "execute_result"
    }
   ],
   "source": [
    "func_12(1,2,3,4,5)"
   ]
  },
  {
   "cell_type": "code",
   "execution_count": 115,
   "metadata": {},
   "outputs": [],
   "source": [
    "# 함수를 생성\n",
    "# 함수의 매개변수 3개\n",
    "# 시작값, 종료값, 증가값\n",
    "# 증가값은 기본값이 1\n",
    "# 시작값부터 종료값 전까지 증가값만큼 증가를 시켜서 list에 원소를 담는다.\n",
    "# range 함수와 흡사한 함수를 하나 생성 [결과의 타입은 list]\n",
    "# 조건문 -> 증가값이 양수라면 -> 시작값과 종료값중 큰 값이 종료\n",
    "# 증가값이 음수라면 -> 시작값과 종료값중 작은 값은 종료\n",
    "# 증가값이 0이라면 작은값으로 이루어진 리스트를 생성 개수 종료값\n",
    "def func_13(x, y, z = 1):\n",
    "    result=[]\n",
    "\n",
    "    if z > 0:\n",
    "        x, y = min(x, y), max(x, y)\n",
    "        while x < y:\n",
    "            result.append(x)\n",
    "            x += z\n",
    "    elif z < 0:\n",
    "        x, y = max(x, y), min(x, y)\n",
    "        while x > y:\n",
    "            result.append(x)\n",
    "            x += z\n",
    "    else:\n",
    "        x, y = min(x, y), max(x, y)\n",
    "        i = 0\n",
    "        while i < y:\n",
    "            result.append(x)\n",
    "            i += 1\n",
    "    \n",
    "    return result\n"
   ]
  },
  {
   "cell_type": "code",
   "execution_count": 117,
   "metadata": {},
   "outputs": [
    {
     "name": "stdout",
     "output_type": "stream",
     "text": [
      "[3, 5, 7, 9]\n",
      "[1, 2, 3, 4, 5, 6, 7, 8, 9]\n",
      "[10, 9, 8, 7, 6, 5, 4, 3, 2]\n",
      "[1, 1, 1, 1, 1]\n",
      "[3, 3, 3]\n",
      "[1]\n"
     ]
    }
   ],
   "source": [
    "print(func_13(3, 10, 2))\n",
    "print(func_13(10, 1, 1))\n",
    "print(func_13(1, 10, -1))\n",
    "print(func_13(1, 5, 0))\n",
    "print(func_13(3, 3, 0))\n",
    "print(func_13(1, 1, 0))"
   ]
  },
  {
   "cell_type": "code",
   "execution_count": 113,
   "metadata": {},
   "outputs": [],
   "source": [
    "def func(x, y, z):\n",
    "    # 결과값의 타입은 list 빈 list 생성\n",
    "    result=[]\n",
    "    # 증가값(z)이 양수라면?\n",
    "    if z > 0 :\n",
    "        # x, y를 비교\n",
    "        # min(): 값들을 비교해서 작은 값을 출력\n",
    "        # max(): 값들을 비교해서 큰 값을 출력\n",
    "        if x < y:\n",
    "            # 시작값\n",
    "            start = x\n",
    "            # 종료값\n",
    "            end = y\n",
    "        else:\n",
    "            start = y\n",
    "            end = x\n",
    "        # start부터 end 전까지 z만큼 증가시키면서 해당하는 값들을 result에 대입\n",
    "        while start < end:\n",
    "            result.append(start)\n",
    "            start += z\n",
    "    elif z > 0:\n",
    "        if x > y:\n",
    "            start = y\n",
    "            end = x\n",
    "        else:\n",
    "            start = x\n",
    "            end = y\n",
    "        # start가 end보다 큰 수로 시작하고 start를 점점 감소시키면서 end보다 작아지거나 같아질 경우 반복문을 종료\n",
    "        while start > end:\n",
    "            result.append(start)\n",
    "            start += z\n",
    "    else:\n",
    "        # x, y중에 작은 수를 데이터로 설정\n",
    "        if x < y:\n",
    "            data = x\n",
    "            cnt = y\n",
    "        else:\n",
    "            data = y\n",
    "            cnt = x\n",
    "        i = 0\n",
    "        while i < cnt:\n",
    "            result.append(data)\n",
    "            i += 1\n",
    "    # 만들어진 result를 되돌려준다\n",
    "    return result"
   ]
  },
  {
   "cell_type": "code",
   "execution_count": 114,
   "metadata": {},
   "outputs": [
    {
     "name": "stdout",
     "output_type": "stream",
     "text": [
      "[3, 5, 7, 9]\n",
      "[1, 2, 3, 4, 5, 6, 7, 8, 9]\n",
      "[1, 1, 1, 1, 1, 1, 1, 1, 1, 1]\n",
      "[1, 1, 1, 1, 1]\n",
      "[1, 1, 1]\n",
      "[1]\n"
     ]
    }
   ],
   "source": [
    "# ex) func(1, 10, 1) --> [1,2,3,4,5,6,7,8,9]\n",
    "# func(10, 1, 1) --> [1,2,3,4,5,6,7,8,9]\n",
    "# func(1, 10, -1) --> [10, 9, 8, 7, 6, 5, 4, 3, 2]\n",
    "# func(1, 5, 0) --> [1,1,1,1,1]\n",
    "# func(3, 1, 0) --> [1,1,1]\n",
    "print(func(3, 10, 2))\n",
    "print(func(10, 1, 1))\n",
    "print(func(1, 10, -1))\n",
    "print(func(1, 5, 0))\n",
    "print(func(3, 1, 0))\n",
    "print(func(1, 1, 0))"
   ]
  },
  {
   "cell_type": "code",
   "execution_count": null,
   "metadata": {},
   "outputs": [
    {
     "data": {
      "text/plain": [
       "10"
      ]
     },
     "execution_count": 118,
     "metadata": {},
     "output_type": "execute_result"
    }
   ],
   "source": [
    "# max() 함수를 생성 -> 인자 값들 중에 가장 큰 숫자를 출력\n",
    "max(1, 5, 4, 10, 3)"
   ]
  },
  {
   "cell_type": "code",
   "execution_count": null,
   "metadata": {},
   "outputs": [],
   "source": [
    "# 함수 생성\n",
    "# 매개변수? 인자의 개수가 가변인 매개변수 1개 생성\n",
    "# 매개변수의 타입은? tuple\n",
    "# 매개변수의 첫번째 데이터를 변수에 저장\n",
    "# 반복문 생성\n",
    "# 매개변수의 길이의 -1 만큼 반복\n",
    "# 매개변수의 첫번째 데이터와 두번째 데이터를 비교하여 큰 값을 변수에 저장\n",
    "# 세번째 데이터와 위의 변수와 비교 (반복 -> 마지막 데이터까지)\n",
    "# 마지막까지 비교하고 저장된 변수를 되돌려준다.\n",
    "\n",
    "# case 1\n",
    "def custom_max(*args):\n",
    "    # 입력값들 중 첫번째 데이터를 변수에 저장   \n",
    "    result = args[0]\n",
    "    # 반복문을 생성 -> 횟수는 args의 길이의 -1만큼\n",
    "    for i in range(len(args)-1):\n",
    "        # 길이가 4인 데이터라면?\n",
    "        # i는 0,1,2 --> 실제 비교해야되는 index는 1,2,3\n",
    "        # 비교 result와 args의 2번째 데이터부터 마지막까지\n",
    "        if result < args[i+1]:\n",
    "            result = args[i+1]\n",
    "    return result"
   ]
  },
  {
   "cell_type": "code",
   "execution_count": null,
   "metadata": {},
   "outputs": [],
   "source": [
    "# case 2\n",
    "def custom_max(*args):  \n",
    "    result = args[0]\n",
    "    for i in range(1, len(args)):\n",
    "        # i는 1, 2, 3\n",
    "        if result < args[i]:\n",
    "            result = args[i]\n",
    "    return result"
   ]
  },
  {
   "cell_type": "code",
   "execution_count": null,
   "metadata": {},
   "outputs": [],
   "source": [
    "# case 3\n",
    "def custom_max(*args):  \n",
    "    result = args[0]\n",
    "    idx = 1\n",
    "    while idx < len(args):\n",
    "        if result < args[idx]:\n",
    "            result = args[idx]\n",
    "        idx += 1\n",
    "    return result"
   ]
  },
  {
   "cell_type": "code",
   "execution_count": null,
   "metadata": {},
   "outputs": [],
   "source": [
    "# case 4\n",
    "def custom_max(*args):    \n",
    "    result = args[0]\n",
    "    \n",
    "    for i in args[1:]:\n",
    "        if i > result:\n",
    "            result = i\n",
    "    \n",
    "    return result\n",
    "\n"
   ]
  },
  {
   "cell_type": "code",
   "execution_count": null,
   "metadata": {},
   "outputs": [
    {
     "data": {
      "text/plain": [
       "9"
      ]
     },
     "execution_count": 125,
     "metadata": {},
     "output_type": "execute_result"
    }
   ],
   "source": [
    "custom_max(3, 5, 2, 7)"
   ]
  },
  {
   "cell_type": "code",
   "execution_count": null,
   "metadata": {},
   "outputs": [],
   "source": [
    "def custom_sort(*args):\n",
    "    result = args[0]\n",
    "    for i in range(1, len(args)):\n",
    "        if result < args[i]:\n",
    "            result = args[i]"
   ]
  },
  {
   "cell_type": "code",
   "execution_count": 143,
   "metadata": {},
   "outputs": [],
   "source": [
    "def custom_sort(*args):\n",
    "    args = list(args)  # 튜플을 리스트로 변환\n",
    "    result = []\n",
    "    while args:\n",
    "        min_val = args[0]\n",
    "        for i in range(1, len(args)):\n",
    "            if args[i] < min_val:\n",
    "                min_val = args[i]\n",
    "        result.append(min_val)\n",
    "        args.remove(min_val)\n",
    "    return result"
   ]
  },
  {
   "cell_type": "code",
   "execution_count": 159,
   "metadata": {},
   "outputs": [],
   "source": [
    "def custom_sort(_list, reverse = False):\n",
    "    # 결과 값은 list qksghks\n",
    "    result = []\n",
    "\n",
    "    # 오름차순 정렬\n",
    "    # 조건식이 들어가는 부분에 변수를 대입하게 되면 변수의 데이터를 강제적으로 bool형태로 데이터를 변환\n",
    "    # 데이터가 존재하지 않는다면 : False\n",
    "    # 데이터가 존재하면 : True\n",
    "    while _list:\n",
    "        if reverse:\n",
    "            data = max(_list)\n",
    "        else:\n",
    "        # _list에서 가장 작은 값을 추출\n",
    "            data = min(_list)\n",
    "        # min_data를 result에 대입\n",
    "        result.append(data)\n",
    "        # _list에서 min_data를 제거\n",
    "        _list.remove(data)\n",
    "        # _list가 [5,1,10]이라고 가정\n",
    "        # 첫번째 반복 : _list [5, 1, 10] / min_data = 1 / result.append(1)\n",
    "        # _list.remove(1) ---> _list = [5, 10] / result = [1]\n",
    "        # 두번째 반복 : _list [5, 10] / 강제적으로 bull -> True -> 반복 시작\n",
    "        # min_data = 5 / result.append(5) / _list.remove(5)\n",
    "        # result = [1, 5] / _list = [10]\n",
    "        # 세번째 반복 : _list [10] -> 강제적으로 bool -> True -> 빈복 시작\n",
    "        # min_data = 10 / result.append(10) / _list.remove(10)\n",
    "        # result = [1, 5, 10] / _list = []\n",
    "        # 네번째 반복 : _list [] -> 강제적으로 bool -> False -> 반복 종료\n",
    "    return result"
   ]
  },
  {
   "cell_type": "code",
   "execution_count": 160,
   "metadata": {},
   "outputs": [
    {
     "data": {
      "text/plain": [
       "[15, 8, 7, 3, 3, 0]"
      ]
     },
     "execution_count": 160,
     "metadata": {},
     "output_type": "execute_result"
    }
   ],
   "source": [
    "custom_sort([3,7,3,8,15,0], reverse=True)"
   ]
  },
  {
   "cell_type": "code",
   "execution_count": 2,
   "metadata": {},
   "outputs": [],
   "source": [
    "import importlib"
   ]
  },
  {
   "cell_type": "code",
   "execution_count": 3,
   "metadata": {},
   "outputs": [],
   "source": [
    "# 외부의 모듈 파일을 로드\n",
    "import mod"
   ]
  },
  {
   "cell_type": "code",
   "execution_count": 4,
   "metadata": {},
   "outputs": [
    {
     "data": {
      "text/plain": [
       "<module 'mod' from '/Users/kimboyun/Desktop/Code/Ubion/25.02.27/mod.py'>"
      ]
     },
     "execution_count": 4,
     "metadata": {},
     "output_type": "execute_result"
    }
   ],
   "source": [
    "importlib.reload(mod)"
   ]
  },
  {
   "cell_type": "code",
   "execution_count": 5,
   "metadata": {},
   "outputs": [
    {
     "ename": "NameError",
     "evalue": "name 'custom_max' is not defined",
     "output_type": "error",
     "traceback": [
      "\u001b[0;31m---------------------------------------------------------------------------\u001b[0m",
      "\u001b[0;31mNameError\u001b[0m                                 Traceback (most recent call last)",
      "Cell \u001b[0;32mIn[5], line 6\u001b[0m\n\u001b[1;32m      1\u001b[0m \u001b[38;5;66;03m# mod.py에서는 2개의 함수가 존재\u001b[39;00m\n\u001b[1;32m      2\u001b[0m \u001b[38;5;66;03m# custom_sort(리스트 형태 입력값, reverse = bool[기본값은 True])\u001b[39;00m\n\u001b[1;32m      3\u001b[0m \u001b[38;5;66;03m# custom_max(가변의 인자값)\u001b[39;00m\n\u001b[1;32m      4\u001b[0m \u001b[38;5;66;03m# 현재 파일의 함수 호출\u001b[39;00m\n\u001b[1;32m      5\u001b[0m \u001b[38;5;28mprint\u001b[39m(\n\u001b[0;32m----> 6\u001b[0m     \u001b[43mcustom_max\u001b[49m(\u001b[38;5;241m1\u001b[39m,\u001b[38;5;241m45\u001b[39m,\u001b[38;5;241m7\u001b[39m,\u001b[38;5;241m2\u001b[39m)\n\u001b[1;32m      7\u001b[0m     )\n\u001b[1;32m      8\u001b[0m \u001b[38;5;28mprint\u001b[39m(\n\u001b[1;32m      9\u001b[0m     mod\u001b[38;5;241m.\u001b[39mcustom_max(\u001b[38;5;241m10\u001b[39m, \u001b[38;5;241m3\u001b[39m, \u001b[38;5;241m50\u001b[39m, \u001b[38;5;241m100\u001b[39m, \u001b[38;5;241m44\u001b[39m)\n\u001b[1;32m     10\u001b[0m )\n",
      "\u001b[0;31mNameError\u001b[0m: name 'custom_max' is not defined"
     ]
    }
   ],
   "source": [
    "# mod.py에서는 2개의 함수가 존재\n",
    "# custom_sort(리스트 형태 입력값, reverse = bool[기본값은 True])\n",
    "# custom_max(가변의 인자값)\n",
    "# 현재 파일의 함수 호출\n",
    "print(\n",
    "    custom_max(1,45,7,2)\n",
    "    )\n",
    "print(\n",
    "    mod.custom_max(10, 3, 50, 100, 44)\n",
    ")"
   ]
  },
  {
   "cell_type": "code",
   "execution_count": 6,
   "metadata": {},
   "outputs": [
    {
     "data": {
      "text/plain": [
       "10"
      ]
     },
     "execution_count": 6,
     "metadata": {},
     "output_type": "execute_result"
    }
   ],
   "source": [
    "mod.input_a"
   ]
  },
  {
   "cell_type": "code",
   "execution_count": 7,
   "metadata": {},
   "outputs": [
    {
     "ename": "NameError",
     "evalue": "name 'custom_max' is not defined",
     "output_type": "error",
     "traceback": [
      "\u001b[0;31m---------------------------------------------------------------------------\u001b[0m",
      "\u001b[0;31mNameError\u001b[0m                                 Traceback (most recent call last)",
      "Cell \u001b[0;32mIn[7], line 1\u001b[0m\n\u001b[0;32m----> 1\u001b[0m \u001b[43mcustom_max\u001b[49m(\u001b[38;5;241m1\u001b[39m,\u001b[38;5;241m2\u001b[39m,\u001b[38;5;241m3\u001b[39m,\u001b[38;5;241m4\u001b[39m)\n",
      "\u001b[0;31mNameError\u001b[0m: name 'custom_max' is not defined"
     ]
    }
   ],
   "source": [
    "custom_max(1,2,3,4)"
   ]
  },
  {
   "cell_type": "code",
   "execution_count": 8,
   "metadata": {},
   "outputs": [],
   "source": [
    "from mod import custom_max as c_max"
   ]
  },
  {
   "cell_type": "code",
   "execution_count": 9,
   "metadata": {},
   "outputs": [
    {
     "data": {
      "text/plain": [
       "11"
      ]
     },
     "execution_count": 9,
     "metadata": {},
     "output_type": "execute_result"
    }
   ],
   "source": [
    "c_max(5, 11, 6, 9)"
   ]
  },
  {
   "cell_type": "code",
   "execution_count": 11,
   "metadata": {},
   "outputs": [
    {
     "data": {
      "text/plain": [
       "['/Library/Frameworks/Python.framework/Versions/3.11/lib/python311.zip',\n",
       " '/Library/Frameworks/Python.framework/Versions/3.11/lib/python3.11',\n",
       " '/Library/Frameworks/Python.framework/Versions/3.11/lib/python3.11/lib-dynload',\n",
       " '',\n",
       " '/Users/kimboyun/Library/Python/3.11/lib/python/site-packages',\n",
       " '/Library/Frameworks/Python.framework/Versions/3.11/lib/python3.11/site-packages']"
      ]
     },
     "execution_count": 11,
     "metadata": {},
     "output_type": "execute_result"
    }
   ],
   "source": [
    "import sys\n",
    "\n",
    "sys.path"
   ]
  },
  {
   "cell_type": "code",
   "execution_count": 12,
   "metadata": {},
   "outputs": [],
   "source": [
    "# 환경 변수 추가\n",
    "# sys.path는 list 현태 -> append()로 추가 가능\n",
    "sys.path.append(\"/Users/kimboyun/Desktop/Code/Ubion/25.02.27\")"
   ]
  }
 ],
 "metadata": {
  "kernelspec": {
   "display_name": "Python 3",
   "language": "python",
   "name": "python3"
  },
  "language_info": {
   "codemirror_mode": {
    "name": "ipython",
    "version": 3
   },
   "file_extension": ".py",
   "mimetype": "text/x-python",
   "name": "python",
   "nbconvert_exporter": "python",
   "pygments_lexer": "ipython3",
   "version": "3.11.0"
  }
 },
 "nbformat": 4,
 "nbformat_minor": 2
}
