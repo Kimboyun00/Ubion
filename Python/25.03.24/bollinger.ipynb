{
 "cells": [
  {
   "cell_type": "markdown",
   "metadata": {},
   "source": [
    "### 볼린저 밴드 투자 전략\n",
    "1. 이동 평균선 : 데이터의 20개의 평균값\n",
    "2. 상단 밴드 : 이동 평균선 + (2 * 20개의 데이터의 표준편차)\n",
    "3. 하단 밴드 : 이동 평균선 - (2 * 20개의 데이터의 표준편차)\n",
    "4. 매수 타이밍 : 하단밴드보다 이하로 가격이 떨어졌을때\n",
    "5. 매도 타이밍 : 상단 밴드보다 이상으로 가격이 올랐을때"
   ]
  },
  {
   "cell_type": "code",
   "execution_count": 1,
   "metadata": {},
   "outputs": [],
   "source": [
    "import pandas as pd\n",
    "import numpy as np\n",
    "import matplotlib.pyplot as plt\n",
    "from datetime import datetime"
   ]
  },
  {
   "cell_type": "code",
   "execution_count": 12,
   "metadata": {},
   "outputs": [
    {
     "data": {
      "text/html": [
       "<div>\n",
       "<style scoped>\n",
       "    .dataframe tbody tr th:only-of-type {\n",
       "        vertical-align: middle;\n",
       "    }\n",
       "\n",
       "    .dataframe tbody tr th {\n",
       "        vertical-align: top;\n",
       "    }\n",
       "\n",
       "    .dataframe thead th {\n",
       "        text-align: right;\n",
       "    }\n",
       "</style>\n",
       "<table border=\"1\" class=\"dataframe\">\n",
       "  <thead>\n",
       "    <tr style=\"text-align: right;\">\n",
       "      <th></th>\n",
       "      <th>Date</th>\n",
       "      <th>Open</th>\n",
       "      <th>High</th>\n",
       "      <th>Low</th>\n",
       "      <th>Close</th>\n",
       "      <th>Adj Close</th>\n",
       "      <th>Volume</th>\n",
       "    </tr>\n",
       "  </thead>\n",
       "  <tbody>\n",
       "    <tr>\n",
       "      <th>0</th>\n",
       "      <td>1986-03-13</td>\n",
       "      <td>0.088542</td>\n",
       "      <td>0.101563</td>\n",
       "      <td>0.088542</td>\n",
       "      <td>0.097222</td>\n",
       "      <td>0.069996</td>\n",
       "      <td>1031788800</td>\n",
       "    </tr>\n",
       "    <tr>\n",
       "      <th>1</th>\n",
       "      <td>1986-03-14</td>\n",
       "      <td>0.097222</td>\n",
       "      <td>0.102431</td>\n",
       "      <td>0.097222</td>\n",
       "      <td>0.100694</td>\n",
       "      <td>0.072496</td>\n",
       "      <td>308160000</td>\n",
       "    </tr>\n",
       "    <tr>\n",
       "      <th>2</th>\n",
       "      <td>1986-03-17</td>\n",
       "      <td>0.100694</td>\n",
       "      <td>0.103299</td>\n",
       "      <td>0.100694</td>\n",
       "      <td>0.102431</td>\n",
       "      <td>0.073746</td>\n",
       "      <td>133171200</td>\n",
       "    </tr>\n",
       "    <tr>\n",
       "      <th>3</th>\n",
       "      <td>1986-03-18</td>\n",
       "      <td>0.102431</td>\n",
       "      <td>0.103299</td>\n",
       "      <td>0.098958</td>\n",
       "      <td>0.099826</td>\n",
       "      <td>0.071871</td>\n",
       "      <td>67766400</td>\n",
       "    </tr>\n",
       "    <tr>\n",
       "      <th>4</th>\n",
       "      <td>1986-03-19</td>\n",
       "      <td>0.099826</td>\n",
       "      <td>0.100694</td>\n",
       "      <td>0.097222</td>\n",
       "      <td>0.098090</td>\n",
       "      <td>0.070621</td>\n",
       "      <td>47894400</td>\n",
       "    </tr>\n",
       "  </tbody>\n",
       "</table>\n",
       "</div>"
      ],
      "text/plain": [
       "         Date      Open      High       Low     Close  Adj Close      Volume\n",
       "0  1986-03-13  0.088542  0.101563  0.088542  0.097222   0.069996  1031788800\n",
       "1  1986-03-14  0.097222  0.102431  0.097222  0.100694   0.072496   308160000\n",
       "2  1986-03-17  0.100694  0.103299  0.100694  0.102431   0.073746   133171200\n",
       "3  1986-03-18  0.102431  0.103299  0.098958  0.099826   0.071871    67766400\n",
       "4  1986-03-19  0.099826  0.100694  0.097222  0.098090   0.070621    47894400"
      ]
     },
     "execution_count": 12,
     "metadata": {},
     "output_type": "execute_result"
    }
   ],
   "source": [
    "df = pd.read_csv(\"../../csv/MSFT.csv\")\n",
    "df.head()"
   ]
  },
  {
   "cell_type": "code",
   "execution_count": 13,
   "metadata": {},
   "outputs": [
    {
     "name": "stdout",
     "output_type": "stream",
     "text": [
      "<class 'pandas.core.frame.DataFrame'>\n",
      "RangeIndex: 8389 entries, 0 to 8388\n",
      "Data columns (total 7 columns):\n",
      " #   Column     Non-Null Count  Dtype  \n",
      "---  ------     --------------  -----  \n",
      " 0   Date       8389 non-null   object \n",
      " 1   Open       8389 non-null   float64\n",
      " 2   High       8389 non-null   float64\n",
      " 3   Low        8389 non-null   float64\n",
      " 4   Close      8389 non-null   float64\n",
      " 5   Adj Close  8389 non-null   float64\n",
      " 6   Volume     8389 non-null   int64  \n",
      "dtypes: float64(5), int64(1), object(1)\n",
      "memory usage: 458.9+ KB\n"
     ]
    }
   ],
   "source": [
    "# 데이터프레임의 정보 확인\n",
    "df.info()"
   ]
  },
  {
   "cell_type": "code",
   "execution_count": 14,
   "metadata": {},
   "outputs": [],
   "source": [
    "# Date 컬럼의 데이터를 시계열로 변경하고 인덱스 설정\n",
    "df['Date'] = pd.to_datetime(df['Date'])\n",
    "df.set_index('Date', inplace=True)"
   ]
  },
  {
   "cell_type": "code",
   "execution_count": 15,
   "metadata": {},
   "outputs": [],
   "source": [
    "# 결측치, 양의 무한대, 음의 무한대를 제외\n",
    "flag = df.isin( [np.nan, np.inf, -np.inf] ).any(axis=1)\n",
    "df = df.loc[~flag, ['Adj Close']]"
   ]
  },
  {
   "cell_type": "code",
   "execution_count": 16,
   "metadata": {},
   "outputs": [
    {
     "data": {
      "text/html": [
       "<div>\n",
       "<style scoped>\n",
       "    .dataframe tbody tr th:only-of-type {\n",
       "        vertical-align: middle;\n",
       "    }\n",
       "\n",
       "    .dataframe tbody tr th {\n",
       "        vertical-align: top;\n",
       "    }\n",
       "\n",
       "    .dataframe thead th {\n",
       "        text-align: right;\n",
       "    }\n",
       "</style>\n",
       "<table border=\"1\" class=\"dataframe\">\n",
       "  <thead>\n",
       "    <tr style=\"text-align: right;\">\n",
       "      <th></th>\n",
       "      <th>Adj Close</th>\n",
       "    </tr>\n",
       "    <tr>\n",
       "      <th>Date</th>\n",
       "      <th></th>\n",
       "    </tr>\n",
       "  </thead>\n",
       "  <tbody>\n",
       "    <tr>\n",
       "      <th>1986-03-13</th>\n",
       "      <td>0.069996</td>\n",
       "    </tr>\n",
       "    <tr>\n",
       "      <th>1986-03-14</th>\n",
       "      <td>0.072496</td>\n",
       "    </tr>\n",
       "    <tr>\n",
       "      <th>1986-03-17</th>\n",
       "      <td>0.073746</td>\n",
       "    </tr>\n",
       "    <tr>\n",
       "      <th>1986-03-18</th>\n",
       "      <td>0.071871</td>\n",
       "    </tr>\n",
       "    <tr>\n",
       "      <th>1986-03-19</th>\n",
       "      <td>0.070621</td>\n",
       "    </tr>\n",
       "    <tr>\n",
       "      <th>...</th>\n",
       "      <td>...</td>\n",
       "    </tr>\n",
       "    <tr>\n",
       "      <th>2019-06-18</th>\n",
       "      <td>135.160004</td>\n",
       "    </tr>\n",
       "    <tr>\n",
       "      <th>2019-06-19</th>\n",
       "      <td>135.690002</td>\n",
       "    </tr>\n",
       "    <tr>\n",
       "      <th>2019-06-20</th>\n",
       "      <td>136.949997</td>\n",
       "    </tr>\n",
       "    <tr>\n",
       "      <th>2019-06-21</th>\n",
       "      <td>136.970001</td>\n",
       "    </tr>\n",
       "    <tr>\n",
       "      <th>2019-06-24</th>\n",
       "      <td>138.289993</td>\n",
       "    </tr>\n",
       "  </tbody>\n",
       "</table>\n",
       "<p>8389 rows × 1 columns</p>\n",
       "</div>"
      ],
      "text/plain": [
       "             Adj Close\n",
       "Date                  \n",
       "1986-03-13    0.069996\n",
       "1986-03-14    0.072496\n",
       "1986-03-17    0.073746\n",
       "1986-03-18    0.071871\n",
       "1986-03-19    0.070621\n",
       "...                ...\n",
       "2019-06-18  135.160004\n",
       "2019-06-19  135.690002\n",
       "2019-06-20  136.949997\n",
       "2019-06-21  136.970001\n",
       "2019-06-24  138.289993\n",
       "\n",
       "[8389 rows x 1 columns]"
      ]
     },
     "execution_count": 16,
     "metadata": {},
     "output_type": "execute_result"
    }
   ],
   "source": [
    "df"
   ]
  },
  {
   "cell_type": "code",
   "execution_count": 17,
   "metadata": {},
   "outputs": [
    {
     "data": {
      "text/html": [
       "<div>\n",
       "<style scoped>\n",
       "    .dataframe tbody tr th:only-of-type {\n",
       "        vertical-align: middle;\n",
       "    }\n",
       "\n",
       "    .dataframe tbody tr th {\n",
       "        vertical-align: top;\n",
       "    }\n",
       "\n",
       "    .dataframe thead th {\n",
       "        text-align: right;\n",
       "    }\n",
       "</style>\n",
       "<table border=\"1\" class=\"dataframe\">\n",
       "  <thead>\n",
       "    <tr style=\"text-align: right;\">\n",
       "      <th></th>\n",
       "      <th>Adj Close</th>\n",
       "    </tr>\n",
       "    <tr>\n",
       "      <th>Date</th>\n",
       "      <th></th>\n",
       "    </tr>\n",
       "  </thead>\n",
       "  <tbody>\n",
       "    <tr>\n",
       "      <th>1986-03-13</th>\n",
       "      <td>0.069996</td>\n",
       "    </tr>\n",
       "    <tr>\n",
       "      <th>1986-03-14</th>\n",
       "      <td>0.072496</td>\n",
       "    </tr>\n",
       "    <tr>\n",
       "      <th>1986-03-17</th>\n",
       "      <td>0.073746</td>\n",
       "    </tr>\n",
       "    <tr>\n",
       "      <th>1986-03-18</th>\n",
       "      <td>0.071871</td>\n",
       "    </tr>\n",
       "    <tr>\n",
       "      <th>1986-03-19</th>\n",
       "      <td>0.070621</td>\n",
       "    </tr>\n",
       "  </tbody>\n",
       "</table>\n",
       "</div>"
      ],
      "text/plain": [
       "            Adj Close\n",
       "Date                 \n",
       "1986-03-13   0.069996\n",
       "1986-03-14   0.072496\n",
       "1986-03-17   0.073746\n",
       "1986-03-18   0.071871\n",
       "1986-03-19   0.070621"
      ]
     },
     "execution_count": 17,
     "metadata": {},
     "output_type": "execute_result"
    }
   ],
   "source": [
    "df.head()"
   ]
  },
  {
   "cell_type": "code",
   "execution_count": 20,
   "metadata": {},
   "outputs": [
    {
     "data": {
      "text/plain": [
       "Adj Close    0.069246\n",
       "dtype: float64"
      ]
     },
     "execution_count": 20,
     "metadata": {},
     "output_type": "execute_result"
    }
   ],
   "source": [
    "# 이동 평균선 생성\n",
    "# 20개의 데이터의 평균 값\n",
    "df.iloc[0:20].mean()"
   ]
  },
  {
   "cell_type": "code",
   "execution_count": 21,
   "metadata": {},
   "outputs": [],
   "source": [
    "df2 = df.copy()"
   ]
  },
  {
   "cell_type": "code",
   "execution_count": 27,
   "metadata": {},
   "outputs": [
    {
     "data": {
      "text/html": [
       "<div>\n",
       "<style scoped>\n",
       "    .dataframe tbody tr th:only-of-type {\n",
       "        vertical-align: middle;\n",
       "    }\n",
       "\n",
       "    .dataframe tbody tr th {\n",
       "        vertical-align: top;\n",
       "    }\n",
       "\n",
       "    .dataframe thead th {\n",
       "        text-align: right;\n",
       "    }\n",
       "</style>\n",
       "<table border=\"1\" class=\"dataframe\">\n",
       "  <thead>\n",
       "    <tr style=\"text-align: right;\">\n",
       "      <th></th>\n",
       "      <th>Adj Close</th>\n",
       "      <th>center</th>\n",
       "    </tr>\n",
       "    <tr>\n",
       "      <th>Date</th>\n",
       "      <th></th>\n",
       "      <th></th>\n",
       "    </tr>\n",
       "  </thead>\n",
       "  <tbody>\n",
       "    <tr>\n",
       "      <th>1986-03-13</th>\n",
       "      <td>0.069996</td>\n",
       "      <td>NaN</td>\n",
       "    </tr>\n",
       "    <tr>\n",
       "      <th>1986-03-14</th>\n",
       "      <td>0.072496</td>\n",
       "      <td>NaN</td>\n",
       "    </tr>\n",
       "    <tr>\n",
       "      <th>1986-03-17</th>\n",
       "      <td>0.073746</td>\n",
       "      <td>NaN</td>\n",
       "    </tr>\n",
       "    <tr>\n",
       "      <th>1986-03-18</th>\n",
       "      <td>0.071871</td>\n",
       "      <td>NaN</td>\n",
       "    </tr>\n",
       "    <tr>\n",
       "      <th>1986-03-19</th>\n",
       "      <td>0.070621</td>\n",
       "      <td>NaN</td>\n",
       "    </tr>\n",
       "    <tr>\n",
       "      <th>...</th>\n",
       "      <td>...</td>\n",
       "      <td>...</td>\n",
       "    </tr>\n",
       "    <tr>\n",
       "      <th>2019-06-18</th>\n",
       "      <td>135.160004</td>\n",
       "      <td>NaN</td>\n",
       "    </tr>\n",
       "    <tr>\n",
       "      <th>2019-06-19</th>\n",
       "      <td>135.690002</td>\n",
       "      <td>NaN</td>\n",
       "    </tr>\n",
       "    <tr>\n",
       "      <th>2019-06-20</th>\n",
       "      <td>136.949997</td>\n",
       "      <td>NaN</td>\n",
       "    </tr>\n",
       "    <tr>\n",
       "      <th>2019-06-21</th>\n",
       "      <td>136.970001</td>\n",
       "      <td>NaN</td>\n",
       "    </tr>\n",
       "    <tr>\n",
       "      <th>2019-06-24</th>\n",
       "      <td>138.289993</td>\n",
       "      <td>NaN</td>\n",
       "    </tr>\n",
       "  </tbody>\n",
       "</table>\n",
       "<p>8389 rows × 2 columns</p>\n",
       "</div>"
      ],
      "text/plain": [
       "             Adj Close  center\n",
       "Date                          \n",
       "1986-03-13    0.069996     NaN\n",
       "1986-03-14    0.072496     NaN\n",
       "1986-03-17    0.073746     NaN\n",
       "1986-03-18    0.071871     NaN\n",
       "1986-03-19    0.070621     NaN\n",
       "...                ...     ...\n",
       "2019-06-18  135.160004     NaN\n",
       "2019-06-19  135.690002     NaN\n",
       "2019-06-20  136.949997     NaN\n",
       "2019-06-21  136.970001     NaN\n",
       "2019-06-24  138.289993     NaN\n",
       "\n",
       "[8389 rows x 2 columns]"
      ]
     },
     "execution_count": 27,
     "metadata": {},
     "output_type": "execute_result"
    }
   ],
   "source": [
    "# 반복문을 이용하여 이동평균선 생성\n",
    "df2['center'] = np.nan\n",
    "df2"
   ]
  },
  {
   "cell_type": "code",
   "execution_count": 28,
   "metadata": {},
   "outputs": [
    {
     "data": {
      "text/html": [
       "<div>\n",
       "<style scoped>\n",
       "    .dataframe tbody tr th:only-of-type {\n",
       "        vertical-align: middle;\n",
       "    }\n",
       "\n",
       "    .dataframe tbody tr th {\n",
       "        vertical-align: top;\n",
       "    }\n",
       "\n",
       "    .dataframe thead th {\n",
       "        text-align: right;\n",
       "    }\n",
       "</style>\n",
       "<table border=\"1\" class=\"dataframe\">\n",
       "  <thead>\n",
       "    <tr style=\"text-align: right;\">\n",
       "      <th></th>\n",
       "      <th>Adj Close</th>\n",
       "      <th>center</th>\n",
       "    </tr>\n",
       "    <tr>\n",
       "      <th>Date</th>\n",
       "      <th></th>\n",
       "      <th></th>\n",
       "    </tr>\n",
       "  </thead>\n",
       "  <tbody>\n",
       "    <tr>\n",
       "      <th>1986-03-13</th>\n",
       "      <td>0.069996</td>\n",
       "      <td>NaN</td>\n",
       "    </tr>\n",
       "    <tr>\n",
       "      <th>1986-03-14</th>\n",
       "      <td>0.072496</td>\n",
       "      <td>NaN</td>\n",
       "    </tr>\n",
       "    <tr>\n",
       "      <th>1986-03-17</th>\n",
       "      <td>0.073746</td>\n",
       "      <td>NaN</td>\n",
       "    </tr>\n",
       "    <tr>\n",
       "      <th>1986-03-18</th>\n",
       "      <td>0.071871</td>\n",
       "      <td>NaN</td>\n",
       "    </tr>\n",
       "    <tr>\n",
       "      <th>1986-03-19</th>\n",
       "      <td>0.070621</td>\n",
       "      <td>NaN</td>\n",
       "    </tr>\n",
       "    <tr>\n",
       "      <th>...</th>\n",
       "      <td>...</td>\n",
       "      <td>...</td>\n",
       "    </tr>\n",
       "    <tr>\n",
       "      <th>2019-06-18</th>\n",
       "      <td>135.160004</td>\n",
       "      <td>128.226002</td>\n",
       "    </tr>\n",
       "    <tr>\n",
       "      <th>2019-06-19</th>\n",
       "      <td>135.690002</td>\n",
       "      <td>128.665502</td>\n",
       "    </tr>\n",
       "    <tr>\n",
       "      <th>2019-06-20</th>\n",
       "      <td>136.949997</td>\n",
       "      <td>129.129502</td>\n",
       "    </tr>\n",
       "    <tr>\n",
       "      <th>2019-06-21</th>\n",
       "      <td>136.970001</td>\n",
       "      <td>129.669002</td>\n",
       "    </tr>\n",
       "    <tr>\n",
       "      <th>2019-06-24</th>\n",
       "      <td>138.289993</td>\n",
       "      <td>130.271501</td>\n",
       "    </tr>\n",
       "  </tbody>\n",
       "</table>\n",
       "<p>8389 rows × 2 columns</p>\n",
       "</div>"
      ],
      "text/plain": [
       "             Adj Close      center\n",
       "Date                              \n",
       "1986-03-13    0.069996         NaN\n",
       "1986-03-14    0.072496         NaN\n",
       "1986-03-17    0.073746         NaN\n",
       "1986-03-18    0.071871         NaN\n",
       "1986-03-19    0.070621         NaN\n",
       "...                ...         ...\n",
       "2019-06-18  135.160004  128.226002\n",
       "2019-06-19  135.690002  128.665502\n",
       "2019-06-20  136.949997  129.129502\n",
       "2019-06-21  136.970001  129.669002\n",
       "2019-06-24  138.289993  130.271501\n",
       "\n",
       "[8389 rows x 2 columns]"
      ]
     },
     "execution_count": 28,
     "metadata": {},
     "output_type": "execute_result"
    }
   ],
   "source": [
    "for i in range(20, len(df2)+1):\n",
    "    mean_data = df2.iloc[i-20 : i, 0].mean()\n",
    "    # 평균값을 i번째 인덱스의 2번째 컬럼(1)에 대입\n",
    "    df2.iloc[i-1, 1] = mean_data\n",
    "df2"
   ]
  },
  {
   "cell_type": "code",
   "execution_count": 34,
   "metadata": {},
   "outputs": [],
   "source": [
    "# rolling(n) : n만큼 데이터를 그룹화\n",
    "df['center'] = df['Adj Close'].rolling(20).mean()"
   ]
  },
  {
   "cell_type": "code",
   "execution_count": 36,
   "metadata": {},
   "outputs": [
    {
     "data": {
      "text/html": [
       "<div>\n",
       "<style scoped>\n",
       "    .dataframe tbody tr th:only-of-type {\n",
       "        vertical-align: middle;\n",
       "    }\n",
       "\n",
       "    .dataframe tbody tr th {\n",
       "        vertical-align: top;\n",
       "    }\n",
       "\n",
       "    .dataframe thead th {\n",
       "        text-align: right;\n",
       "    }\n",
       "</style>\n",
       "<table border=\"1\" class=\"dataframe\">\n",
       "  <thead>\n",
       "    <tr style=\"text-align: right;\">\n",
       "      <th></th>\n",
       "      <th>Adj Close</th>\n",
       "      <th>center</th>\n",
       "    </tr>\n",
       "    <tr>\n",
       "      <th>Date</th>\n",
       "      <th></th>\n",
       "      <th></th>\n",
       "    </tr>\n",
       "  </thead>\n",
       "  <tbody>\n",
       "    <tr>\n",
       "      <th>1986-04-09</th>\n",
       "      <td>0.069996</td>\n",
       "      <td>NaN</td>\n",
       "    </tr>\n",
       "    <tr>\n",
       "      <th>1986-04-10</th>\n",
       "      <td>0.070621</td>\n",
       "      <td>0.069246</td>\n",
       "    </tr>\n",
       "    <tr>\n",
       "      <th>1986-04-11</th>\n",
       "      <td>0.071871</td>\n",
       "      <td>0.069340</td>\n",
       "    </tr>\n",
       "    <tr>\n",
       "      <th>1986-04-14</th>\n",
       "      <td>0.072496</td>\n",
       "      <td>0.069340</td>\n",
       "    </tr>\n",
       "  </tbody>\n",
       "</table>\n",
       "</div>"
      ],
      "text/plain": [
       "            Adj Close    center\n",
       "Date                           \n",
       "1986-04-09   0.069996       NaN\n",
       "1986-04-10   0.070621  0.069246\n",
       "1986-04-11   0.071871  0.069340\n",
       "1986-04-14   0.072496  0.069340"
      ]
     },
     "execution_count": 36,
     "metadata": {},
     "output_type": "execute_result"
    }
   ],
   "source": [
    "df.iloc[18:22]"
   ]
  },
  {
   "cell_type": "code",
   "execution_count": null,
   "metadata": {},
   "outputs": [],
   "source": [
    "# 상단 밴드 생성\n",
    "df['up'] = df['center'] + (2 * df['Adj Close'].rolling(20).std())"
   ]
  },
  {
   "cell_type": "code",
   "execution_count": 41,
   "metadata": {},
   "outputs": [],
   "source": [
    "# 하단 밴드 생성\n",
    "df['down'] = df['center'] - (2 * df['Adj Close'].rolling(20).std())"
   ]
  },
  {
   "cell_type": "code",
   "execution_count": 67,
   "metadata": {},
   "outputs": [],
   "source": [
    "df_test = df.tail(100)"
   ]
  },
  {
   "cell_type": "code",
   "execution_count": 68,
   "metadata": {},
   "outputs": [
    {
     "data": {
      "image/png": "[encoded data removed]",
      "text/plain": [
       "<Figure size 640x480 with 1 Axes>"
      ]
     },
     "metadata": {},
     "output_type": "display_data"
    }
   ],
   "source": [
    "x = df_test.index\n",
    "center_price = df_test['center']\n",
    "up_price = df_test['up']\n",
    "down_price = df_test['down']\n",
    "\n",
    "plt.Figure(figsize = (16, 8))\n",
    "plt.plot(x, center_price)\n",
    "plt.plot(x, up_price)\n",
    "plt.plot(x, down_price)\n",
    "\n",
    "plt.show()"
   ]
  },
  {
   "cell_type": "code",
   "execution_count": 69,
   "metadata": {},
   "outputs": [
    {
     "data": {
      "text/plain": [
       "<Axes: xlabel='Date'>"
      ]
     },
     "execution_count": 69,
     "metadata": {},
     "output_type": "execute_result"
    },
    {
     "data": {
      "image/png": "[encoded data removed]",
      "text/plain": [
       "<Figure size 640x480 with 1 Axes>"
      ]
     },
     "metadata": {},
     "output_type": "display_data"
    }
   ],
   "source": [
    "df_test[['Adj Close', 'up', 'down']].plot()"
   ]
  },
  {
   "cell_type": "code",
   "execution_count": 50,
   "metadata": {},
   "outputs": [],
   "source": [
    "start = '2010-01-01'"
   ]
  },
  {
   "cell_type": "code",
   "execution_count": 51,
   "metadata": {},
   "outputs": [],
   "source": [
    "start = datetime.strptime(start, '%Y-%m-%d')"
   ]
  },
  {
   "cell_type": "code",
   "execution_count": 53,
   "metadata": {},
   "outputs": [],
   "source": [
    "price_df = df.loc[start : ]"
   ]
  },
  {
   "cell_type": "markdown",
   "metadata": {},
   "source": [
    "### 보유 내역 추가\n",
    "- 조건식\n",
    "    - 상단 밴드보다 수정 종가가 높거나 같은 경우\n",
    "        - 현재 보유 상태라면\n",
    "            - 매도 (trade = '')\n",
    "        - 현재 보유 상태가 아니면\n",
    "            - 유지 (trade = '')\n",
    "    - 상단 밴드보다 낮고 하단 밴드보다 높은 경우\n",
    "        - 현재 보유 상태라면\n",
    "            - 유지 (trade = 'buy')\n",
    "        - 현재 보유 상태가 아니면\n",
    "            - 유지 (trade = '')\n",
    "    - 하단 밴드보다 수정 종가가 낮거나 같은 경우\n",
    "        - 현재 보유 상태라면\n",
    "            - 유지 (trade = 'buy')\n",
    "        - 현재 보유 산태가 아니면\n",
    "            - 매수 (trade = 'buy')\n"
   ]
  },
  {
   "cell_type": "code",
   "execution_count": 54,
   "metadata": {},
   "outputs": [
    {
     "name": "stderr",
     "output_type": "stream",
     "text": [
      "/var/folders/r7/wm80f9fd57g6h8jt36r8dgwh0000gn/T/ipykernel_79109/2934138610.py:2: SettingWithCopyWarning: \n",
      "A value is trying to be set on a copy of a slice from a DataFrame.\n",
      "Try using .loc[row_indexer,col_indexer] = value instead\n",
      "\n",
      "See the caveats in the documentation: https://pandas.pydata.org/pandas-docs/stable/user_guide/indexing.html#returning-a-view-versus-a-copy\n",
      "  price_df['trade'] = ''\n"
     ]
    }
   ],
   "source": [
    "# trade 컬럼을 생성\n",
    "price_df['trade'] = ''"
   ]
  },
  {
   "cell_type": "code",
   "execution_count": 57,
   "metadata": {},
   "outputs": [],
   "source": [
    "for idx in price_df.index:\n",
    "    # idx에는 price_df의 인덱스 값(시계열 데이터)\n",
    "    # 상단 밴드의 값보다 수정 종가의 값이 크거나 같다면\n",
    "    if price_df.loc[idx, 'Adj Close'] >= price_df.loc[idx, 'up']:\n",
    "        # 현재 보유 상태라면? -> 전날에 trade가 'buy'인 경우\n",
    "        if price_df.shift().loc[idx, 'trade'] == 'buy':\n",
    "            price_df.loc[idx, 'trade'] = ''\n",
    "        else:\n",
    "            # 현재 보유상태가 아니라면 유지\n",
    "            price_df.loc[idx, 'trade'] = ''\n",
    "    # 하단밴드보다 낮거나 같은 경우\n",
    "    elif price_df.loc[idx, 'down'] >= price_df.loc[idx, 'Adj Close']:\n",
    "        # 현재 보유 상태라면 유지\n",
    "        if price_df.shift().loc[idx, 'trade'] == 'buy':\n",
    "            price_df.loc[idx, 'trade'] = 'buy'\n",
    "        else:\n",
    "            # 현재 보유상태가 아니라면 매수\n",
    "            price_df.loc[idx, 'trade'] = 'buy'\n",
    "    # 밴드 사이에 수정 종가가 존재하고 있을때\n",
    "    else:\n",
    "        # 현재 보유상태라면 유지\n",
    "        if price_df.shift().loc[idx, 'trade'] == 'buy':\n",
    "            price_df.loc[idx, 'trade'] = 'buy'\n",
    "        # 보유상태가 아니라면 유지\n",
    "        else:\n",
    "            price_df.loc[idx, 'trade'] = ''"
   ]
  },
  {
   "cell_type": "code",
   "execution_count": 58,
   "metadata": {},
   "outputs": [
    {
     "data": {
      "text/plain": [
       "trade\n",
       "       1400\n",
       "buy     984\n",
       "Name: count, dtype: int64"
      ]
     },
     "execution_count": 58,
     "metadata": {},
     "output_type": "execute_result"
    }
   ],
   "source": [
    "price_df['trade'].value_counts()"
   ]
  },
  {
   "cell_type": "markdown",
   "metadata": {},
   "source": [
    "### 수익률 계산\n",
    "- 구매한 날의 수정종가\n",
    "    - 전날의 trade가 ''이고 오늘의 trade가 'buy'인 조건의 Adj Close\n",
    "- 판매한 날의 수정종가\n",
    "    - 전날의 trade가 'buy'이고 오늘의 trade가 ''인 조건의 Adj Close\n",
    "- 수익률\n",
    "    - 판매한 날의 수정 종가 / 구매한 날의 수정 종가"
   ]
  },
  {
   "cell_type": "code",
   "execution_count": 59,
   "metadata": {},
   "outputs": [
    {
     "name": "stderr",
     "output_type": "stream",
     "text": [
      "/var/folders/r7/wm80f9fd57g6h8jt36r8dgwh0000gn/T/ipykernel_79109/4058949278.py:2: SettingWithCopyWarning: \n",
      "A value is trying to be set on a copy of a slice from a DataFrame.\n",
      "Try using .loc[row_indexer,col_indexer] = value instead\n",
      "\n",
      "See the caveats in the documentation: https://pandas.pydata.org/pandas-docs/stable/user_guide/indexing.html#returning-a-view-versus-a-copy\n",
      "  price_df['rtn'] = 1\n",
      "/var/folders/r7/wm80f9fd57g6h8jt36r8dgwh0000gn/T/ipykernel_79109/4058949278.py:15: FutureWarning: Setting an item of incompatible dtype is deprecated and will raise an error in a future version of pandas. Value '1.0279195322598862' has dtype incompatible with int64, please explicitly cast to a compatible dtype first.\n",
      "  price_df.loc[idx, 'rtn'] = rtn\n"
     ]
    },
    {
     "name": "stdout",
     "output_type": "stream",
     "text": [
      "매수일 : 2010-01-22 00:00:00, 매수가 : 22.948128\n",
      "매도일 : 2010-03-17 00:00:00, 매도가 : 23.588829\n",
      "수익률 : 1.0279195322598862\n",
      "매수일 : 2010-05-06 00:00:00, 매수가 : 23.07136\n",
      "매도일 : 2010-09-13 00:00:00, 매도가 : 20.187721\n",
      "수익률 : 0.875012179602763\n",
      "매수일 : 2010-11-23 00:00:00, 매수가 : 20.319853\n",
      "매도일 : 2011-01-06 00:00:00, 매도가 : 23.312819\n",
      "수익률 : 1.1472926994107686\n",
      "매수일 : 2011-03-16 00:00:00, 매수가 : 20.171436\n",
      "매도일 : 2011-04-06 00:00:00, 매도가 : 21.278055\n",
      "수익률 : 1.0548606950937949\n",
      "매수일 : 2011-05-16 00:00:00, 매수가 : 19.992422\n",
      "매도일 : 2011-06-27 00:00:00, 매도가 : 20.639456\n",
      "수익률 : 1.032363962705469\n",
      "매수일 : 2011-08-04 00:00:00, 매수가 : 21.245531\n",
      "매도일 : 2011-08-31 00:00:00, 매도가 : 21.923595\n",
      "수익률 : 1.0319156061573607\n",
      "매수일 : 2011-11-01 00:00:00, 매수가 : 21.420837\n",
      "매도일 : 2012-01-03 00:00:00, 매도가 : 22.229851\n",
      "수익률 : 1.037767618510892\n",
      "매수일 : 2012-04-04 00:00:00, 매수가 : 26.087456\n",
      "매도일 : 2012-06-19 00:00:00, 매도가 : 25.829544\n",
      "수익률 : 0.9901135626256542\n",
      "매수일 : 2012-07-12 00:00:00, 매수가 : 24.087934\n",
      "매도일 : 2012-09-06 00:00:00, 매도가 : 26.551155\n",
      "수익률 : 1.1022595379080664\n",
      "매수일 : 2012-09-28 00:00:00, 매수가 : 25.204538\n",
      "매도일 : 2013-01-25 00:00:00, 매도가 : 23.806347\n",
      "수익률 : 0.9445262198418396\n",
      "매수일 : 2013-06-20 00:00:00, 매수가 : 29.035603\n",
      "매도일 : 2013-07-11 00:00:00, 매도가 : 30.942978\n",
      "수익률 : 1.0656909036812496\n",
      "매수일 : 2013-07-19 00:00:00, 매수가 : 27.223581\n",
      "매도일 : 2013-08-23 00:00:00, 매도가 : 30.340303\n",
      "수익률 : 1.11448611407882\n",
      "매수일 : 2014-01-08 00:00:00, 매수가 : 31.458933\n",
      "매도일 : 2014-01-31 00:00:00, 매도가 : 33.288746\n",
      "수익률 : 1.0581651323012133\n",
      "매수일 : 2014-10-10 00:00:00, 매수가 : 39.545464\n",
      "매도일 : 2015-04-23 00:00:00, 매도가 : 39.450024\n",
      "수익률 : 0.9975865752896462\n",
      "매수일 : 2015-06-08 00:00:00, 매수가 : 41.896034\n",
      "매도일 : 2015-10-02 00:00:00, 매도가 : 42.024754\n",
      "수익률 : 1.0030723671839679\n",
      "매수일 : 2016-01-07 00:00:00, 매수가 : 48.435574\n",
      "매도일 : 2016-03-16 00:00:00, 매도가 : 50.821819\n",
      "수익률 : 1.04926637186131\n",
      "매수일 : 2016-04-22 00:00:00, 매수가 : 48.418652\n",
      "매도일 : 2016-05-25 00:00:00, 매도가 : 49.077465\n",
      "수익률 : 1.0136065952435023\n",
      "매수일 : 2016-06-27 00:00:00, 매수가 : 45.602867\n",
      "매도일 : 2016-07-12 00:00:00, 매도가 : 50.103844\n",
      "수익률 : 1.0986994304546684\n",
      "매수일 : 2016-09-09 00:00:00, 매수가 : 53.258598\n",
      "매도일 : 2016-10-21 00:00:00, 매도가 : 56.527447\n",
      "수익률 : 1.0613769254684475\n",
      "매수일 : 2017-08-10 00:00:00, 매수가 : 68.923355\n",
      "매도일 : 2017-08-30 00:00:00, 매도가 : 71.813408\n",
      "수익률 : 1.0419314033682776\n",
      "매수일 : 2017-12-04 00:00:00, 매수가 : 79.068665\n",
      "매도일 : 2017-12-15 00:00:00, 매도가 : 84.695534\n",
      "수익률 : 1.0711643354545066\n",
      "매수일 : 2018-02-08 00:00:00, 매수가 : 82.901184\n",
      "매도일 : 2018-04-17 00:00:00, 매도가 : 94.126915\n",
      "수익률 : 1.135410985203782\n",
      "매수일 : 2018-06-27 00:00:00, 매수가 : 95.981407\n",
      "매도일 : 2018-07-12 00:00:00, 매도가 : 102.525146\n",
      "수익률 : 1.068177152268668\n",
      "매수일 : 2018-10-10 00:00:00, 매수가 : 104.865669\n",
      "매도일 : 2019-02-21 00:00:00, 매도가 : 109.0065\n",
      "수익률 : 1.0394870031296897\n",
      "매수일 : 2019-06-03 00:00:00, 매수가 : 119.839996\n",
      "매도일 : 2019-06-07 00:00:00, 매도가 : 131.399994\n",
      "수익률 : 1.0964619357964598\n"
     ]
    }
   ],
   "source": [
    "# 수익률 컬럼을 생성 기본값을 1로 지정\n",
    "price_df['rtn'] = 1\n",
    "\n",
    "for idx in price_df.index:\n",
    "    # 구매한 날짜의 조건식\n",
    "    if (price_df.shift().loc[idx, 'trade'] == '') & (price_df.loc[idx, 'trade'] == 'buy'):\n",
    "        buy = price_df.loc[idx, 'Adj Close']\n",
    "        print(f\"매수일 : {idx}, 매수가 : {buy}\")\n",
    "    # 매도한 날짜의 조건식\n",
    "    elif (price_df.shift().loc[idx, 'trade'] == 'buy') & (price_df.loc[idx, 'trade'] == ''):\n",
    "        sell = price_df.loc[idx, 'Adj Close']\n",
    "        print(f\"매도일 : {idx}, 매도가 : {sell}\")\n",
    "        # 수익률 계산\n",
    "        rtn = sell/buy\n",
    "        price_df.loc[idx, 'rtn'] = rtn\n",
    "        print(f\"수익률 : {rtn}\")"
   ]
  },
  {
   "cell_type": "code",
   "execution_count": 72,
   "metadata": {},
   "outputs": [
    {
     "data": {
      "text/plain": [
       "Date\n",
       "2010-01-04    1.0\n",
       "2010-01-05    1.0\n",
       "2010-01-06    1.0\n",
       "2010-01-07    1.0\n",
       "2010-01-08    1.0\n",
       "             ... \n",
       "2019-06-18    1.0\n",
       "2019-06-19    1.0\n",
       "2019-06-20    1.0\n",
       "2019-06-21    1.0\n",
       "2019-06-24    1.0\n",
       "Name: rtn, Length: 2384, dtype: float64"
      ]
     },
     "execution_count": 72,
     "metadata": {},
     "output_type": "execute_result"
    }
   ],
   "source": [
    "price_df['rtn']"
   ]
  },
  {
   "cell_type": "code",
   "execution_count": 74,
   "metadata": {},
   "outputs": [
    {
     "data": {
      "text/plain": [
       "np.float64(2.985057953026086)"
      ]
     },
     "execution_count": 74,
     "metadata": {},
     "output_type": "execute_result"
    }
   ],
   "source": [
    "acc_rtn = 1\n",
    "\n",
    "for idx in price_df.index:\n",
    "    acc_rtn *= price_df.loc[idx, 'rtn']\n",
    "acc_rtn"
   ]
  },
  {
   "cell_type": "code",
   "execution_count": 75,
   "metadata": {},
   "outputs": [
    {
     "data": {
      "text/plain": [
       "Date\n",
       "2010-01-04    1.000000\n",
       "2010-01-05    1.000000\n",
       "2010-01-06    1.000000\n",
       "2010-01-07    1.000000\n",
       "2010-01-08    1.000000\n",
       "                ...   \n",
       "2019-06-18    2.985058\n",
       "2019-06-19    2.985058\n",
       "2019-06-20    2.985058\n",
       "2019-06-21    2.985058\n",
       "2019-06-24    2.985058\n",
       "Name: rtn, Length: 2384, dtype: float64"
      ]
     },
     "execution_count": 75,
     "metadata": {},
     "output_type": "execute_result"
    }
   ],
   "source": [
    "# 누적 수익률 계산\n",
    "price_df['rtn'].cumprod()"
   ]
  },
  {
   "cell_type": "markdown",
   "metadata": {},
   "source": [
    "### 볼린저 밴드의 함수화\n",
    "1. 첫번째 함수\n",
    "    - 밴드를 생성하는 함수\n",
    "        - 매개변수 5개\n",
    "            - 데이터프레임\n",
    "            - 기준이 되는 컬럼의 이름 ( 'Adj Close' )\n",
    "            - 시작 시간 ( '2010-01-01' )\n",
    "            - 종료 시간 ( 현재 시간 )\n",
    "            - 볼린저 밴드의 그룹이 되는 데이터의 개수 (20)\n",
    "        - 데이터프레임을 복사\n",
    "        - 데이터프레임의 컬럼 중 Date가 존재하는가?\n",
    "            - 존재한다면 Date 컬럼을 인덱스로 변경\n",
    "        - index를 시계열 데이터로 변경\n",
    "        - 결측치와 무한대 값을 제외\n",
    "        - 기준이 되는 컬럼을 제외하고 모두 삭제\n",
    "        - 이동 평균선, 상단 밴드, 하단 밴드 컬럼을 생성\n",
    "        - 시작 시간과 종료 시간을 기준으로 필터링\n",
    "        - 위에서 작업한 결과를 되돌려준다."
   ]
  },
  {
   "cell_type": "code",
   "execution_count": null,
   "metadata": {},
   "outputs": [],
   "source": [
    "def create_band(\n",
    "        _df,\n",
    "        _col='Adj Close',\n",
    "        _start='2010-01-01',\n",
    "        _end=datetime.now(),\n",
    "        _cnt=20\n",
    "):\n",
    "    # 복사본을 생성\n",
    "    result = _df.copy()\n",
    "    # 컬럼 중 Date 컬럼이 존재하는가?\n",
    "    if 'Date' in result.columns:\n",
    "        # Date를 인덱스로 변환\n",
    "        result.set_index('Date', inplace=True)\n",
    "    # index를 시계열 데이터로 변경\n",
    "    result.index = pd.to_datetime(result.index)\n",
    "    # 결측치, 무한대를 제외시킨다.\n",
    "    flag = result.isin( [np.nan, np.inf, -np.inf] ).any(axis=1)\n",
    "    result = result.loc[~flag, [_col]]\n",
    "\n",
    "    # 이동평균선, 상단 밴드, 하단 밴드 생성\n",
    "    result['center'] = result[_col].rolling(_cnt).mean()\n",
    "    result['up'] = result['center'] + (2 * result[_col].rolling(_cnt).std())\n",
    "    result['down'] = result['center'] - (2 * result[_col].rolling(_cnt).std())\n",
    "    # 시작 시간과 종료 시간을 시계열 데이터로 변경\n",
    "    try: \n",
    "        start = datetime.strptime(_start, \"%Y-%m-%d\")\n",
    "        if type(_end) == 'str':\n",
    "            end = datetime.strptime(_end, \"%Y-%m-%d\")\n",
    "        else:\n",
    "            end = _end\n",
    "    except:\n",
    "        print(\"시작 시간과 종료 시간의 포맷은 YYYY-mm-dd 입니다.\")\n",
    "        return \"\"\n",
    "    # 시작 시간과 종료 시간을 기준으로 데이터를 필터링\n",
    "    result = result[start : end]\n",
    "    return result    "
   ]
  },
  {
   "cell_type": "code",
   "execution_count": 82,
   "metadata": {},
   "outputs": [],
   "source": [
    "df = pd.read_csv(\"../../csv/AAPL.csv\")"
   ]
  },
  {
   "cell_type": "code",
   "execution_count": 83,
   "metadata": {},
   "outputs": [],
   "source": [
    "band_df = create_band(df)"
   ]
  },
  {
   "cell_type": "markdown",
   "metadata": {},
   "source": [
    "- 두번째 함수\n",
    "    - 트레이드 컬럼을 생성하는 함수\n",
    "        - 매개변수 1개 (create_band()함수의 결과)\n",
    "    - 복사본을 생성\n",
    "    - 데이터프레임에서 첫번째 컬럼의 이름을 변수(col)에 저장\n",
    "    - trade 컬럼을 생성해서 ''을 대입\n",
    "    - 보유 내역을 반복문을 이용하여 대입\n",
    "    - 결과를 되돌려준다\n"
   ]
  },
  {
   "cell_type": "code",
   "execution_count": 101,
   "metadata": {},
   "outputs": [],
   "source": [
    "def create_trade(_band):\n",
    "    result = _band.copy()\n",
    "    # 텃번째 컬럼의 이름을 변수에 저장\n",
    "    col = result.columns[0]\n",
    "\n",
    "    # 보유 내역 컬럼을 생성 '' 대입\n",
    "    result['trade'] = ''\n",
    "\n",
    "    # 내역 추가\n",
    "    for idx in result.index:\n",
    "        # 상단 밴드보다 기준이 되는 컬럼의 값이 크거나 같은 경우\n",
    "        if result.loc[idx, col] >= result.loc[idx, 'up']:\n",
    "            # 매수중인 경우 매도 // 보유중 아니면 유지\n",
    "            # trade = ''\n",
    "            result.loc[idx, 'trade'] = ''\n",
    "        # 하단 밴드보다 기준이 되는 컬럼의 값이 작거나 같은 경우\n",
    "        elif result.loc[idx, col] <= result.loc[idx, 'down']:\n",
    "            # 보유중이 아니면 매수 // 보유중이면 유지\n",
    "            # trade = \"buy\"\n",
    "            result.loc[idx, 'trade'] = 'buy'\n",
    "        # 밴드 중간에 기준이 되는 컬럼의 값이 존재한다면\n",
    "        else:\n",
    "            # 보유중이라면 보유 유지\n",
    "            if result.shift().loc[idx, 'trade'] == 'buy':\n",
    "                result.loc[idx, 'trade'] = 'buy'\n",
    "            # 보유중이 아니라면 유지\n",
    "            else:\n",
    "                result.loc[idx, 'trade'] =''\n",
    "    return result"
   ]
  },
  {
   "cell_type": "code",
   "execution_count": 102,
   "metadata": {},
   "outputs": [],
   "source": [
    "trade_df = create_trade(band_df)"
   ]
  },
  {
   "cell_type": "code",
   "execution_count": 103,
   "metadata": {},
   "outputs": [
    {
     "data": {
      "text/plain": [
       "trade\n",
       "       1439\n",
       "buy     945\n",
       "Name: count, dtype: int64"
      ]
     },
     "execution_count": 103,
     "metadata": {},
     "output_type": "execute_result"
    }
   ],
   "source": [
    "trade_df['trade'].value_counts()"
   ]
  },
  {
   "cell_type": "markdown",
   "metadata": {},
   "source": [
    "- 세번째 함수 생성\n",
    "    - 수익률을 계산하는 함수\n",
    "        - 매개변수 1개 : create_trade()함수의 결과\n",
    "    - 복사본 생성\n",
    "    - 컬럼의 첫번째 이름을 변수에 저장(col)\n",
    "    - 수익률 컬럼(rtn)을 생성하고 1을 대입\n",
    "    - 매수, 배도인 경우를 찾아서 수익률을 rtn에 대입\n",
    "    - 수익률 데이터를 기준으로 하여 누적 수익률 컬럼을 생성하여 대입\n",
    "    - 생성된 데이터프레임과 최종 누적 수익률을 되돌려준다."
   ]
  },
  {
   "cell_type": "code",
   "execution_count": 167,
   "metadata": {},
   "outputs": [],
   "source": [
    "def create_rtn(_df):\n",
    "    # 복사본 생성\n",
    "    result = _df.copy()\n",
    "    # 컬럼의 첫번째 이름을 변수에 저장\n",
    "    col = result.columns[0]\n",
    "    # 수익률 컬럼을 생성 1 대입\n",
    "    result['rtn'] = 1\n",
    "\n",
    "    # 수익률 생성\n",
    "    for idx in result.index:\n",
    "        # 매수\n",
    "        if (result.shift().loc[idx, 'trade'] == '') & (result.loc[idx, 'trade'] == 'buy'):\n",
    "            buy = result.loc[idx, col]\n",
    "            print(f\"매수일 : {idx}, 매수가 : {buy}\")\n",
    "        # 매도\n",
    "        elif (result.shift().loc[idx, 'trade'] == 'buy') & (result.loc[idx, 'trade'] == ''):\n",
    "            sell = result.loc[idx, col]\n",
    "            print(f\"매도일 : {idx}, 매도가 : {sell}\")\n",
    "\n",
    "            rtn = sell / buy\n",
    "            result.loc[idx, 'rtn'] = rtn\n",
    "            print(f\"수익률 : {rtn}\")\n",
    "    # 누적 수익률 계산\n",
    "    result['acc_rtn'] = result['rtn'].cumprod()\n",
    "    # 최종 누적 수익률 변수 저장\n",
    "    acc_rtn = result.iloc[-1, -1]\n",
    "    return result, acc_rtn"
   ]
  },
  {
   "cell_type": "code",
   "execution_count": 169,
   "metadata": {},
   "outputs": [
    {
     "name": "stdout",
     "output_type": "stream",
     "text": [
      "매수일 : 2010-01-22 00:00:00, 매수가 : 24.747818\n",
      "매도일 : 2010-03-01 00:00:00, 매도가 : 26.154476\n",
      "수익률 : 1.0568396777445188\n",
      "매수일 : 2010-08-24 00:00:00, 매수가 : 30.026524\n",
      "매도일 : 2010-09-08 00:00:00, 매도가 : 32.90366\n",
      "수익률 : 1.0958198158401553\n",
      "매수일 : 2011-03-16 00:00:00, 매수가 : 41.299767\n",
      "매도일 : 2011-07-01 00:00:00, 매도가 : 42.957966\n",
      "수익률 : 1.040150323366231\n",
      "매수일 : 2011-11-14 00:00:00, 매수가 : 47.463268\n",
      "매도일 : 2011-12-27 00:00:00, 매도가 : 50.876015\n",
      "수익률 : 1.0719029081604747\n",
      "매수일 : 2012-04-16 00:00:00, 매수가 : 72.601524\n",
      "매도일 : 2012-06-18 00:00:00, 매도가 : 73.308609\n",
      "수익률 : 1.0097392583659814\n",
      "매수일 : 2012-10-08 00:00:00, 매수가 : 80.207954\n",
      "매도일 : 2013-07-29 00:00:00, 매도가 : 57.243137\n",
      "수익률 : 0.7136840443530077\n",
      "매수일 : 2013-09-11 00:00:00, 매수가 : 60.184383\n",
      "매도일 : 2013-10-18 00:00:00, 매도가 : 65.48336\n",
      "수익률 : 1.0880457144505413\n",
      "매수일 : 2014-01-03 00:00:00, 매수가 : 70.019096\n",
      "매도일 : 2014-03-25 00:00:00, 매도가 : 70.960335\n",
      "수익률 : 1.0134426042861222\n",
      "매수일 : 2014-10-15 00:00:00, 매수가 : 89.842468\n",
      "매도일 : 2014-10-23 00:00:00, 매도가 : 96.557182\n",
      "수익률 : 1.0747387527243797\n",
      "매수일 : 2014-12-12 00:00:00, 매수가 : 101.508751\n",
      "매도일 : 2015-01-28 00:00:00, 매도가 : 106.670677\n",
      "수익률 : 1.0508520294964518\n",
      "매수일 : 2015-03-11 00:00:00, 매수가 : 113.52774\n",
      "매도일 : 2015-04-23 00:00:00, 매도가 : 120.4282\n",
      "수익률 : 1.0607821489267735\n",
      "매수일 : 2015-06-29 00:00:00, 매수가 : 116.137619\n",
      "매도일 : 2015-07-20 00:00:00, 매도가 : 123.169502\n",
      "수익률 : 1.0605478488412958\n",
      "매수일 : 2015-08-04 00:00:00, 매수가 : 106.914131\n",
      "매도일 : 2015-10-22 00:00:00, 매도가 : 108.203766\n",
      "수익률 : 1.0120623437513607\n",
      "매수일 : 2015-12-14 00:00:00, 매수가 : 105.825577\n"
     ]
    },
    {
     "name": "stderr",
     "output_type": "stream",
     "text": [
      "/var/folders/r7/wm80f9fd57g6h8jt36r8dgwh0000gn/T/ipykernel_79109/308262780.py:21: FutureWarning: Setting an item of incompatible dtype is deprecated and will raise an error in a future version of pandas. Value '1.0568396777445188' has dtype incompatible with int64, please explicitly cast to a compatible dtype first.\n",
      "  result.loc[idx, 'rtn'] = rtn\n"
     ]
    },
    {
     "name": "stdout",
     "output_type": "stream",
     "text": [
      "매도일 : 2016-03-01 00:00:00, 매도가 : 95.095795\n",
      "수익률 : 0.8986088022936081\n",
      "매수일 : 2016-04-27 00:00:00, 매수가 : 92.532272\n",
      "매도일 : 2016-05-24 00:00:00, 매도가 : 93.171783\n",
      "수익률 : 1.0069112212007503\n",
      "매수일 : 2016-06-20 00:00:00, 매수가 : 90.507019\n",
      "매도일 : 2016-07-18 00:00:00, 매도가 : 95.008583\n",
      "수익률 : 1.0497371811571874\n",
      "매수일 : 2016-09-09 00:00:00, 매수가 : 98.680893\n",
      "매도일 : 2016-09-14 00:00:00, 매도가 : 106.948166\n",
      "수익률 : 1.0837778494768993\n",
      "매수일 : 2016-11-01 00:00:00, 매수가 : 106.680237\n",
      "매도일 : 2016-12-13 00:00:00, 매도가 : 110.786522\n",
      "수익률 : 1.0384915249110291\n",
      "매수일 : 2017-06-09 00:00:00, 매수가 : 144.5\n",
      "매도일 : 2017-07-13 00:00:00, 매도가 : 143.32637\n",
      "수익률 : 0.9918779930795848\n",
      "매수일 : 2017-09-20 00:00:00, 매수가 : 151.971283\n",
      "매도일 : 2017-10-16 00:00:00, 매도가 : 155.681183\n",
      "수익률 : 1.0244118489149032\n",
      "매수일 : 2018-01-29 00:00:00, 매수가 : 164.136932\n",
      "매도일 : 2018-05-04 00:00:00, 매도가 : 180.378143\n",
      "수익률 : 1.0989491566712115\n",
      "매수일 : 2018-06-25 00:00:00, 매수가 : 179.438583\n",
      "매도일 : 2018-08-01 00:00:00, 매도가 : 198.47876\n",
      "수익률 : 1.106109715545402\n",
      "매수일 : 2018-11-02 00:00:00, 매수가 : 205.085831\n",
      "매도일 : 2019-01-30 00:00:00, 매도가 : 163.913071\n",
      "수익률 : 0.799241323502256\n",
      "매수일 : 2019-05-13 00:00:00, 매수가 : 185.720001\n"
     ]
    }
   ],
   "source": [
    "rtn_df, acc_rtn = create_rtn(trade_df)"
   ]
  },
  {
   "cell_type": "code",
   "execution_count": 170,
   "metadata": {},
   "outputs": [
    {
     "data": {
      "text/html": [
       "<div>\n",
       "<style scoped>\n",
       "    .dataframe tbody tr th:only-of-type {\n",
       "        vertical-align: middle;\n",
       "    }\n",
       "\n",
       "    .dataframe tbody tr th {\n",
       "        vertical-align: top;\n",
       "    }\n",
       "\n",
       "    .dataframe thead th {\n",
       "        text-align: right;\n",
       "    }\n",
       "</style>\n",
       "<table border=\"1\" class=\"dataframe\">\n",
       "  <thead>\n",
       "    <tr style=\"text-align: right;\">\n",
       "      <th></th>\n",
       "      <th>Adj Close</th>\n",
       "      <th>center</th>\n",
       "      <th>up</th>\n",
       "      <th>down</th>\n",
       "      <th>trade</th>\n",
       "      <th>rtn</th>\n",
       "      <th>acc_rtn</th>\n",
       "    </tr>\n",
       "    <tr>\n",
       "      <th>Date</th>\n",
       "      <th></th>\n",
       "      <th></th>\n",
       "      <th></th>\n",
       "      <th></th>\n",
       "      <th></th>\n",
       "      <th></th>\n",
       "      <th></th>\n",
       "    </tr>\n",
       "  </thead>\n",
       "  <tbody>\n",
       "    <tr>\n",
       "      <th>2010-01-04</th>\n",
       "      <td>26.782711</td>\n",
       "      <td>25.037723</td>\n",
       "      <td>27.046734</td>\n",
       "      <td>23.028713</td>\n",
       "      <td></td>\n",
       "      <td>1.0</td>\n",
       "      <td>1.000000</td>\n",
       "    </tr>\n",
       "    <tr>\n",
       "      <th>2010-01-05</th>\n",
       "      <td>26.829010</td>\n",
       "      <td>25.169503</td>\n",
       "      <td>27.288098</td>\n",
       "      <td>23.050908</td>\n",
       "      <td></td>\n",
       "      <td>1.0</td>\n",
       "      <td>1.000000</td>\n",
       "    </tr>\n",
       "    <tr>\n",
       "      <th>2010-01-06</th>\n",
       "      <td>26.402260</td>\n",
       "      <td>25.307290</td>\n",
       "      <td>27.366449</td>\n",
       "      <td>23.248130</td>\n",
       "      <td></td>\n",
       "      <td>1.0</td>\n",
       "      <td>1.000000</td>\n",
       "    </tr>\n",
       "    <tr>\n",
       "      <th>2010-01-07</th>\n",
       "      <td>26.353460</td>\n",
       "      <td>25.436879</td>\n",
       "      <td>27.410937</td>\n",
       "      <td>23.462821</td>\n",
       "      <td></td>\n",
       "      <td>1.0</td>\n",
       "      <td>1.000000</td>\n",
       "    </tr>\n",
       "    <tr>\n",
       "      <th>2010-01-08</th>\n",
       "      <td>26.528664</td>\n",
       "      <td>25.525609</td>\n",
       "      <td>27.529742</td>\n",
       "      <td>23.521475</td>\n",
       "      <td></td>\n",
       "      <td>1.0</td>\n",
       "      <td>1.000000</td>\n",
       "    </tr>\n",
       "    <tr>\n",
       "      <th>...</th>\n",
       "      <td>...</td>\n",
       "      <td>...</td>\n",
       "      <td>...</td>\n",
       "      <td>...</td>\n",
       "      <td>...</td>\n",
       "      <td>...</td>\n",
       "      <td>...</td>\n",
       "    </tr>\n",
       "    <tr>\n",
       "      <th>2019-06-18</th>\n",
       "      <td>198.449997</td>\n",
       "      <td>185.432500</td>\n",
       "      <td>201.032574</td>\n",
       "      <td>169.832427</td>\n",
       "      <td>buy</td>\n",
       "      <td>1.0</td>\n",
       "      <td>1.392329</td>\n",
       "    </tr>\n",
       "    <tr>\n",
       "      <th>2019-06-19</th>\n",
       "      <td>197.869995</td>\n",
       "      <td>185.996000</td>\n",
       "      <td>202.558154</td>\n",
       "      <td>169.433846</td>\n",
       "      <td>buy</td>\n",
       "      <td>1.0</td>\n",
       "      <td>1.392329</td>\n",
       "    </tr>\n",
       "    <tr>\n",
       "      <th>2019-06-20</th>\n",
       "      <td>199.460007</td>\n",
       "      <td>186.830000</td>\n",
       "      <td>204.361771</td>\n",
       "      <td>169.298229</td>\n",
       "      <td>buy</td>\n",
       "      <td>1.0</td>\n",
       "      <td>1.392329</td>\n",
       "    </tr>\n",
       "    <tr>\n",
       "      <th>2019-06-21</th>\n",
       "      <td>198.779999</td>\n",
       "      <td>187.786000</td>\n",
       "      <td>205.751400</td>\n",
       "      <td>169.820600</td>\n",
       "      <td>buy</td>\n",
       "      <td>1.0</td>\n",
       "      <td>1.392329</td>\n",
       "    </tr>\n",
       "    <tr>\n",
       "      <th>2019-06-24</th>\n",
       "      <td>199.169998</td>\n",
       "      <td>188.796000</td>\n",
       "      <td>206.944862</td>\n",
       "      <td>170.647138</td>\n",
       "      <td>buy</td>\n",
       "      <td>1.0</td>\n",
       "      <td>1.392329</td>\n",
       "    </tr>\n",
       "  </tbody>\n",
       "</table>\n",
       "<p>2384 rows × 7 columns</p>\n",
       "</div>"
      ],
      "text/plain": [
       "             Adj Close      center          up        down trade  rtn  \\\n",
       "Date                                                                    \n",
       "2010-01-04   26.782711   25.037723   27.046734   23.028713        1.0   \n",
       "2010-01-05   26.829010   25.169503   27.288098   23.050908        1.0   \n",
       "2010-01-06   26.402260   25.307290   27.366449   23.248130        1.0   \n",
       "2010-01-07   26.353460   25.436879   27.410937   23.462821        1.0   \n",
       "2010-01-08   26.528664   25.525609   27.529742   23.521475        1.0   \n",
       "...                ...         ...         ...         ...   ...  ...   \n",
       "2019-06-18  198.449997  185.432500  201.032574  169.832427   buy  1.0   \n",
       "2019-06-19  197.869995  185.996000  202.558154  169.433846   buy  1.0   \n",
       "2019-06-20  199.460007  186.830000  204.361771  169.298229   buy  1.0   \n",
       "2019-06-21  198.779999  187.786000  205.751400  169.820600   buy  1.0   \n",
       "2019-06-24  199.169998  188.796000  206.944862  170.647138   buy  1.0   \n",
       "\n",
       "             acc_rtn  \n",
       "Date                  \n",
       "2010-01-04  1.000000  \n",
       "2010-01-05  1.000000  \n",
       "2010-01-06  1.000000  \n",
       "2010-01-07  1.000000  \n",
       "2010-01-08  1.000000  \n",
       "...              ...  \n",
       "2019-06-18  1.392329  \n",
       "2019-06-19  1.392329  \n",
       "2019-06-20  1.392329  \n",
       "2019-06-21  1.392329  \n",
       "2019-06-24  1.392329  \n",
       "\n",
       "[2384 rows x 7 columns]"
      ]
     },
     "execution_count": 170,
     "metadata": {},
     "output_type": "execute_result"
    }
   ],
   "source": [
    "rtn_df"
   ]
  },
  {
   "cell_type": "code",
   "execution_count": 171,
   "metadata": {},
   "outputs": [
    {
     "data": {
      "text/plain": [
       "np.float64(1.3923287814461949)"
      ]
     },
     "execution_count": 171,
     "metadata": {},
     "output_type": "execute_result"
    }
   ],
   "source": [
    "acc_rtn"
   ]
  }
 ],
 "metadata": {
  "kernelspec": {
   "display_name": "Python 3",
   "language": "python",
   "name": "python3"
  },
  "language_info": {
   "codemirror_mode": {
    "name": "ipython",
    "version": 3
   },
   "file_extension": ".py",
   "mimetype": "text/x-python",
   "name": "python",
   "nbconvert_exporter": "python",
   "pygments_lexer": "ipython3",
   "version": "3.11.0"
  }
 },
 "nbformat": 4,
 "nbformat_minor": 2
}
