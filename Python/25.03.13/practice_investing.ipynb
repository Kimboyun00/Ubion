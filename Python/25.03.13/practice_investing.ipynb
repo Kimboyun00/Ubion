{
 "cells": [
  {
   "cell_type": "code",
   "execution_count": 25,
   "metadata": {},
   "outputs": [],
   "source": [
    "import pandas as pd\n",
    "import requests\n",
    "from bs4 import BeautifulSoup as bs\n",
    "from selenium import webdriver\n",
    "from selenium.webdriver.common.by import By\n",
    "from selenium.webdriver.common.keys import Keys"
   ]
  },
  {
   "cell_type": "code",
   "execution_count": 26,
   "metadata": {},
   "outputs": [],
   "source": [
    "driver = webdriver.Chrome()"
   ]
  },
  {
   "cell_type": "code",
   "execution_count": 27,
   "metadata": {},
   "outputs": [],
   "source": [
    "base_url = \"https://kr.investing.com\"\n",
    "sub_url = \"/economic-calendar\""
   ]
  },
  {
   "cell_type": "code",
   "execution_count": 28,
   "metadata": {},
   "outputs": [],
   "source": [
    "driver.get(base_url+sub_url)"
   ]
  },
  {
   "cell_type": "code",
   "execution_count": 29,
   "metadata": {},
   "outputs": [
    {
     "data": {
      "text/plain": [
       "1"
      ]
     },
     "execution_count": 29,
     "metadata": {},
     "output_type": "execute_result"
    }
   ],
   "source": [
    "# class_name이 'popupCloseIcon' 인 태그를 선택\n",
    "len(driver.find_elements(By.CLASS_NAME, 'popupCloseIcon'))"
   ]
  },
  {
   "cell_type": "code",
   "execution_count": 30,
   "metadata": {},
   "outputs": [],
   "source": [
    "driver.find_element(By.CLASS_NAME, 'popupCloseIcon').click()"
   ]
  },
  {
   "cell_type": "code",
   "execution_count": 31,
   "metadata": {},
   "outputs": [],
   "source": [
    "soup = bs(driver.page_source, 'html.parser')"
   ]
  },
  {
   "cell_type": "code",
   "execution_count": 32,
   "metadata": {},
   "outputs": [],
   "source": [
    "table_data = soup.find(\n",
    "    'table',\n",
    "    attrs = {\n",
    "        'id' : 'economicCalendarData'\n",
    "    }\n",
    ")"
   ]
  },
  {
   "cell_type": "code",
   "execution_count": 33,
   "metadata": {},
   "outputs": [],
   "source": [
    "td_list = table_data.find_all(\n",
    "    'td',\n",
    "    attrs= {'class' : 'left event'}\n",
    ")"
   ]
  },
  {
   "cell_type": "code",
   "execution_count": 34,
   "metadata": {},
   "outputs": [
    {
     "data": {
      "text/plain": [
       "['/economic-calendar/cleveland-cpi-887',\n",
       " '/economic-calendar/thomson-reuters-ipsos-pcsi-1879',\n",
       " '/economic-calendar/thomson-reuters-ipsos-pcsi-2068',\n",
       " '/economic-calendar/brazil-thomson-reuters-ipsos-pcsi-1882',\n",
       " \"/economic-calendar/ecb's-lane-speaks-1971\",\n",
       " '/economic-calendar/10-year-note-auction-571',\n",
       " '/economic-calendar/brazilian-foreign-exchange-flows-764',\n",
       " '/economic-calendar/federal-budget-balance-369',\n",
       " '/economic-calendar/ext.-migration---visitors-1449',\n",
       " '/economic-calendar/permanent-long-term-migration-1500',\n",
       " '/economic-calendar/visitor-arrivals-304',\n",
       " '/economic-calendar/foreign-bonds-buying-987',\n",
       " '/economic-calendar/foreign-investments-in-japanese-stocks-1451',\n",
       " '/economic-calendar/mi-inflation-expectations-365',\n",
       " '/economic-calendar/building-approvals-22',\n",
       " '/economic-calendar/private-house-approvals-1504',\n",
       " '/economic-calendar/rba-assistant-governor-jones-speaks-2138',\n",
       " '/economic-calendar/thai-consumer-confidence-803',\n",
       " '/economic-calendar/swiss-ppi-960',\n",
       " '/economic-calendar/swiss-ppi-240',\n",
       " '/economic-calendar/industrial-production-2160',\n",
       " '/economic-calendar/ppi-2161',\n",
       " '/economic-calendar/iea-monthly-report-1674',\n",
       " '/economic-calendar/italian-quarterly-unemployment-rate-183',\n",
       " '/economic-calendar/south-african-gold-production-1471',\n",
       " '/economic-calendar/south-african-mining-production-1496',\n",
       " \"/economic-calendar/ecb's-de-guindos-speaks-1790\",\n",
       " '/economic-calendar/industrial-production-931',\n",
       " '/economic-calendar/industrial-production-160',\n",
       " '/economic-calendar/italian-15-year-btp-auction-700',\n",
       " '/economic-calendar/italian-3-year-btp-auction-698',\n",
       " '/economic-calendar/italian-30-year-btp-auction-584',\n",
       " '/economic-calendar/thomson-reuters-ipsos-pcsi-1936',\n",
       " '/economic-calendar/italy-thomson-reuters-ipsos-pcsi-1925',\n",
       " '/economic-calendar/germany-thomson-reuters-ipsos-pcsi-1894',\n",
       " '/economic-calendar/france-thomson-reuters-ipsos-pcsi-1929',\n",
       " '/economic-calendar/thomson-reuters-ipsos-pcsi-2066',\n",
       " '/economic-calendar/south-african-manufacturing-production-2000',\n",
       " '/economic-calendar/south-african-manufacturing-production-1306',\n",
       " '/economic-calendar/thomson-reuters-ipsos-pcsi-2067',\n",
       " '/economic-calendar/brazilian-bank-lending-761',\n",
       " '/economic-calendar/brazilian-service-sector-growth-1881',\n",
       " '/economic-calendar/brazilian-service-sector-growth-1880',\n",
       " '/economic-calendar/continuing-jobless-claims-522',\n",
       " '/economic-calendar/core-ppi-62',\n",
       " '/economic-calendar/core-ppi-735',\n",
       " '/economic-calendar/initial-jobless-claims-294',\n",
       " '/economic-calendar/jobless-claims-4-week-avg.-1041',\n",
       " '/economic-calendar/ppi-238',\n",
       " '/economic-calendar/ppi-734',\n",
       " '/economic-calendar/ppi-ex.-food-energy-trade-2048',\n",
       " '/economic-calendar/ppi-ex.-food-energy-trade-2049',\n",
       " '/economic-calendar/building-permits-24',\n",
       " '/economic-calendar/natural-gas-storage-386']"
      ]
     },
     "execution_count": 34,
     "metadata": {},
     "output_type": "execute_result"
    }
   ],
   "source": [
    "link_list = []\n",
    "\n",
    "for td_data in td_list:\n",
    "    data = td_data.find('a')['href']\n",
    "    link_list.append(data)\n",
    "link_list"
   ]
  },
  {
   "cell_type": "code",
   "execution_count": 35,
   "metadata": {},
   "outputs": [],
   "source": [
    "base_url = \"https://kr.investing.com/\""
   ]
  },
  {
   "cell_type": "code",
   "execution_count": 43,
   "metadata": {},
   "outputs": [],
   "source": [
    "driver.get(base_url+link_list[0])"
   ]
  },
  {
   "cell_type": "code",
   "execution_count": 44,
   "metadata": {},
   "outputs": [],
   "source": [
    "# driver의 html 파싱\n",
    "soup2 = bs(driver.page_source, 'html.parser')"
   ]
  },
  {
   "cell_type": "code",
   "execution_count": 45,
   "metadata": {},
   "outputs": [],
   "source": [
    "section_data = soup2.find(\n",
    "    'section',\n",
    "    attrs={\n",
    "        'id' : 'leftColumn'\n",
    "    }\n",
    ")"
   ]
  },
  {
   "cell_type": "code",
   "execution_count": 46,
   "metadata": {},
   "outputs": [],
   "source": [
    "file_name = section_data.h1.get_text().strip()"
   ]
  },
  {
   "cell_type": "code",
   "execution_count": 48,
   "metadata": {},
   "outputs": [],
   "source": [
    "# driver에서 id가 eventTabDiv_history_0 인 태그를 선택\n",
    "element = driver.find_element(By.ID, 'eventTabDiv_history_0')\n",
    "# div 태그 선택\n",
    "element.find_element(By.CLASS_NAME, 'showMoreReplies').click()"
   ]
  },
  {
   "cell_type": "code",
   "execution_count": 49,
   "metadata": {},
   "outputs": [],
   "source": [
    "# html문서를 파싱\n",
    "soup3 = bs(driver.page_source, 'html.parser')"
   ]
  },
  {
   "cell_type": "code",
   "execution_count": 50,
   "metadata": {},
   "outputs": [],
   "source": [
    "# div 태그중 id가 'eventTabDiv_history_0' 인 태그를 추출\n",
    "div_data = soup3.find(\n",
    "    'div',\n",
    "    attrs={\n",
    "        'id' : 'eventTabDiv_history_0'\n",
    "    }\n",
    ")"
   ]
  },
  {
   "cell_type": "code",
   "execution_count": 52,
   "metadata": {},
   "outputs": [
    {
     "name": "stderr",
     "output_type": "stream",
     "text": [
      "/var/folders/r7/wm80f9fd57g6h8jt36r8dgwh0000gn/T/ipykernel_63228/1656383612.py:2: FutureWarning: Passing literal html to 'read_html' is deprecated and will be removed in a future version. To read from a literal string, wrap it in a 'StringIO' object.\n",
      "  df = pd.read_html(\n"
     ]
    }
   ],
   "source": [
    "# div_data를 문자열로 변경 -> pandas에 내장된 read_html함수를 호출\n",
    "df = pd.read_html(\n",
    "    str(div_data)\n",
    ")[0]"
   ]
  },
  {
   "cell_type": "code",
   "execution_count": 53,
   "metadata": {},
   "outputs": [],
   "source": [
    "# 데이터프레임을 파일로 저장\n",
    "df.to_csv(f\"{file_name[:10]}.csv\", index=False)"
   ]
  }
 ],
 "metadata": {
  "kernelspec": {
   "display_name": "Python 3",
   "language": "python",
   "name": "python3"
  },
  "language_info": {
   "codemirror_mode": {
    "name": "ipython",
    "version": 3
   },
   "file_extension": ".py",
   "mimetype": "text/x-python",
   "name": "python",
   "nbconvert_exporter": "python",
   "pygments_lexer": "ipython3",
   "version": "3.11.0"
  }
 },
 "nbformat": 4,
 "nbformat_minor": 2
}
