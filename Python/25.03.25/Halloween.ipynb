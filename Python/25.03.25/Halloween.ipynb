{
 "cells": [
  {
   "cell_type": "markdown",
   "metadata": {},
   "source": [
    "### 할로윈 투자 전략\n",
    "- 11월 첫날에 구매 -> 4월 마지막말에 판매\n",
    "- 11월 첫날에 시작가격을 구매\n",
    "- 4월 마지막 날에 종가로 판매\n",
    "- 판매한 금액 / 구매한 금액\n",
    "- 누적 수익률"
   ]
  },
  {
   "cell_type": "code",
   "execution_count": 25,
   "metadata": {},
   "outputs": [],
   "source": [
    "import pandas as pd\n",
    "from datetime import datetime\n",
    "from dateutil.relativedelta import relativedelta"
   ]
  },
  {
   "cell_type": "code",
   "execution_count": 70,
   "metadata": {},
   "outputs": [],
   "source": [
    "# AMZN 데이터 로드\n",
    "df = pd.read_csv(\"../../csv/AMZN.csv\", index_col='Date')"
   ]
  },
  {
   "cell_type": "code",
   "execution_count": 27,
   "metadata": {},
   "outputs": [
    {
     "data": {
      "text/html": [
       "<div>\n",
       "<style scoped>\n",
       "    .dataframe tbody tr th:only-of-type {\n",
       "        vertical-align: middle;\n",
       "    }\n",
       "\n",
       "    .dataframe tbody tr th {\n",
       "        vertical-align: top;\n",
       "    }\n",
       "\n",
       "    .dataframe thead th {\n",
       "        text-align: right;\n",
       "    }\n",
       "</style>\n",
       "<table border=\"1\" class=\"dataframe\">\n",
       "  <thead>\n",
       "    <tr style=\"text-align: right;\">\n",
       "      <th></th>\n",
       "      <th>Open</th>\n",
       "      <th>High</th>\n",
       "      <th>Low</th>\n",
       "      <th>Close</th>\n",
       "      <th>Adj Close</th>\n",
       "      <th>Volume</th>\n",
       "    </tr>\n",
       "    <tr>\n",
       "      <th>Date</th>\n",
       "      <th></th>\n",
       "      <th></th>\n",
       "      <th></th>\n",
       "      <th></th>\n",
       "      <th></th>\n",
       "      <th></th>\n",
       "    </tr>\n",
       "  </thead>\n",
       "  <tbody>\n",
       "    <tr>\n",
       "      <th>1997-05-15</th>\n",
       "      <td>2.437500</td>\n",
       "      <td>2.500000</td>\n",
       "      <td>1.927083</td>\n",
       "      <td>1.958333</td>\n",
       "      <td>1.958333</td>\n",
       "      <td>72156000</td>\n",
       "    </tr>\n",
       "    <tr>\n",
       "      <th>1997-05-16</th>\n",
       "      <td>1.968750</td>\n",
       "      <td>1.979167</td>\n",
       "      <td>1.708333</td>\n",
       "      <td>1.729167</td>\n",
       "      <td>1.729167</td>\n",
       "      <td>14700000</td>\n",
       "    </tr>\n",
       "    <tr>\n",
       "      <th>1997-05-19</th>\n",
       "      <td>1.760417</td>\n",
       "      <td>1.770833</td>\n",
       "      <td>1.625000</td>\n",
       "      <td>1.708333</td>\n",
       "      <td>1.708333</td>\n",
       "      <td>6106800</td>\n",
       "    </tr>\n",
       "    <tr>\n",
       "      <th>1997-05-20</th>\n",
       "      <td>1.729167</td>\n",
       "      <td>1.750000</td>\n",
       "      <td>1.635417</td>\n",
       "      <td>1.635417</td>\n",
       "      <td>1.635417</td>\n",
       "      <td>5467200</td>\n",
       "    </tr>\n",
       "    <tr>\n",
       "      <th>1997-05-21</th>\n",
       "      <td>1.635417</td>\n",
       "      <td>1.645833</td>\n",
       "      <td>1.375000</td>\n",
       "      <td>1.427083</td>\n",
       "      <td>1.427083</td>\n",
       "      <td>18853200</td>\n",
       "    </tr>\n",
       "  </tbody>\n",
       "</table>\n",
       "</div>"
      ],
      "text/plain": [
       "                Open      High       Low     Close  Adj Close    Volume\n",
       "Date                                                                   \n",
       "1997-05-15  2.437500  2.500000  1.927083  1.958333   1.958333  72156000\n",
       "1997-05-16  1.968750  1.979167  1.708333  1.729167   1.729167  14700000\n",
       "1997-05-19  1.760417  1.770833  1.625000  1.708333   1.708333   6106800\n",
       "1997-05-20  1.729167  1.750000  1.635417  1.635417   1.635417   5467200\n",
       "1997-05-21  1.635417  1.645833  1.375000  1.427083   1.427083  18853200"
      ]
     },
     "execution_count": 27,
     "metadata": {},
     "output_type": "execute_result"
    }
   ],
   "source": [
    "df.head()"
   ]
  },
  {
   "cell_type": "code",
   "execution_count": 28,
   "metadata": {},
   "outputs": [],
   "source": [
    "# index를 시계열데이터로 변경\n",
    "df.index = pd.to_datetime(df.index)"
   ]
  },
  {
   "cell_type": "code",
   "execution_count": 29,
   "metadata": {},
   "outputs": [
    {
     "data": {
      "text/plain": [
       "np.float64(35.8125)"
      ]
     },
     "execution_count": 29,
     "metadata": {},
     "output_type": "execute_result"
    }
   ],
   "source": [
    "# 2000년 11월 데이터를 출력하려면?\n",
    "df.loc['2000-11'].iloc[0, 0]"
   ]
  },
  {
   "cell_type": "code",
   "execution_count": 30,
   "metadata": {},
   "outputs": [
    {
     "data": {
      "text/plain": [
       "np.float64(15.78)"
      ]
     },
     "execution_count": 30,
     "metadata": {},
     "output_type": "execute_result"
    }
   ],
   "source": [
    "# 2001년 4월의 마지막날의 종가\n",
    "df.loc['2001-04'].iloc[-1]['Close']"
   ]
  },
  {
   "cell_type": "code",
   "execution_count": 33,
   "metadata": {},
   "outputs": [],
   "source": [
    "rtn_list = []\n",
    "for i in range(2000, 2011, 1):\n",
    "    # 구매를 하는 월\n",
    "    buy_mon = f\"{i}-11\"\n",
    "    sell_mon = f\"{i+1}-04\"\n",
    "    # 구매가\n",
    "    buy = df.loc[buy_mon].iloc[0, 0]\n",
    "    # 판매가\n",
    "    sell = df.loc[sell_mon].iloc[-1]['Close']\n",
    "    rtn_list.append(sell / buy)"
   ]
  },
  {
   "cell_type": "code",
   "execution_count": 36,
   "metadata": {},
   "outputs": [
    {
     "data": {
      "text/plain": [
       "np.float64(2.9115898553801114)"
      ]
     },
     "execution_count": 36,
     "metadata": {},
     "output_type": "execute_result"
    }
   ],
   "source": [
    "acc_rtn = 1\n",
    "for i in rtn_list:\n",
    "    acc_rtn *= i\n",
    "acc_rtn"
   ]
  },
  {
   "cell_type": "code",
   "execution_count": 53,
   "metadata": {},
   "outputs": [
    {
     "data": {
      "text/plain": [
       "datetime.datetime(2000, 11, 1, 0, 0)"
      ]
     },
     "execution_count": 53,
     "metadata": {},
     "output_type": "execute_result"
    }
   ],
   "source": [
    "# 시계열데이터에서 시간을 합\n",
    "start = datetime(year = 2000, month = 11, day = 1)\n",
    "start"
   ]
  },
  {
   "cell_type": "code",
   "execution_count": 40,
   "metadata": {},
   "outputs": [
    {
     "data": {
      "text/plain": [
       "datetime.datetime(2001, 4, 1, 0, 0)"
      ]
     },
     "execution_count": 40,
     "metadata": {},
     "output_type": "execute_result"
    }
   ],
   "source": [
    "# 5개월 뒤\n",
    "start + relativedelta(months = 5)"
   ]
  },
  {
   "cell_type": "code",
   "execution_count": 42,
   "metadata": {},
   "outputs": [],
   "source": [
    "# 시계열데이터를 문자열로 변경하는 함수? strftime('%Y-%m')\n",
    "halloween_df = pd.DataFrame()\n",
    "\n",
    "for i in range(2000, 2011):\n",
    "    start = datetime(year = i, month = 11, day = 1)\n",
    "    end = start + relativedelta(months = 5)\n",
    "    # 시계열을 문자열로\n",
    "    start = start.strftime('%Y-%m')\n",
    "    end = end.strftime('%Y-%m')\n",
    "    # start의 첫번쨰 index\n",
    "    start_df = df.loc[start].head(1)\n",
    "    end_df = df.loc[end].tail(1)\n",
    "    halloween_df = pd.concat([halloween_df, start_df, end_df])"
   ]
  },
  {
   "cell_type": "code",
   "execution_count": 44,
   "metadata": {},
   "outputs": [],
   "source": [
    "halloween_df = halloween_df[['Open', 'Close']]"
   ]
  },
  {
   "cell_type": "code",
   "execution_count": 48,
   "metadata": {},
   "outputs": [
    {
     "name": "stderr",
     "output_type": "stream",
     "text": [
      "/var/folders/r7/wm80f9fd57g6h8jt36r8dgwh0000gn/T/ipykernel_5216/2143613864.py:2: SettingWithCopyWarning: \n",
      "A value is trying to be set on a copy of a slice from a DataFrame.\n",
      "Try using .loc[row_indexer,col_indexer] = value instead\n",
      "\n",
      "See the caveats in the documentation: https://pandas.pydata.org/pandas-docs/stable/user_guide/indexing.html#returning-a-view-versus-a-copy\n",
      "  halloween_df['rtn'] = 1\n",
      "/var/folders/r7/wm80f9fd57g6h8jt36r8dgwh0000gn/T/ipykernel_5216/2143613864.py:12: FutureWarning: Setting an item of incompatible dtype is deprecated and will raise an error in a future version of pandas. Value '0.4406282722513089' has dtype incompatible with int64, please explicitly cast to a compatible dtype first.\n",
      "  halloween_df.iloc[i, 2] = rtn\n"
     ]
    }
   ],
   "source": [
    "# 수익률 계산\n",
    "halloween_df['rtn'] = 1\n",
    "\n",
    "# 반복문을 이용하여 수익율 계산\n",
    "# 인덱스의 위치가 홀수인 경우에만 수익률이 계산\n",
    "for i in range(1, len(halloween_df), 2):\n",
    "    # print(i)\n",
    "    # 구매한 가격\n",
    "    buy = halloween_df.iloc[i-1]['Open']\n",
    "    sell = halloween_df.iloc[i]['Close']\n",
    "    rtn = sell / buy\n",
    "    halloween_df.iloc[i, 2] = rtn"
   ]
  },
  {
   "cell_type": "code",
   "execution_count": 50,
   "metadata": {},
   "outputs": [
    {
     "name": "stderr",
     "output_type": "stream",
     "text": [
      "/var/folders/r7/wm80f9fd57g6h8jt36r8dgwh0000gn/T/ipykernel_5216/1393197676.py:1: SettingWithCopyWarning: \n",
      "A value is trying to be set on a copy of a slice from a DataFrame.\n",
      "Try using .loc[row_indexer,col_indexer] = value instead\n",
      "\n",
      "See the caveats in the documentation: https://pandas.pydata.org/pandas-docs/stable/user_guide/indexing.html#returning-a-view-versus-a-copy\n",
      "  halloween_df['acc_rtn'] = halloween_df['rtn'].cumprod()\n"
     ]
    }
   ],
   "source": [
    "halloween_df['acc_rtn'] = halloween_df['rtn'].cumprod()"
   ]
  },
  {
   "cell_type": "code",
   "execution_count": 51,
   "metadata": {},
   "outputs": [
    {
     "data": {
      "text/html": [
       "<div>\n",
       "<style scoped>\n",
       "    .dataframe tbody tr th:only-of-type {\n",
       "        vertical-align: middle;\n",
       "    }\n",
       "\n",
       "    .dataframe tbody tr th {\n",
       "        vertical-align: top;\n",
       "    }\n",
       "\n",
       "    .dataframe thead th {\n",
       "        text-align: right;\n",
       "    }\n",
       "</style>\n",
       "<table border=\"1\" class=\"dataframe\">\n",
       "  <thead>\n",
       "    <tr style=\"text-align: right;\">\n",
       "      <th></th>\n",
       "      <th>Open</th>\n",
       "      <th>Close</th>\n",
       "      <th>rtn</th>\n",
       "      <th>acc_rtn</th>\n",
       "    </tr>\n",
       "    <tr>\n",
       "      <th>Date</th>\n",
       "      <th></th>\n",
       "      <th></th>\n",
       "      <th></th>\n",
       "      <th></th>\n",
       "    </tr>\n",
       "  </thead>\n",
       "  <tbody>\n",
       "    <tr>\n",
       "      <th>2011-04-29</th>\n",
       "      <td>194.380005</td>\n",
       "      <td>195.809998</td>\n",
       "      <td>1.190696</td>\n",
       "      <td>2.91159</td>\n",
       "    </tr>\n",
       "  </tbody>\n",
       "</table>\n",
       "</div>"
      ],
      "text/plain": [
       "                  Open       Close       rtn  acc_rtn\n",
       "Date                                                 \n",
       "2011-04-29  194.380005  195.809998  1.190696  2.91159"
      ]
     },
     "execution_count": 51,
     "metadata": {},
     "output_type": "execute_result"
    }
   ],
   "source": [
    "halloween_df.tail(1)"
   ]
  },
  {
   "cell_type": "markdown",
   "metadata": {},
   "source": [
    "### 할로윈 투자전략 함수화\n",
    "- 매개변수 4개\n",
    "    - 데이터(_df)\n",
    "    - 시작년도 (_start = 2010)\n",
    "    - 종료년도 (_end = datetime.now().year)\n",
    "    - 월 (_mon = 11)\n",
    "- 복사본 생성\n",
    "- 컬럼에 Date가 존재한다면 Date를 인덱스로 변환\n",
    "- 인덱스를 시계열 데이터로 변경\n",
    "- 반복문을 이용하여 시작년도부터 종료년도까지 반복\n",
    "    - 시작년도의 월을 포함한 시계열 데이터 생성 (buy_mon)\n",
    "    - 위에서 만들어진 시계열데이터에서 5개월 뒤 라는 시계열 데이터 생성 (sell_mon)\n",
    "    - buy_mon, sell_mon 시계열데이터에서 년-월의 포맷으로 문자열로 변경\n",
    "    - buy_mon으로 인덱스를 필터에서 첫번째 인덱스를 추출\n",
    "    - sell_mon으로 인덱스를 필터해서 마지막 인덱스를 추출\n",
    "    - 나온 결과를 빈 데이터프레임에 단순 행 결합\n",
    "- 수익률 계산\n",
    "- 누적 수익률 계산\n",
    "- 만들어진 데이터프레임과 총 누적수익률을 되돌려준다."
   ]
  },
  {
   "cell_type": "code",
   "execution_count": 98,
   "metadata": {},
   "outputs": [],
   "source": [
    "def halloween(\n",
    "        _df,\n",
    "        _start = 2010,\n",
    "        _end = datetime.now().year,\n",
    "        _mon = 11\n",
    "):\n",
    "    df = _df.copy()\n",
    "\n",
    "    if 'Date' in df.columns:\n",
    "        df.set_index('Date', inplace=True)\n",
    "    # 인덱스를 시계열로 변경\n",
    "    df.index = pd.to_datetime(df.index, utc=True)\n",
    "    # 비어있는 데이터프레임을 생성\n",
    "    result = pd.DataFrame()\n",
    "\n",
    "    # 반복문을 이용해서 _start, _end까지 반복실행하는 반복문\n",
    "    for i in range(_start, _end):\n",
    "        buy_mon = datetime(year = i, month = _mon, day = 1)\n",
    "        sell_mon = buy_mon + relativedelta(months = 5)\n",
    "\n",
    "        buy_mon = buy_mon.strftime('%Y-%m')\n",
    "        sell_mon = sell_mon.strftime('%Y-%m')\n",
    "        try:\n",
    "            buy = df.loc[buy_mon].head(1)\n",
    "            sell = df.loc[sell_mon].tail(1)\n",
    "            result = pd.concat([result, buy, sell] , axis=0)\n",
    "        except:\n",
    "            break\n",
    "    # 수익률 계산\n",
    "    result['rtn'] = 1\n",
    "    for idx in range(1, len(result), 2):\n",
    "        rtn = result.iloc[idx]['Close'] / result.iloc[idx-1]['Open']\n",
    "        result.iloc[idx, -1] = rtn\n",
    "    # 누적수익률 계산\n",
    "    result['acc_rtn'] = result['rtn'].cumprod()\n",
    "    # 최종 누적수익을 변수에 저장\n",
    "    acc_rtn = result.iloc[-1, -1]\n",
    "    return result, acc_rtn\n",
    "\n"
   ]
  },
  {
   "cell_type": "code",
   "execution_count": 115,
   "metadata": {},
   "outputs": [],
   "source": [
    "df = pd.read_csv(\"../../csv/MSFT.csv\", index_col='Date')"
   ]
  },
  {
   "cell_type": "code",
   "execution_count": 117,
   "metadata": {},
   "outputs": [
    {
     "name": "stderr",
     "output_type": "stream",
     "text": [
      "/var/folders/r7/wm80f9fd57g6h8jt36r8dgwh0000gn/T/ipykernel_5216/1199193655.py:33: FutureWarning: Setting an item of incompatible dtype is deprecated and will raise an error in a future version of pandas. Value '0.9091229274083455' has dtype incompatible with int64, please explicitly cast to a compatible dtype first.\n",
      "  result.iloc[idx, -1] = rtn\n"
     ]
    },
    {
     "data": {
      "text/plain": [
       "(                                 Open        High         Low       Close  \\\n",
       " Date                                                                        \n",
       " 2010-02-01 00:00:00+00:00   28.389999   28.480000   27.920000   28.410000   \n",
       " 2010-07-30 00:00:00+00:00   25.750000   25.840000   25.350000   25.809999   \n",
       " 2011-02-01 00:00:00+00:00   27.799999   28.059999   27.610001   27.990000   \n",
       " 2011-07-29 00:00:00+00:00   27.520000   27.709999   27.260000   27.400000   \n",
       " 2012-02-01 00:00:00+00:00   29.790001   30.049999   29.760000   29.889999   \n",
       " 2012-07-31 00:00:00+00:00   29.480000   29.709999   29.330000   29.469999   \n",
       " 2013-02-01 00:00:00+00:00   27.670000   28.049999   27.549999   27.930000   \n",
       " 2013-07-31 00:00:00+00:00   31.969999   32.049999   31.709999   31.840000   \n",
       " 2014-02-03 00:00:00+00:00   37.740002   37.990002   36.430000   36.480000   \n",
       " 2014-07-31 00:00:00+00:00   43.380001   43.689999   43.080002   43.160000   \n",
       " 2015-02-02 00:00:00+00:00   40.590000   41.369999   40.230000   41.279999   \n",
       " 2015-07-31 00:00:00+00:00   47.290001   47.369999   46.500000   46.700001   \n",
       " 2016-02-01 00:00:00+00:00   54.880001   55.090000   54.500000   54.709999   \n",
       " 2016-07-29 00:00:00+00:00   56.259998   56.759998   56.049999   56.680000   \n",
       " 2017-02-01 00:00:00+00:00   64.360001   64.620003   63.470001   63.580002   \n",
       " 2017-07-31 00:00:00+00:00   73.300003   73.440002   72.410004   72.699997   \n",
       " 2018-02-01 00:00:00+00:00   94.790001   96.070000   93.580002   94.260002   \n",
       " 2018-07-31 00:00:00+00:00  106.489998  106.720001  105.379997  106.080002   \n",
       " \n",
       "                             Adj Close     Volume       rtn   acc_rtn  \n",
       " Date                                                                  \n",
       " 2010-02-01 00:00:00+00:00   22.512297   85931100  1.000000  1.000000  \n",
       " 2010-07-30 00:00:00+00:00   20.640396   83534800  0.909123  0.909123  \n",
       " 2011-02-01 00:00:00+00:00   22.641428   62810700  1.000000  0.909123  \n",
       " 2011-07-29 00:00:00+00:00   22.441309  104394800  0.985612  0.896042  \n",
       " 2012-02-01 00:00:00+00:00   24.820702   67409900  1.000000  0.896042  \n",
       " 2012-07-31 00:00:00+00:00   24.794672   37620900  0.989258  0.886417  \n",
       " 2013-02-01 00:00:00+00:00   23.849043   55565900  1.000000  0.886417  \n",
       " 2013-07-31 00:00:00+00:00   27.605057   43898400  1.150705  1.020004  \n",
       " 2014-02-03 00:00:00+00:00   32.092327   64063100  1.000000  1.020004  \n",
       " 2014-07-31 00:00:00+00:00   38.523479   31537500  1.143614  1.166491  \n",
       " 2015-02-02 00:00:00+00:00   37.309399   50352500  1.000000  1.166491  \n",
       " 2015-07-31 00:00:00+00:00   42.784706   31201500  1.150530  1.342083  \n",
       " 2016-02-01 00:00:00+00:00   50.793755   44208500  1.000000  1.342083  \n",
       " 2016-07-29 00:00:00+00:00   53.371273   30558700  1.032799  1.386101  \n",
       " 2017-02-01 00:00:00+00:00   60.648590   39671500  1.000000  1.386101  \n",
       " 2017-07-31 00:00:00+00:00   70.168427   23600100  1.129584  1.565717  \n",
       " 2018-02-01 00:00:00+00:00   91.921715   47227900  1.000000  1.565717  \n",
       " 2018-07-31 00:00:00+00:00  104.384949   27655200  1.119105  1.752203  ,\n",
       " np.float64(1.7522026188552162))"
      ]
     },
     "execution_count": 117,
     "metadata": {},
     "output_type": "execute_result"
    }
   ],
   "source": [
    "halloween(df, _mon=2)"
   ]
  },
  {
   "cell_type": "code",
   "execution_count": 139,
   "metadata": {},
   "outputs": [
    {
     "name": "stdout",
     "output_type": "stream",
     "text": [
      "최대 수익률을 얻은 월: 10월\n",
      "\n",
      "10월의 최대 수익률: 2.4650879004085304\n",
      "\n"
     ]
    },
    {
     "name": "stderr",
     "output_type": "stream",
     "text": [
      "/var/folders/r7/wm80f9fd57g6h8jt36r8dgwh0000gn/T/ipykernel_5216/1199193655.py:33: FutureWarning: Setting an item of incompatible dtype is deprecated and will raise an error in a future version of pandas. Value '0.7514696031525278' has dtype incompatible with int64, please explicitly cast to a compatible dtype first.\n",
      "  result.iloc[idx, -1] = rtn\n",
      "/var/folders/r7/wm80f9fd57g6h8jt36r8dgwh0000gn/T/ipykernel_5216/1199193655.py:33: FutureWarning: Setting an item of incompatible dtype is deprecated and will raise an error in a future version of pandas. Value '0.9091229274083455' has dtype incompatible with int64, please explicitly cast to a compatible dtype first.\n",
      "  result.iloc[idx, -1] = rtn\n",
      "/var/folders/r7/wm80f9fd57g6h8jt36r8dgwh0000gn/T/ipykernel_5216/1199193655.py:33: FutureWarning: Setting an item of incompatible dtype is deprecated and will raise an error in a future version of pandas. Value '0.8157802919708029' has dtype incompatible with int64, please explicitly cast to a compatible dtype first.\n",
      "  result.iloc[idx, -1] = rtn\n",
      "/var/folders/r7/wm80f9fd57g6h8jt36r8dgwh0000gn/T/ipykernel_5216/1199193655.py:33: FutureWarning: Setting an item of incompatible dtype is deprecated and will raise an error in a future version of pandas. Value '0.8344122657580919' has dtype incompatible with int64, please explicitly cast to a compatible dtype first.\n",
      "  result.iloc[idx, -1] = rtn\n",
      "/var/folders/r7/wm80f9fd57g6h8jt36r8dgwh0000gn/T/ipykernel_5216/1199193655.py:33: FutureWarning: Setting an item of incompatible dtype is deprecated and will raise an error in a future version of pandas. Value '0.86957939354418' has dtype incompatible with int64, please explicitly cast to a compatible dtype first.\n",
      "  result.iloc[idx, -1] = rtn\n",
      "/var/folders/r7/wm80f9fd57g6h8jt36r8dgwh0000gn/T/ipykernel_5216/1199193655.py:33: FutureWarning: Setting an item of incompatible dtype is deprecated and will raise an error in a future version of pandas. Value '0.9894241680601581' has dtype incompatible with int64, please explicitly cast to a compatible dtype first.\n",
      "  result.iloc[idx, -1] = rtn\n",
      "/var/folders/r7/wm80f9fd57g6h8jt36r8dgwh0000gn/T/ipykernel_5216/1199193655.py:33: FutureWarning: Setting an item of incompatible dtype is deprecated and will raise an error in a future version of pandas. Value '1.208748375920312' has dtype incompatible with int64, please explicitly cast to a compatible dtype first.\n",
      "  result.iloc[idx, -1] = rtn\n",
      "/var/folders/r7/wm80f9fd57g6h8jt36r8dgwh0000gn/T/ipykernel_5216/1199193655.py:33: FutureWarning: Setting an item of incompatible dtype is deprecated and will raise an error in a future version of pandas. Value '1.06694882647172' has dtype incompatible with int64, please explicitly cast to a compatible dtype first.\n",
      "  result.iloc[idx, -1] = rtn\n",
      "/var/folders/r7/wm80f9fd57g6h8jt36r8dgwh0000gn/T/ipykernel_5216/1199193655.py:33: FutureWarning: Setting an item of incompatible dtype is deprecated and will raise an error in a future version of pandas. Value '1.1229404309252216' has dtype incompatible with int64, please explicitly cast to a compatible dtype first.\n",
      "  result.iloc[idx, -1] = rtn\n",
      "/var/folders/r7/wm80f9fd57g6h8jt36r8dgwh0000gn/T/ipykernel_5216/1199193655.py:33: FutureWarning: Setting an item of incompatible dtype is deprecated and will raise an error in a future version of pandas. Value '1.0250302381913605' has dtype incompatible with int64, please explicitly cast to a compatible dtype first.\n",
      "  result.iloc[idx, -1] = rtn\n",
      "/var/folders/r7/wm80f9fd57g6h8jt36r8dgwh0000gn/T/ipykernel_5216/1199193655.py:33: FutureWarning: Setting an item of incompatible dtype is deprecated and will raise an error in a future version of pandas. Value '0.9642857501594401' has dtype incompatible with int64, please explicitly cast to a compatible dtype first.\n",
      "  result.iloc[idx, -1] = rtn\n",
      "/var/folders/r7/wm80f9fd57g6h8jt36r8dgwh0000gn/T/ipykernel_5216/1199193655.py:33: FutureWarning: Setting an item of incompatible dtype is deprecated and will raise an error in a future version of pandas. Value '0.9780993351583888' has dtype incompatible with int64, please explicitly cast to a compatible dtype first.\n",
      "  result.iloc[idx, -1] = rtn\n"
     ]
    }
   ],
   "source": [
    "rtn_list = []\n",
    "for i in range(1,13):\n",
    "    hw_df, acc_rtn = halloween(df, _mon=i)\n",
    "    rtn_list.append(acc_rtn)\n",
    "    # print(f\"{i}월 부터 6개월간 투자한 수익률 : {acc_rtn}\")\n",
    "\n",
    "max_val = max(rtn_list)\n",
    "max_month = rtn_list.index(max_val) + 1\n",
    "print(f\"최대 수익률을 얻은 월: {max_month}월\")\n",
    "print(f\"\\n{max_month}월의 최대 수익률: {max_val}\\n\")"
   ]
  },
  {
   "cell_type": "code",
   "execution_count": 137,
   "metadata": {},
   "outputs": [
    {
     "name": "stdout",
     "output_type": "stream",
     "text": [
      "10월에 6개월 투자 수익률이 2.4650879004085304입니다\n"
     ]
    },
    {
     "name": "stderr",
     "output_type": "stream",
     "text": [
      "/var/folders/r7/wm80f9fd57g6h8jt36r8dgwh0000gn/T/ipykernel_5216/1199193655.py:33: FutureWarning: Setting an item of incompatible dtype is deprecated and will raise an error in a future version of pandas. Value '0.7514696031525278' has dtype incompatible with int64, please explicitly cast to a compatible dtype first.\n",
      "  result.iloc[idx, -1] = rtn\n",
      "/var/folders/r7/wm80f9fd57g6h8jt36r8dgwh0000gn/T/ipykernel_5216/1199193655.py:33: FutureWarning: Setting an item of incompatible dtype is deprecated and will raise an error in a future version of pandas. Value '0.9091229274083455' has dtype incompatible with int64, please explicitly cast to a compatible dtype first.\n",
      "  result.iloc[idx, -1] = rtn\n",
      "/var/folders/r7/wm80f9fd57g6h8jt36r8dgwh0000gn/T/ipykernel_5216/1199193655.py:33: FutureWarning: Setting an item of incompatible dtype is deprecated and will raise an error in a future version of pandas. Value '0.8157802919708029' has dtype incompatible with int64, please explicitly cast to a compatible dtype first.\n",
      "  result.iloc[idx, -1] = rtn\n",
      "/var/folders/r7/wm80f9fd57g6h8jt36r8dgwh0000gn/T/ipykernel_5216/1199193655.py:33: FutureWarning: Setting an item of incompatible dtype is deprecated and will raise an error in a future version of pandas. Value '0.8344122657580919' has dtype incompatible with int64, please explicitly cast to a compatible dtype first.\n",
      "  result.iloc[idx, -1] = rtn\n",
      "/var/folders/r7/wm80f9fd57g6h8jt36r8dgwh0000gn/T/ipykernel_5216/1199193655.py:33: FutureWarning: Setting an item of incompatible dtype is deprecated and will raise an error in a future version of pandas. Value '0.86957939354418' has dtype incompatible with int64, please explicitly cast to a compatible dtype first.\n",
      "  result.iloc[idx, -1] = rtn\n",
      "/var/folders/r7/wm80f9fd57g6h8jt36r8dgwh0000gn/T/ipykernel_5216/1199193655.py:33: FutureWarning: Setting an item of incompatible dtype is deprecated and will raise an error in a future version of pandas. Value '0.9894241680601581' has dtype incompatible with int64, please explicitly cast to a compatible dtype first.\n",
      "  result.iloc[idx, -1] = rtn\n",
      "/var/folders/r7/wm80f9fd57g6h8jt36r8dgwh0000gn/T/ipykernel_5216/1199193655.py:33: FutureWarning: Setting an item of incompatible dtype is deprecated and will raise an error in a future version of pandas. Value '1.208748375920312' has dtype incompatible with int64, please explicitly cast to a compatible dtype first.\n",
      "  result.iloc[idx, -1] = rtn\n",
      "/var/folders/r7/wm80f9fd57g6h8jt36r8dgwh0000gn/T/ipykernel_5216/1199193655.py:33: FutureWarning: Setting an item of incompatible dtype is deprecated and will raise an error in a future version of pandas. Value '1.06694882647172' has dtype incompatible with int64, please explicitly cast to a compatible dtype first.\n",
      "  result.iloc[idx, -1] = rtn\n",
      "/var/folders/r7/wm80f9fd57g6h8jt36r8dgwh0000gn/T/ipykernel_5216/1199193655.py:33: FutureWarning: Setting an item of incompatible dtype is deprecated and will raise an error in a future version of pandas. Value '1.1229404309252216' has dtype incompatible with int64, please explicitly cast to a compatible dtype first.\n",
      "  result.iloc[idx, -1] = rtn\n",
      "/var/folders/r7/wm80f9fd57g6h8jt36r8dgwh0000gn/T/ipykernel_5216/1199193655.py:33: FutureWarning: Setting an item of incompatible dtype is deprecated and will raise an error in a future version of pandas. Value '1.0250302381913605' has dtype incompatible with int64, please explicitly cast to a compatible dtype first.\n",
      "  result.iloc[idx, -1] = rtn\n",
      "/var/folders/r7/wm80f9fd57g6h8jt36r8dgwh0000gn/T/ipykernel_5216/1199193655.py:33: FutureWarning: Setting an item of incompatible dtype is deprecated and will raise an error in a future version of pandas. Value '0.9642857501594401' has dtype incompatible with int64, please explicitly cast to a compatible dtype first.\n",
      "  result.iloc[idx, -1] = rtn\n",
      "/var/folders/r7/wm80f9fd57g6h8jt36r8dgwh0000gn/T/ipykernel_5216/1199193655.py:33: FutureWarning: Setting an item of incompatible dtype is deprecated and will raise an error in a future version of pandas. Value '0.9780993351583888' has dtype incompatible with int64, please explicitly cast to a compatible dtype first.\n",
      "  result.iloc[idx, -1] = rtn\n"
     ]
    }
   ],
   "source": [
    "rtn_data = 0\n",
    "for i in range(1,13):\n",
    "    hw_df, acc_rtn = halloween(df, _mon=i)\n",
    "    # print(f\"{i}월 부터 6개월간 투자한 수익률 : {acc_rtn}\")\n",
    "    if acc_rtn > rtn_data:\n",
    "        rtn_data = acc_rtn\n",
    "        month_data = i\n",
    "\n",
    "print(f\"{month_data}월에 6개월 투자 수익률이 {rtn_data}입니다\")"
   ]
  },
  {
   "cell_type": "code",
   "execution_count": null,
   "metadata": {},
   "outputs": [],
   "source": []
  }
 ],
 "metadata": {
  "kernelspec": {
   "display_name": "Python 3",
   "language": "python",
   "name": "python3"
  },
  "language_info": {
   "codemirror_mode": {
    "name": "ipython",
    "version": 3
   },
   "file_extension": ".py",
   "mimetype": "text/x-python",
   "name": "python",
   "nbconvert_exporter": "python",
   "pygments_lexer": "ipython3",
   "version": "3.11.0"
  }
 },
 "nbformat": 4,
 "nbformat_minor": 2
}
